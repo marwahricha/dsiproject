{
 "cells": [
  {
   "cell_type": "markdown",
   "metadata": {},
   "source": [
    "# Project 2: Analysis of Ames Housing Data (Preprocessing and Modeling)"
   ]
  },
  {
   "cell_type": "markdown",
   "metadata": {},
   "source": [
    "## Problem Statement\n",
    "The project utilizes the Ames housing dataset to create a model that will help buyers/real estate agents estimate the selling price of a house."
   ]
  },
  {
   "cell_type": "markdown",
   "metadata": {},
   "source": [
    "## Executive Summary\n",
    "\n",
    "### Content:\n",
    "- [Reading in Dataset](#Reading-in-Dataset)\n",
    "- [Pre-processing](#Pre-processing)\n",
    "- [Model Prep](#Model-Prep)\n",
    "- [Model Fitting and Evaluation](#Model-Fitting-and-Evaluation)\n",
    "- [Business Recommendations](#Business-Recommendations)"
   ]
  },
  {
   "cell_type": "code",
   "execution_count": 1,
   "metadata": {},
   "outputs": [],
   "source": [
    "#Importing libraries\n",
    "import pandas as pd\n",
    "import numpy as np\n",
    "import matplotlib.pyplot as plt\n",
    "import seaborn as sns\n",
    "from sklearn.model_selection import train_test_split, cross_val_score\n",
    "from sklearn.linear_model import LinearRegression, Lasso, Ridge, LassoCV, RidgeCV\n",
    "from sklearn.metrics import mean_squared_error, r2_score\n",
    "from sklearn.preprocessing import StandardScaler"
   ]
  },
  {
   "cell_type": "markdown",
   "metadata": {},
   "source": [
    "## Reading in Dataset"
   ]
  },
  {
   "cell_type": "code",
   "execution_count": 2,
   "metadata": {},
   "outputs": [
    {
     "data": {
      "text/html": [
       "<div>\n",
       "<style scoped>\n",
       "    .dataframe tbody tr th:only-of-type {\n",
       "        vertical-align: middle;\n",
       "    }\n",
       "\n",
       "    .dataframe tbody tr th {\n",
       "        vertical-align: top;\n",
       "    }\n",
       "\n",
       "    .dataframe thead th {\n",
       "        text-align: right;\n",
       "    }\n",
       "</style>\n",
       "<table border=\"1\" class=\"dataframe\">\n",
       "  <thead>\n",
       "    <tr style=\"text-align: right;\">\n",
       "      <th></th>\n",
       "      <th>Id</th>\n",
       "      <th>MS SubClass</th>\n",
       "      <th>MS Zoning</th>\n",
       "      <th>Lot Frontage</th>\n",
       "      <th>Lot Area</th>\n",
       "      <th>Street</th>\n",
       "      <th>Land Contour</th>\n",
       "      <th>Neighborhood</th>\n",
       "      <th>Condition 1</th>\n",
       "      <th>Condition 2</th>\n",
       "      <th>...</th>\n",
       "      <th>Garage Area</th>\n",
       "      <th>Garage Qual</th>\n",
       "      <th>Garage Cond</th>\n",
       "      <th>Wood Deck SF</th>\n",
       "      <th>Open Porch SF</th>\n",
       "      <th>Sale Type</th>\n",
       "      <th>SalePrice</th>\n",
       "      <th>Age Sold</th>\n",
       "      <th>TotBath Bsmt</th>\n",
       "      <th>TotBath AbvGr</th>\n",
       "    </tr>\n",
       "  </thead>\n",
       "  <tbody>\n",
       "    <tr>\n",
       "      <th>0</th>\n",
       "      <td>109</td>\n",
       "      <td>60</td>\n",
       "      <td>RL</td>\n",
       "      <td>69.0552</td>\n",
       "      <td>13517</td>\n",
       "      <td>Pave</td>\n",
       "      <td>Lvl</td>\n",
       "      <td>Sawyer</td>\n",
       "      <td>RRAe</td>\n",
       "      <td>Norm</td>\n",
       "      <td>...</td>\n",
       "      <td>475.0</td>\n",
       "      <td>TA</td>\n",
       "      <td>TA</td>\n",
       "      <td>0</td>\n",
       "      <td>44</td>\n",
       "      <td>WD</td>\n",
       "      <td>130500</td>\n",
       "      <td>34</td>\n",
       "      <td>0.0</td>\n",
       "      <td>3</td>\n",
       "    </tr>\n",
       "    <tr>\n",
       "      <th>1</th>\n",
       "      <td>544</td>\n",
       "      <td>60</td>\n",
       "      <td>RL</td>\n",
       "      <td>43.0000</td>\n",
       "      <td>11492</td>\n",
       "      <td>Pave</td>\n",
       "      <td>Lvl</td>\n",
       "      <td>SawyerW</td>\n",
       "      <td>Norm</td>\n",
       "      <td>Norm</td>\n",
       "      <td>...</td>\n",
       "      <td>559.0</td>\n",
       "      <td>TA</td>\n",
       "      <td>TA</td>\n",
       "      <td>0</td>\n",
       "      <td>74</td>\n",
       "      <td>WD</td>\n",
       "      <td>220000</td>\n",
       "      <td>13</td>\n",
       "      <td>1.0</td>\n",
       "      <td>3</td>\n",
       "    </tr>\n",
       "    <tr>\n",
       "      <th>2</th>\n",
       "      <td>153</td>\n",
       "      <td>20</td>\n",
       "      <td>RL</td>\n",
       "      <td>68.0000</td>\n",
       "      <td>7922</td>\n",
       "      <td>Pave</td>\n",
       "      <td>Lvl</td>\n",
       "      <td>NAmes</td>\n",
       "      <td>Norm</td>\n",
       "      <td>Norm</td>\n",
       "      <td>...</td>\n",
       "      <td>246.0</td>\n",
       "      <td>TA</td>\n",
       "      <td>TA</td>\n",
       "      <td>0</td>\n",
       "      <td>52</td>\n",
       "      <td>WD</td>\n",
       "      <td>109000</td>\n",
       "      <td>57</td>\n",
       "      <td>1.0</td>\n",
       "      <td>1</td>\n",
       "    </tr>\n",
       "    <tr>\n",
       "      <th>3</th>\n",
       "      <td>318</td>\n",
       "      <td>60</td>\n",
       "      <td>RL</td>\n",
       "      <td>73.0000</td>\n",
       "      <td>9802</td>\n",
       "      <td>Pave</td>\n",
       "      <td>Lvl</td>\n",
       "      <td>Timber</td>\n",
       "      <td>Norm</td>\n",
       "      <td>Norm</td>\n",
       "      <td>...</td>\n",
       "      <td>400.0</td>\n",
       "      <td>TA</td>\n",
       "      <td>TA</td>\n",
       "      <td>100</td>\n",
       "      <td>0</td>\n",
       "      <td>WD</td>\n",
       "      <td>174000</td>\n",
       "      <td>4</td>\n",
       "      <td>0.0</td>\n",
       "      <td>3</td>\n",
       "    </tr>\n",
       "    <tr>\n",
       "      <th>4</th>\n",
       "      <td>255</td>\n",
       "      <td>50</td>\n",
       "      <td>RL</td>\n",
       "      <td>82.0000</td>\n",
       "      <td>14235</td>\n",
       "      <td>Pave</td>\n",
       "      <td>Lvl</td>\n",
       "      <td>SawyerW</td>\n",
       "      <td>Norm</td>\n",
       "      <td>Norm</td>\n",
       "      <td>...</td>\n",
       "      <td>484.0</td>\n",
       "      <td>TA</td>\n",
       "      <td>TA</td>\n",
       "      <td>0</td>\n",
       "      <td>59</td>\n",
       "      <td>WD</td>\n",
       "      <td>138500</td>\n",
       "      <td>110</td>\n",
       "      <td>0.0</td>\n",
       "      <td>2</td>\n",
       "    </tr>\n",
       "  </tbody>\n",
       "</table>\n",
       "<p>5 rows × 51 columns</p>\n",
       "</div>"
      ],
      "text/plain": [
       "    Id  MS SubClass MS Zoning  Lot Frontage  Lot Area Street Land Contour  \\\n",
       "0  109           60        RL       69.0552     13517   Pave          Lvl   \n",
       "1  544           60        RL       43.0000     11492   Pave          Lvl   \n",
       "2  153           20        RL       68.0000      7922   Pave          Lvl   \n",
       "3  318           60        RL       73.0000      9802   Pave          Lvl   \n",
       "4  255           50        RL       82.0000     14235   Pave          Lvl   \n",
       "\n",
       "  Neighborhood Condition 1 Condition 2  ... Garage Area  Garage Qual  \\\n",
       "0       Sawyer        RRAe        Norm  ...       475.0           TA   \n",
       "1      SawyerW        Norm        Norm  ...       559.0           TA   \n",
       "2        NAmes        Norm        Norm  ...       246.0           TA   \n",
       "3       Timber        Norm        Norm  ...       400.0           TA   \n",
       "4      SawyerW        Norm        Norm  ...       484.0           TA   \n",
       "\n",
       "   Garage Cond  Wood Deck SF Open Porch SF Sale Type SalePrice  Age Sold  \\\n",
       "0           TA             0            44       WD     130500        34   \n",
       "1           TA             0            74       WD     220000        13   \n",
       "2           TA             0            52       WD     109000        57   \n",
       "3           TA           100             0       WD     174000         4   \n",
       "4           TA             0            59       WD     138500       110   \n",
       "\n",
       "  TotBath Bsmt TotBath AbvGr  \n",
       "0          0.0             3  \n",
       "1          1.0             3  \n",
       "2          1.0             1  \n",
       "3          0.0             3  \n",
       "4          0.0             2  \n",
       "\n",
       "[5 rows x 51 columns]"
      ]
     },
     "execution_count": 2,
     "metadata": {},
     "output_type": "execute_result"
    }
   ],
   "source": [
    "#Reading in updated training data\n",
    "ames_train_clean = pd.read_csv('../datasets/train_cleaned.csv')\n",
    "ames_train_clean.head()"
   ]
  },
  {
   "cell_type": "code",
   "execution_count": 3,
   "metadata": {},
   "outputs": [
    {
     "data": {
      "text/html": [
       "<div>\n",
       "<style scoped>\n",
       "    .dataframe tbody tr th:only-of-type {\n",
       "        vertical-align: middle;\n",
       "    }\n",
       "\n",
       "    .dataframe tbody tr th {\n",
       "        vertical-align: top;\n",
       "    }\n",
       "\n",
       "    .dataframe thead th {\n",
       "        text-align: right;\n",
       "    }\n",
       "</style>\n",
       "<table border=\"1\" class=\"dataframe\">\n",
       "  <thead>\n",
       "    <tr style=\"text-align: right;\">\n",
       "      <th></th>\n",
       "      <th>MS SubClass</th>\n",
       "      <th>MS Zoning</th>\n",
       "      <th>Lot Frontage</th>\n",
       "      <th>Lot Area</th>\n",
       "      <th>Street</th>\n",
       "      <th>Land Contour</th>\n",
       "      <th>Neighborhood</th>\n",
       "      <th>Condition 1</th>\n",
       "      <th>Condition 2</th>\n",
       "      <th>House Style</th>\n",
       "      <th>...</th>\n",
       "      <th>Garage Area</th>\n",
       "      <th>Garage Qual</th>\n",
       "      <th>Garage Cond</th>\n",
       "      <th>Wood Deck SF</th>\n",
       "      <th>Open Porch SF</th>\n",
       "      <th>Sale Type</th>\n",
       "      <th>SalePrice</th>\n",
       "      <th>Age Sold</th>\n",
       "      <th>TotBath Bsmt</th>\n",
       "      <th>TotBath AbvGr</th>\n",
       "    </tr>\n",
       "    <tr>\n",
       "      <th>Id</th>\n",
       "      <th></th>\n",
       "      <th></th>\n",
       "      <th></th>\n",
       "      <th></th>\n",
       "      <th></th>\n",
       "      <th></th>\n",
       "      <th></th>\n",
       "      <th></th>\n",
       "      <th></th>\n",
       "      <th></th>\n",
       "      <th></th>\n",
       "      <th></th>\n",
       "      <th></th>\n",
       "      <th></th>\n",
       "      <th></th>\n",
       "      <th></th>\n",
       "      <th></th>\n",
       "      <th></th>\n",
       "      <th></th>\n",
       "      <th></th>\n",
       "      <th></th>\n",
       "    </tr>\n",
       "  </thead>\n",
       "  <tbody>\n",
       "    <tr>\n",
       "      <th>109</th>\n",
       "      <td>60</td>\n",
       "      <td>RL</td>\n",
       "      <td>69.0552</td>\n",
       "      <td>13517</td>\n",
       "      <td>Pave</td>\n",
       "      <td>Lvl</td>\n",
       "      <td>Sawyer</td>\n",
       "      <td>RRAe</td>\n",
       "      <td>Norm</td>\n",
       "      <td>2Story</td>\n",
       "      <td>...</td>\n",
       "      <td>475.0</td>\n",
       "      <td>TA</td>\n",
       "      <td>TA</td>\n",
       "      <td>0</td>\n",
       "      <td>44</td>\n",
       "      <td>WD</td>\n",
       "      <td>130500</td>\n",
       "      <td>34</td>\n",
       "      <td>0.0</td>\n",
       "      <td>3</td>\n",
       "    </tr>\n",
       "    <tr>\n",
       "      <th>544</th>\n",
       "      <td>60</td>\n",
       "      <td>RL</td>\n",
       "      <td>43.0000</td>\n",
       "      <td>11492</td>\n",
       "      <td>Pave</td>\n",
       "      <td>Lvl</td>\n",
       "      <td>SawyerW</td>\n",
       "      <td>Norm</td>\n",
       "      <td>Norm</td>\n",
       "      <td>2Story</td>\n",
       "      <td>...</td>\n",
       "      <td>559.0</td>\n",
       "      <td>TA</td>\n",
       "      <td>TA</td>\n",
       "      <td>0</td>\n",
       "      <td>74</td>\n",
       "      <td>WD</td>\n",
       "      <td>220000</td>\n",
       "      <td>13</td>\n",
       "      <td>1.0</td>\n",
       "      <td>3</td>\n",
       "    </tr>\n",
       "    <tr>\n",
       "      <th>153</th>\n",
       "      <td>20</td>\n",
       "      <td>RL</td>\n",
       "      <td>68.0000</td>\n",
       "      <td>7922</td>\n",
       "      <td>Pave</td>\n",
       "      <td>Lvl</td>\n",
       "      <td>NAmes</td>\n",
       "      <td>Norm</td>\n",
       "      <td>Norm</td>\n",
       "      <td>1Story</td>\n",
       "      <td>...</td>\n",
       "      <td>246.0</td>\n",
       "      <td>TA</td>\n",
       "      <td>TA</td>\n",
       "      <td>0</td>\n",
       "      <td>52</td>\n",
       "      <td>WD</td>\n",
       "      <td>109000</td>\n",
       "      <td>57</td>\n",
       "      <td>1.0</td>\n",
       "      <td>1</td>\n",
       "    </tr>\n",
       "    <tr>\n",
       "      <th>318</th>\n",
       "      <td>60</td>\n",
       "      <td>RL</td>\n",
       "      <td>73.0000</td>\n",
       "      <td>9802</td>\n",
       "      <td>Pave</td>\n",
       "      <td>Lvl</td>\n",
       "      <td>Timber</td>\n",
       "      <td>Norm</td>\n",
       "      <td>Norm</td>\n",
       "      <td>2Story</td>\n",
       "      <td>...</td>\n",
       "      <td>400.0</td>\n",
       "      <td>TA</td>\n",
       "      <td>TA</td>\n",
       "      <td>100</td>\n",
       "      <td>0</td>\n",
       "      <td>WD</td>\n",
       "      <td>174000</td>\n",
       "      <td>4</td>\n",
       "      <td>0.0</td>\n",
       "      <td>3</td>\n",
       "    </tr>\n",
       "    <tr>\n",
       "      <th>255</th>\n",
       "      <td>50</td>\n",
       "      <td>RL</td>\n",
       "      <td>82.0000</td>\n",
       "      <td>14235</td>\n",
       "      <td>Pave</td>\n",
       "      <td>Lvl</td>\n",
       "      <td>SawyerW</td>\n",
       "      <td>Norm</td>\n",
       "      <td>Norm</td>\n",
       "      <td>1.5Fin</td>\n",
       "      <td>...</td>\n",
       "      <td>484.0</td>\n",
       "      <td>TA</td>\n",
       "      <td>TA</td>\n",
       "      <td>0</td>\n",
       "      <td>59</td>\n",
       "      <td>WD</td>\n",
       "      <td>138500</td>\n",
       "      <td>110</td>\n",
       "      <td>0.0</td>\n",
       "      <td>2</td>\n",
       "    </tr>\n",
       "  </tbody>\n",
       "</table>\n",
       "<p>5 rows × 50 columns</p>\n",
       "</div>"
      ],
      "text/plain": [
       "     MS SubClass MS Zoning  Lot Frontage  Lot Area Street Land Contour  \\\n",
       "Id                                                                       \n",
       "109           60        RL       69.0552     13517   Pave          Lvl   \n",
       "544           60        RL       43.0000     11492   Pave          Lvl   \n",
       "153           20        RL       68.0000      7922   Pave          Lvl   \n",
       "318           60        RL       73.0000      9802   Pave          Lvl   \n",
       "255           50        RL       82.0000     14235   Pave          Lvl   \n",
       "\n",
       "    Neighborhood Condition 1 Condition 2 House Style  ...  Garage Area  \\\n",
       "Id                                                    ...                \n",
       "109       Sawyer        RRAe        Norm      2Story  ...        475.0   \n",
       "544      SawyerW        Norm        Norm      2Story  ...        559.0   \n",
       "153        NAmes        Norm        Norm      1Story  ...        246.0   \n",
       "318       Timber        Norm        Norm      2Story  ...        400.0   \n",
       "255      SawyerW        Norm        Norm      1.5Fin  ...        484.0   \n",
       "\n",
       "     Garage Qual  Garage Cond Wood Deck SF Open Porch SF Sale Type  SalePrice  \\\n",
       "Id                                                                              \n",
       "109           TA           TA            0            44       WD      130500   \n",
       "544           TA           TA            0            74       WD      220000   \n",
       "153           TA           TA            0            52       WD      109000   \n",
       "318           TA           TA          100             0       WD      174000   \n",
       "255           TA           TA            0            59       WD      138500   \n",
       "\n",
       "    Age Sold TotBath Bsmt TotBath AbvGr  \n",
       "Id                                       \n",
       "109       34          0.0             3  \n",
       "544       13          1.0             3  \n",
       "153       57          1.0             1  \n",
       "318        4          0.0             3  \n",
       "255      110          0.0             2  \n",
       "\n",
       "[5 rows x 50 columns]"
      ]
     },
     "execution_count": 3,
     "metadata": {},
     "output_type": "execute_result"
    }
   ],
   "source": [
    "ames_train_clean = ames_train_clean.set_index('Id', drop=True)\n",
    "ames_train_clean.head()"
   ]
  },
  {
   "cell_type": "code",
   "execution_count": 4,
   "metadata": {
    "scrolled": true
   },
   "outputs": [
    {
     "name": "stdout",
     "output_type": "stream",
     "text": [
      "<class 'pandas.core.frame.DataFrame'>\n",
      "Int64Index: 1864 entries, 109 to 10\n",
      "Data columns (total 50 columns):\n",
      " #   Column          Non-Null Count  Dtype  \n",
      "---  ------          --------------  -----  \n",
      " 0   MS SubClass     1864 non-null   int64  \n",
      " 1   MS Zoning       1864 non-null   object \n",
      " 2   Lot Frontage    1864 non-null   float64\n",
      " 3   Lot Area        1864 non-null   int64  \n",
      " 4   Street          1864 non-null   object \n",
      " 5   Land Contour    1864 non-null   object \n",
      " 6   Neighborhood    1864 non-null   object \n",
      " 7   Condition 1     1864 non-null   object \n",
      " 8   Condition 2     1864 non-null   object \n",
      " 9   House Style     1864 non-null   object \n",
      " 10  Overall Qual    1864 non-null   int64  \n",
      " 11  Overall Cond    1864 non-null   int64  \n",
      " 12  Year Remod/Add  1864 non-null   int64  \n",
      " 13  Roof Matl       1864 non-null   object \n",
      " 14  Exterior 1st    1864 non-null   object \n",
      " 15  Exterior 2nd    1864 non-null   object \n",
      " 16  Mas Vnr Area    1864 non-null   float64\n",
      " 17  Exter Qual      1864 non-null   object \n",
      " 18  Exter Cond      1864 non-null   object \n",
      " 19  Foundation      1864 non-null   object \n",
      " 20  Bsmt Qual       1864 non-null   object \n",
      " 21  Bsmt Cond       1864 non-null   object \n",
      " 22  Bsmt Exposure   1864 non-null   object \n",
      " 23  BsmtFin SF 1    1864 non-null   float64\n",
      " 24  Central Air     1864 non-null   object \n",
      " 25  Electrical      1864 non-null   object \n",
      " 26  1st Flr SF      1864 non-null   int64  \n",
      " 27  2nd Flr SF      1864 non-null   int64  \n",
      " 28  Gr Liv Area     1864 non-null   int64  \n",
      " 29  Bedroom AbvGr   1864 non-null   int64  \n",
      " 30  Kitchen AbvGr   1864 non-null   int64  \n",
      " 31  Kitchen Qual    1864 non-null   object \n",
      " 32  TotRms AbvGrd   1864 non-null   int64  \n",
      " 33  Functional      1864 non-null   object \n",
      " 34  Fireplaces      1864 non-null   int64  \n",
      " 35  Fireplace Qu    1864 non-null   object \n",
      " 36  Garage Type     1864 non-null   object \n",
      " 37  Garage Yr Blt   1864 non-null   float64\n",
      " 38  Garage Finish   1864 non-null   object \n",
      " 39  Garage Cars     1864 non-null   float64\n",
      " 40  Garage Area     1864 non-null   float64\n",
      " 41  Garage Qual     1864 non-null   object \n",
      " 42  Garage Cond     1864 non-null   object \n",
      " 43  Wood Deck SF    1864 non-null   int64  \n",
      " 44  Open Porch SF   1864 non-null   int64  \n",
      " 45  Sale Type       1864 non-null   object \n",
      " 46  SalePrice       1864 non-null   int64  \n",
      " 47  Age Sold        1864 non-null   int64  \n",
      " 48  TotBath Bsmt    1864 non-null   float64\n",
      " 49  TotBath AbvGr   1864 non-null   int64  \n",
      "dtypes: float64(7), int64(17), object(26)\n",
      "memory usage: 742.7+ KB\n"
     ]
    }
   ],
   "source": [
    "ames_train_clean.info()"
   ]
  },
  {
   "cell_type": "markdown",
   "metadata": {},
   "source": [
    "<i> Ensuring categorical variables are reflected as such after reading in the clean dataset. </i>"
   ]
  },
  {
   "cell_type": "code",
   "execution_count": 5,
   "metadata": {},
   "outputs": [],
   "source": [
    "ames_train_clean['MS SubClass'] = ames_train_clean['MS SubClass'].astype(str)\n",
    "ames_train_clean['Overall Qual'] = ames_train_clean['Overall Cond'].astype(str)\n",
    "ames_train_clean['Overall Qual'] = ames_train_clean['Overall Cond'].astype(str)"
   ]
  },
  {
   "cell_type": "code",
   "execution_count": 6,
   "metadata": {
    "scrolled": true
   },
   "outputs": [
    {
     "data": {
      "text/html": [
       "<div>\n",
       "<style scoped>\n",
       "    .dataframe tbody tr th:only-of-type {\n",
       "        vertical-align: middle;\n",
       "    }\n",
       "\n",
       "    .dataframe tbody tr th {\n",
       "        vertical-align: top;\n",
       "    }\n",
       "\n",
       "    .dataframe thead th {\n",
       "        text-align: right;\n",
       "    }\n",
       "</style>\n",
       "<table border=\"1\" class=\"dataframe\">\n",
       "  <thead>\n",
       "    <tr style=\"text-align: right;\">\n",
       "      <th></th>\n",
       "      <th>Id</th>\n",
       "      <th>MS SubClass</th>\n",
       "      <th>MS Zoning</th>\n",
       "      <th>Lot Frontage</th>\n",
       "      <th>Lot Area</th>\n",
       "      <th>Street</th>\n",
       "      <th>Land Contour</th>\n",
       "      <th>Neighborhood</th>\n",
       "      <th>Condition 1</th>\n",
       "      <th>Condition 2</th>\n",
       "      <th>...</th>\n",
       "      <th>Garage Cars</th>\n",
       "      <th>Garage Area</th>\n",
       "      <th>Garage Qual</th>\n",
       "      <th>Garage Cond</th>\n",
       "      <th>Wood Deck SF</th>\n",
       "      <th>Open Porch SF</th>\n",
       "      <th>Sale Type</th>\n",
       "      <th>Age Sold</th>\n",
       "      <th>TotBath Bsmt</th>\n",
       "      <th>TotBath AbvGr</th>\n",
       "    </tr>\n",
       "  </thead>\n",
       "  <tbody>\n",
       "    <tr>\n",
       "      <th>0</th>\n",
       "      <td>2658</td>\n",
       "      <td>190</td>\n",
       "      <td>RM</td>\n",
       "      <td>69.000000</td>\n",
       "      <td>9142</td>\n",
       "      <td>Pave</td>\n",
       "      <td>Lvl</td>\n",
       "      <td>OldTown</td>\n",
       "      <td>Norm</td>\n",
       "      <td>Norm</td>\n",
       "      <td>...</td>\n",
       "      <td>1</td>\n",
       "      <td>440</td>\n",
       "      <td>Po</td>\n",
       "      <td>Po</td>\n",
       "      <td>0</td>\n",
       "      <td>60</td>\n",
       "      <td>WD</td>\n",
       "      <td>96</td>\n",
       "      <td>0.0</td>\n",
       "      <td>2</td>\n",
       "    </tr>\n",
       "    <tr>\n",
       "      <th>1</th>\n",
       "      <td>2718</td>\n",
       "      <td>90</td>\n",
       "      <td>RL</td>\n",
       "      <td>69.630042</td>\n",
       "      <td>9662</td>\n",
       "      <td>Pave</td>\n",
       "      <td>Lvl</td>\n",
       "      <td>Sawyer</td>\n",
       "      <td>Norm</td>\n",
       "      <td>Norm</td>\n",
       "      <td>...</td>\n",
       "      <td>2</td>\n",
       "      <td>580</td>\n",
       "      <td>TA</td>\n",
       "      <td>TA</td>\n",
       "      <td>170</td>\n",
       "      <td>0</td>\n",
       "      <td>WD</td>\n",
       "      <td>29</td>\n",
       "      <td>0.0</td>\n",
       "      <td>2</td>\n",
       "    </tr>\n",
       "    <tr>\n",
       "      <th>2</th>\n",
       "      <td>2414</td>\n",
       "      <td>60</td>\n",
       "      <td>RL</td>\n",
       "      <td>58.000000</td>\n",
       "      <td>17104</td>\n",
       "      <td>Pave</td>\n",
       "      <td>Lvl</td>\n",
       "      <td>Gilbert</td>\n",
       "      <td>Norm</td>\n",
       "      <td>Norm</td>\n",
       "      <td>...</td>\n",
       "      <td>2</td>\n",
       "      <td>426</td>\n",
       "      <td>TA</td>\n",
       "      <td>TA</td>\n",
       "      <td>100</td>\n",
       "      <td>24</td>\n",
       "      <td>New</td>\n",
       "      <td>0</td>\n",
       "      <td>1.0</td>\n",
       "      <td>3</td>\n",
       "    </tr>\n",
       "    <tr>\n",
       "      <th>3</th>\n",
       "      <td>1989</td>\n",
       "      <td>30</td>\n",
       "      <td>RM</td>\n",
       "      <td>60.000000</td>\n",
       "      <td>8520</td>\n",
       "      <td>Pave</td>\n",
       "      <td>Lvl</td>\n",
       "      <td>OldTown</td>\n",
       "      <td>Norm</td>\n",
       "      <td>Norm</td>\n",
       "      <td>...</td>\n",
       "      <td>2</td>\n",
       "      <td>480</td>\n",
       "      <td>Fa</td>\n",
       "      <td>TA</td>\n",
       "      <td>0</td>\n",
       "      <td>0</td>\n",
       "      <td>WD</td>\n",
       "      <td>84</td>\n",
       "      <td>0.0</td>\n",
       "      <td>1</td>\n",
       "    </tr>\n",
       "    <tr>\n",
       "      <th>4</th>\n",
       "      <td>625</td>\n",
       "      <td>20</td>\n",
       "      <td>RL</td>\n",
       "      <td>69.630042</td>\n",
       "      <td>9500</td>\n",
       "      <td>Pave</td>\n",
       "      <td>Lvl</td>\n",
       "      <td>NAmes</td>\n",
       "      <td>Norm</td>\n",
       "      <td>Norm</td>\n",
       "      <td>...</td>\n",
       "      <td>2</td>\n",
       "      <td>514</td>\n",
       "      <td>TA</td>\n",
       "      <td>TA</td>\n",
       "      <td>0</td>\n",
       "      <td>76</td>\n",
       "      <td>WD</td>\n",
       "      <td>46</td>\n",
       "      <td>1.0</td>\n",
       "      <td>2</td>\n",
       "    </tr>\n",
       "  </tbody>\n",
       "</table>\n",
       "<p>5 rows × 50 columns</p>\n",
       "</div>"
      ],
      "text/plain": [
       "     Id  MS SubClass MS Zoning  Lot Frontage  Lot Area Street Land Contour  \\\n",
       "0  2658          190        RM     69.000000      9142   Pave          Lvl   \n",
       "1  2718           90        RL     69.630042      9662   Pave          Lvl   \n",
       "2  2414           60        RL     58.000000     17104   Pave          Lvl   \n",
       "3  1989           30        RM     60.000000      8520   Pave          Lvl   \n",
       "4   625           20        RL     69.630042      9500   Pave          Lvl   \n",
       "\n",
       "  Neighborhood Condition 1 Condition 2  ... Garage Cars  Garage Area  \\\n",
       "0      OldTown        Norm        Norm  ...           1          440   \n",
       "1       Sawyer        Norm        Norm  ...           2          580   \n",
       "2      Gilbert        Norm        Norm  ...           2          426   \n",
       "3      OldTown        Norm        Norm  ...           2          480   \n",
       "4        NAmes        Norm        Norm  ...           2          514   \n",
       "\n",
       "   Garage Qual  Garage Cond Wood Deck SF Open Porch SF Sale Type  Age Sold  \\\n",
       "0           Po           Po            0            60       WD         96   \n",
       "1           TA           TA          170             0       WD         29   \n",
       "2           TA           TA          100            24       New         0   \n",
       "3           Fa           TA            0             0       WD         84   \n",
       "4           TA           TA            0            76       WD         46   \n",
       "\n",
       "  TotBath Bsmt TotBath AbvGr  \n",
       "0          0.0             2  \n",
       "1          0.0             2  \n",
       "2          1.0             3  \n",
       "3          0.0             1  \n",
       "4          1.0             2  \n",
       "\n",
       "[5 rows x 50 columns]"
      ]
     },
     "execution_count": 6,
     "metadata": {},
     "output_type": "execute_result"
    }
   ],
   "source": [
    "#Reading in updated test data\n",
    "ames_test_clean = pd.read_csv('../datasets/test_cleaned.csv')\n",
    "ames_test_clean.head()"
   ]
  },
  {
   "cell_type": "code",
   "execution_count": 7,
   "metadata": {},
   "outputs": [
    {
     "data": {
      "text/html": [
       "<div>\n",
       "<style scoped>\n",
       "    .dataframe tbody tr th:only-of-type {\n",
       "        vertical-align: middle;\n",
       "    }\n",
       "\n",
       "    .dataframe tbody tr th {\n",
       "        vertical-align: top;\n",
       "    }\n",
       "\n",
       "    .dataframe thead th {\n",
       "        text-align: right;\n",
       "    }\n",
       "</style>\n",
       "<table border=\"1\" class=\"dataframe\">\n",
       "  <thead>\n",
       "    <tr style=\"text-align: right;\">\n",
       "      <th></th>\n",
       "      <th>MS SubClass</th>\n",
       "      <th>MS Zoning</th>\n",
       "      <th>Lot Frontage</th>\n",
       "      <th>Lot Area</th>\n",
       "      <th>Street</th>\n",
       "      <th>Land Contour</th>\n",
       "      <th>Neighborhood</th>\n",
       "      <th>Condition 1</th>\n",
       "      <th>Condition 2</th>\n",
       "      <th>House Style</th>\n",
       "      <th>...</th>\n",
       "      <th>Garage Cars</th>\n",
       "      <th>Garage Area</th>\n",
       "      <th>Garage Qual</th>\n",
       "      <th>Garage Cond</th>\n",
       "      <th>Wood Deck SF</th>\n",
       "      <th>Open Porch SF</th>\n",
       "      <th>Sale Type</th>\n",
       "      <th>Age Sold</th>\n",
       "      <th>TotBath Bsmt</th>\n",
       "      <th>TotBath AbvGr</th>\n",
       "    </tr>\n",
       "    <tr>\n",
       "      <th>Id</th>\n",
       "      <th></th>\n",
       "      <th></th>\n",
       "      <th></th>\n",
       "      <th></th>\n",
       "      <th></th>\n",
       "      <th></th>\n",
       "      <th></th>\n",
       "      <th></th>\n",
       "      <th></th>\n",
       "      <th></th>\n",
       "      <th></th>\n",
       "      <th></th>\n",
       "      <th></th>\n",
       "      <th></th>\n",
       "      <th></th>\n",
       "      <th></th>\n",
       "      <th></th>\n",
       "      <th></th>\n",
       "      <th></th>\n",
       "      <th></th>\n",
       "      <th></th>\n",
       "    </tr>\n",
       "  </thead>\n",
       "  <tbody>\n",
       "    <tr>\n",
       "      <th>2658</th>\n",
       "      <td>190</td>\n",
       "      <td>RM</td>\n",
       "      <td>69.000000</td>\n",
       "      <td>9142</td>\n",
       "      <td>Pave</td>\n",
       "      <td>Lvl</td>\n",
       "      <td>OldTown</td>\n",
       "      <td>Norm</td>\n",
       "      <td>Norm</td>\n",
       "      <td>2Story</td>\n",
       "      <td>...</td>\n",
       "      <td>1</td>\n",
       "      <td>440</td>\n",
       "      <td>Po</td>\n",
       "      <td>Po</td>\n",
       "      <td>0</td>\n",
       "      <td>60</td>\n",
       "      <td>WD</td>\n",
       "      <td>96</td>\n",
       "      <td>0.0</td>\n",
       "      <td>2</td>\n",
       "    </tr>\n",
       "    <tr>\n",
       "      <th>2718</th>\n",
       "      <td>90</td>\n",
       "      <td>RL</td>\n",
       "      <td>69.630042</td>\n",
       "      <td>9662</td>\n",
       "      <td>Pave</td>\n",
       "      <td>Lvl</td>\n",
       "      <td>Sawyer</td>\n",
       "      <td>Norm</td>\n",
       "      <td>Norm</td>\n",
       "      <td>1Story</td>\n",
       "      <td>...</td>\n",
       "      <td>2</td>\n",
       "      <td>580</td>\n",
       "      <td>TA</td>\n",
       "      <td>TA</td>\n",
       "      <td>170</td>\n",
       "      <td>0</td>\n",
       "      <td>WD</td>\n",
       "      <td>29</td>\n",
       "      <td>0.0</td>\n",
       "      <td>2</td>\n",
       "    </tr>\n",
       "    <tr>\n",
       "      <th>2414</th>\n",
       "      <td>60</td>\n",
       "      <td>RL</td>\n",
       "      <td>58.000000</td>\n",
       "      <td>17104</td>\n",
       "      <td>Pave</td>\n",
       "      <td>Lvl</td>\n",
       "      <td>Gilbert</td>\n",
       "      <td>Norm</td>\n",
       "      <td>Norm</td>\n",
       "      <td>2Story</td>\n",
       "      <td>...</td>\n",
       "      <td>2</td>\n",
       "      <td>426</td>\n",
       "      <td>TA</td>\n",
       "      <td>TA</td>\n",
       "      <td>100</td>\n",
       "      <td>24</td>\n",
       "      <td>New</td>\n",
       "      <td>0</td>\n",
       "      <td>1.0</td>\n",
       "      <td>3</td>\n",
       "    </tr>\n",
       "    <tr>\n",
       "      <th>1989</th>\n",
       "      <td>30</td>\n",
       "      <td>RM</td>\n",
       "      <td>60.000000</td>\n",
       "      <td>8520</td>\n",
       "      <td>Pave</td>\n",
       "      <td>Lvl</td>\n",
       "      <td>OldTown</td>\n",
       "      <td>Norm</td>\n",
       "      <td>Norm</td>\n",
       "      <td>1Story</td>\n",
       "      <td>...</td>\n",
       "      <td>2</td>\n",
       "      <td>480</td>\n",
       "      <td>Fa</td>\n",
       "      <td>TA</td>\n",
       "      <td>0</td>\n",
       "      <td>0</td>\n",
       "      <td>WD</td>\n",
       "      <td>84</td>\n",
       "      <td>0.0</td>\n",
       "      <td>1</td>\n",
       "    </tr>\n",
       "    <tr>\n",
       "      <th>625</th>\n",
       "      <td>20</td>\n",
       "      <td>RL</td>\n",
       "      <td>69.630042</td>\n",
       "      <td>9500</td>\n",
       "      <td>Pave</td>\n",
       "      <td>Lvl</td>\n",
       "      <td>NAmes</td>\n",
       "      <td>Norm</td>\n",
       "      <td>Norm</td>\n",
       "      <td>1Story</td>\n",
       "      <td>...</td>\n",
       "      <td>2</td>\n",
       "      <td>514</td>\n",
       "      <td>TA</td>\n",
       "      <td>TA</td>\n",
       "      <td>0</td>\n",
       "      <td>76</td>\n",
       "      <td>WD</td>\n",
       "      <td>46</td>\n",
       "      <td>1.0</td>\n",
       "      <td>2</td>\n",
       "    </tr>\n",
       "  </tbody>\n",
       "</table>\n",
       "<p>5 rows × 49 columns</p>\n",
       "</div>"
      ],
      "text/plain": [
       "      MS SubClass MS Zoning  Lot Frontage  Lot Area Street Land Contour  \\\n",
       "Id                                                                        \n",
       "2658          190        RM     69.000000      9142   Pave          Lvl   \n",
       "2718           90        RL     69.630042      9662   Pave          Lvl   \n",
       "2414           60        RL     58.000000     17104   Pave          Lvl   \n",
       "1989           30        RM     60.000000      8520   Pave          Lvl   \n",
       "625            20        RL     69.630042      9500   Pave          Lvl   \n",
       "\n",
       "     Neighborhood Condition 1 Condition 2 House Style  ...  Garage Cars  \\\n",
       "Id                                                     ...                \n",
       "2658      OldTown        Norm        Norm      2Story  ...            1   \n",
       "2718       Sawyer        Norm        Norm      1Story  ...            2   \n",
       "2414      Gilbert        Norm        Norm      2Story  ...            2   \n",
       "1989      OldTown        Norm        Norm      1Story  ...            2   \n",
       "625         NAmes        Norm        Norm      1Story  ...            2   \n",
       "\n",
       "      Garage Area  Garage Qual Garage Cond Wood Deck SF Open Porch SF  \\\n",
       "Id                                                                      \n",
       "2658          440           Po          Po            0            60   \n",
       "2718          580           TA          TA          170             0   \n",
       "2414          426           TA          TA          100            24   \n",
       "1989          480           Fa          TA            0             0   \n",
       "625           514           TA          TA            0            76   \n",
       "\n",
       "      Sale Type Age Sold TotBath Bsmt TotBath AbvGr  \n",
       "Id                                                   \n",
       "2658        WD        96          0.0             2  \n",
       "2718        WD        29          0.0             2  \n",
       "2414        New        0          1.0             3  \n",
       "1989        WD        84          0.0             1  \n",
       "625         WD        46          1.0             2  \n",
       "\n",
       "[5 rows x 49 columns]"
      ]
     },
     "execution_count": 7,
     "metadata": {},
     "output_type": "execute_result"
    }
   ],
   "source": [
    "ames_test_clean = ames_test_clean.set_index('Id', drop=True)\n",
    "ames_test_clean.head()"
   ]
  },
  {
   "cell_type": "code",
   "execution_count": 8,
   "metadata": {},
   "outputs": [
    {
     "name": "stdout",
     "output_type": "stream",
     "text": [
      "<class 'pandas.core.frame.DataFrame'>\n",
      "Int64Index: 879 entries, 2658 to 1939\n",
      "Data columns (total 49 columns):\n",
      " #   Column          Non-Null Count  Dtype  \n",
      "---  ------          --------------  -----  \n",
      " 0   MS SubClass     879 non-null    int64  \n",
      " 1   MS Zoning       879 non-null    object \n",
      " 2   Lot Frontage    879 non-null    float64\n",
      " 3   Lot Area        879 non-null    int64  \n",
      " 4   Street          879 non-null    object \n",
      " 5   Land Contour    879 non-null    object \n",
      " 6   Neighborhood    879 non-null    object \n",
      " 7   Condition 1     879 non-null    object \n",
      " 8   Condition 2     879 non-null    object \n",
      " 9   House Style     879 non-null    object \n",
      " 10  Overall Qual    879 non-null    int64  \n",
      " 11  Overall Cond    879 non-null    int64  \n",
      " 12  Year Remod/Add  879 non-null    int64  \n",
      " 13  Roof Matl       879 non-null    object \n",
      " 14  Exterior 1st    879 non-null    object \n",
      " 15  Exterior 2nd    879 non-null    object \n",
      " 16  Mas Vnr Area    879 non-null    float64\n",
      " 17  Exter Qual      879 non-null    object \n",
      " 18  Exter Cond      879 non-null    object \n",
      " 19  Foundation      879 non-null    object \n",
      " 20  Bsmt Qual       854 non-null    object \n",
      " 21  Bsmt Cond       854 non-null    object \n",
      " 22  Bsmt Exposure   854 non-null    object \n",
      " 23  BsmtFin SF 1    879 non-null    int64  \n",
      " 24  Central Air     879 non-null    object \n",
      " 25  Electrical      878 non-null    object \n",
      " 26  1st Flr SF      879 non-null    int64  \n",
      " 27  2nd Flr SF      879 non-null    int64  \n",
      " 28  Gr Liv Area     879 non-null    int64  \n",
      " 29  Bedroom AbvGr   879 non-null    int64  \n",
      " 30  Kitchen AbvGr   879 non-null    int64  \n",
      " 31  Kitchen Qual    879 non-null    object \n",
      " 32  TotRms AbvGrd   879 non-null    int64  \n",
      " 33  Functional      879 non-null    object \n",
      " 34  Fireplaces      879 non-null    int64  \n",
      " 35  Fireplace Qu    879 non-null    object \n",
      " 36  Garage Type     835 non-null    object \n",
      " 37  Garage Yr Blt   879 non-null    float64\n",
      " 38  Garage Finish   834 non-null    object \n",
      " 39  Garage Cars     879 non-null    int64  \n",
      " 40  Garage Area     879 non-null    int64  \n",
      " 41  Garage Qual     834 non-null    object \n",
      " 42  Garage Cond     834 non-null    object \n",
      " 43  Wood Deck SF    879 non-null    int64  \n",
      " 44  Open Porch SF   879 non-null    int64  \n",
      " 45  Sale Type       879 non-null    object \n",
      " 46  Age Sold        879 non-null    int64  \n",
      " 47  TotBath Bsmt    879 non-null    float64\n",
      " 48  TotBath AbvGr   879 non-null    int64  \n",
      "dtypes: float64(4), int64(19), object(26)\n",
      "memory usage: 343.4+ KB\n"
     ]
    }
   ],
   "source": [
    "ames_test_clean.info()"
   ]
  },
  {
   "cell_type": "markdown",
   "metadata": {},
   "source": [
    "<i> Ensuring categorical variables are reflected as such after reading in the clean dataset. </i>"
   ]
  },
  {
   "cell_type": "code",
   "execution_count": 9,
   "metadata": {},
   "outputs": [],
   "source": [
    "ames_test_clean['MS SubClass'] = ames_test_clean['MS SubClass'].astype(str)\n",
    "ames_test_clean['Overall Qual'] = ames_test_clean['Overall Cond'].astype(str)\n",
    "ames_test_clean['Overall Qual'] = ames_test_clean['Overall Cond'].astype(str)"
   ]
  },
  {
   "cell_type": "markdown",
   "metadata": {},
   "source": [
    "## Pre-processing"
   ]
  },
  {
   "cell_type": "markdown",
   "metadata": {},
   "source": [
    "### One-hot encode categorical variables"
   ]
  },
  {
   "cell_type": "code",
   "execution_count": 10,
   "metadata": {},
   "outputs": [
    {
     "data": {
      "text/plain": [
       "(1864, 28)"
      ]
     },
     "execution_count": 10,
     "metadata": {},
     "output_type": "execute_result"
    }
   ],
   "source": [
    "Numerics = ['int64', 'float64']\n",
    "ames_train_clean_cat = ames_train_clean.select_dtypes(exclude=Numerics)\n",
    "ames_train_clean_cat.shape"
   ]
  },
  {
   "cell_type": "code",
   "execution_count": 11,
   "metadata": {},
   "outputs": [],
   "source": [
    "ames_train_clean = pd.get_dummies(data = ames_train_clean, columns = ames_train_clean_cat.columns, drop_first = True)"
   ]
  },
  {
   "cell_type": "code",
   "execution_count": 12,
   "metadata": {},
   "outputs": [
    {
     "data": {
      "text/plain": [
       "(1864, 198)"
      ]
     },
     "execution_count": 12,
     "metadata": {},
     "output_type": "execute_result"
    }
   ],
   "source": [
    "ames_train_clean.shape"
   ]
  },
  {
   "cell_type": "code",
   "execution_count": 13,
   "metadata": {},
   "outputs": [
    {
     "data": {
      "text/plain": [
       "(879, 28)"
      ]
     },
     "execution_count": 13,
     "metadata": {},
     "output_type": "execute_result"
    }
   ],
   "source": [
    "ames_test_clean_cat = ames_test_clean.select_dtypes(exclude=Numerics)\n",
    "ames_test_clean_cat.shape"
   ]
  },
  {
   "cell_type": "code",
   "execution_count": 14,
   "metadata": {},
   "outputs": [
    {
     "data": {
      "text/plain": [
       "(879, 189)"
      ]
     },
     "execution_count": 14,
     "metadata": {},
     "output_type": "execute_result"
    }
   ],
   "source": [
    "ames_test_clean = pd.get_dummies(data = ames_test_clean, columns = ames_test_clean_cat.columns, drop_first = True)\n",
    "ames_test_clean.shape"
   ]
  },
  {
   "cell_type": "code",
   "execution_count": 15,
   "metadata": {},
   "outputs": [],
   "source": [
    "columns = ['Neighborhood_GrnHill', 'Roof Matl_Membran', 'Exterior 2nd_CBlock', 'Functional_Sev', 'Exterior 2nd_Stone',\n",
    "           'Condition 2_RRNn', 'Roof Matl_CompShg', 'Bsmt Cond_Po', 'Condition 2_RRAn', 'Garage Qual_Fa', \n",
    "           'Exterior 1st_CBlock', 'Condition 2_Feedr', 'Functional_Sal', 'Neighborhood_Landmrk', \n",
    "           'Condition 2_RRAe', 'Bsmt Cond_Fa', 'Exterior 1st_Stone', 'MS SubClass_150', \n",
    "           'Electrical_Mix', 'Exterior 1st_ImStucc', 'Exterior 2nd_AsphShn']"
   ]
  },
  {
   "cell_type": "code",
   "execution_count": 16,
   "metadata": {},
   "outputs": [
    {
     "data": {
      "text/plain": [
       "(879, 208)"
      ]
     },
     "execution_count": 16,
     "metadata": {},
     "output_type": "execute_result"
    }
   ],
   "source": [
    "#Adding in columns that are missing in the test data set \n",
    "for col in columns:\n",
    "    ames_test_clean[col] = 0\n",
    "ames_test_clean.shape"
   ]
  },
  {
   "cell_type": "code",
   "execution_count": 17,
   "metadata": {},
   "outputs": [
    {
     "data": {
      "text/plain": [
       "(1864, 209)"
      ]
     },
     "execution_count": 17,
     "metadata": {},
     "output_type": "execute_result"
    }
   ],
   "source": [
    "#Adding in columns that are missing in the train data set \n",
    "for col in ames_test_clean.columns:\n",
    "    if col not in ames_train_clean.columns:\n",
    "        ames_train_clean[col] = 0\n",
    "ames_train_clean.shape"
   ]
  },
  {
   "cell_type": "markdown",
   "metadata": {},
   "source": [
    "## Model Prep"
   ]
  },
  {
   "cell_type": "code",
   "execution_count": 18,
   "metadata": {},
   "outputs": [],
   "source": [
    "#Setting the baseline y_test value\n",
    "baseline = round(ames_train_clean['SalePrice'].mean(),2)\n",
    "ames_test_clean['SalePrice'] = baseline"
   ]
  },
  {
   "cell_type": "markdown",
   "metadata": {},
   "source": [
    "> <font size = 3 color = \"crimson\"> You are supposed to compute the baseline r2 and rmse score. The sale price for the test set is not available. The above code would have assigned the baseline sale price as the sale price for the test set </font>"
   ]
  },
  {
   "cell_type": "code",
   "execution_count": 19,
   "metadata": {},
   "outputs": [],
   "source": [
    "#Setting feature matrix and target value\n",
    "features_train = [col for col in ames_train_clean.columns if col != 'SalePrice']\n",
    "features_test = [col for col in ames_test_clean.columns if col != 'SalePrice']\n",
    "X_train = ames_train_clean[features_train]\n",
    "y_train = ames_train_clean['SalePrice']\n",
    "X_test = ames_test_clean[features_test]\n",
    "y_test = ames_test_clean['SalePrice']"
   ]
  },
  {
   "cell_type": "code",
   "execution_count": 20,
   "metadata": {},
   "outputs": [
    {
     "data": {
      "text/plain": [
       "(1864, 208)"
      ]
     },
     "execution_count": 20,
     "metadata": {},
     "output_type": "execute_result"
    }
   ],
   "source": [
    "X_train.shape"
   ]
  },
  {
   "cell_type": "code",
   "execution_count": 21,
   "metadata": {},
   "outputs": [
    {
     "data": {
      "text/plain": [
       "(1864,)"
      ]
     },
     "execution_count": 21,
     "metadata": {},
     "output_type": "execute_result"
    }
   ],
   "source": [
    "y_train.shape"
   ]
  },
  {
   "cell_type": "code",
   "execution_count": 22,
   "metadata": {},
   "outputs": [
    {
     "data": {
      "text/plain": [
       "(879, 208)"
      ]
     },
     "execution_count": 22,
     "metadata": {},
     "output_type": "execute_result"
    }
   ],
   "source": [
    "X_test.shape"
   ]
  },
  {
   "cell_type": "code",
   "execution_count": 23,
   "metadata": {},
   "outputs": [
    {
     "data": {
      "text/plain": [
       "(879,)"
      ]
     },
     "execution_count": 23,
     "metadata": {},
     "output_type": "execute_result"
    }
   ],
   "source": [
    "y_test.shape"
   ]
  },
  {
   "cell_type": "markdown",
   "metadata": {},
   "source": [
    "### Scaling dataset"
   ]
  },
  {
   "cell_type": "code",
   "execution_count": 24,
   "metadata": {},
   "outputs": [],
   "source": [
    "ss = StandardScaler()\n",
    "ss.fit(X_train)\n",
    "X_train_scaled = ss.transform(X_train)\n",
    "X_test_scaled = ss.transform(X_test)"
   ]
  },
  {
   "cell_type": "markdown",
   "metadata": {},
   "source": [
    "### Model Prep: Instantiate our models"
   ]
  },
  {
   "cell_type": "code",
   "execution_count": 25,
   "metadata": {},
   "outputs": [],
   "source": [
    "#Linear Regression\n",
    "lr = LinearRegression()"
   ]
  },
  {
   "cell_type": "code",
   "execution_count": 26,
   "metadata": {},
   "outputs": [],
   "source": [
    "#Ridge\n",
    "ridge_cv = RidgeCV(alphas= np.linspace(0.1, 10, 100))"
   ]
  },
  {
   "cell_type": "code",
   "execution_count": 27,
   "metadata": {},
   "outputs": [],
   "source": [
    "#Lasso\n",
    "lasso_cv = LassoCV(n_alphas = 100)"
   ]
  },
  {
   "cell_type": "markdown",
   "metadata": {},
   "source": [
    "## Model Fitting and Evaluation\n"
   ]
  },
  {
   "cell_type": "markdown",
   "metadata": {},
   "source": [
    "> <font size = 3 color = \"crimson\"> The correct approach is to further split your train data into a subset-train and subset-validation before scaling them. You would need subset-validation as a holdout set to check the performance of the models developed using subset-train</font>"
   ]
  },
  {
   "cell_type": "code",
   "execution_count": 28,
   "metadata": {},
   "outputs": [],
   "source": [
    "#Fit the model to the training data, and evaluate the training and test scores below (LR)\n",
    "lr.fit(X_train_scaled, y_train)\n",
    "y_pred_lr = lr.predict(X_test_scaled)"
   ]
  },
  {
   "cell_type": "code",
   "execution_count": 29,
   "metadata": {
    "scrolled": true
   },
   "outputs": [
    {
     "name": "stdout",
     "output_type": "stream",
     "text": [
      "Training R2(LR)0.9122139039385925\n",
      "Testing R2(LR)1.0\n"
     ]
    }
   ],
   "source": [
    "#R2\n",
    "print('Training R2(LR)' + str(lr.score(X_train_scaled, y_train)))\n",
    "print('Testing R2(LR)' + str(lr.score(X_test_scaled, y_pred_lr)))"
   ]
  },
  {
   "cell_type": "markdown",
   "metadata": {},
   "source": [
    "> <font size = 3 color = \"crimson\"> It would be unusual to get R2 of 1 on the test set. This is the result of scoring your linear regression model using the predicted sale price. You would need to interpret your models. </font>"
   ]
  },
  {
   "cell_type": "code",
   "execution_count": 30,
   "metadata": {
    "scrolled": true
   },
   "outputs": [
    {
     "name": "stdout",
     "output_type": "stream",
     "text": [
      "Training MSE(LR)541283407.6421312\n",
      "Testing MSE(LR)6.480749645753151e+34\n"
     ]
    }
   ],
   "source": [
    "#MSE\n",
    "print('Training MSE(LR)' + str(mean_squared_error(y_train, lr.predict(X_train_scaled))))\n",
    "print('Testing MSE(LR)' + str(mean_squared_error(y_test, y_pred_lr)))"
   ]
  },
  {
   "cell_type": "code",
   "execution_count": 31,
   "metadata": {
    "scrolled": true
   },
   "outputs": [
    {
     "data": {
      "text/plain": [
       "10.0"
      ]
     },
     "execution_count": 31,
     "metadata": {},
     "output_type": "execute_result"
    }
   ],
   "source": [
    "#Fit the model to the training data, and evaluate the training and test scores below (Ridge)\n",
    "ridge_cv.fit(X_train_scaled, y_train)\n",
    "ridge_cv.alpha_"
   ]
  },
  {
   "cell_type": "markdown",
   "metadata": {},
   "source": [
    "> <font size = 3 color = \"crimson\"> What does the value of alpha signify?</font>"
   ]
  },
  {
   "cell_type": "code",
   "execution_count": 32,
   "metadata": {},
   "outputs": [],
   "source": [
    "y_pred_ridge = ridge_cv.predict(X_test_scaled)"
   ]
  },
  {
   "cell_type": "code",
   "execution_count": 33,
   "metadata": {
    "scrolled": true
   },
   "outputs": [
    {
     "name": "stdout",
     "output_type": "stream",
     "text": [
      "Training R2(Ridge) 0.9101486746921449\n",
      "Testing R2(Ridge) 1.0\n"
     ]
    }
   ],
   "source": [
    "#R2\n",
    "print('Training R2(Ridge) ' + str(ridge_cv.score(X_train_scaled, y_train)))\n",
    "print('Testing R2(Ridge) ' + str(ridge_cv.score(X_test_scaled, y_pred_ridge)))"
   ]
  },
  {
   "cell_type": "code",
   "execution_count": 34,
   "metadata": {},
   "outputs": [
    {
     "name": "stdout",
     "output_type": "stream",
     "text": [
      "Training MSE(LR)554017478.0044513\n",
      "Testing MSE(LR)81904497079.3955\n"
     ]
    }
   ],
   "source": [
    "#MSE\n",
    "print('Training MSE(LR)' + str(mean_squared_error(y_train, ridge_cv.predict(X_train_scaled))))\n",
    "print('Testing MSE(LR)' + str(mean_squared_error(y_test, y_pred_ridge)))"
   ]
  },
  {
   "cell_type": "code",
   "execution_count": 35,
   "metadata": {
    "scrolled": true
   },
   "outputs": [
    {
     "data": {
      "text/plain": [
       "<matplotlib.axes._subplots.AxesSubplot at 0x7fd870112f50>"
      ]
     },
     "execution_count": 35,
     "metadata": {},
     "output_type": "execute_result"
    },
    {
     "data": {
      "image/png": "[encoded data removed]",
      "text/plain": [
       "<Figure size 3600x720 with 1 Axes>"
      ]
     },
     "metadata": {
      "needs_background": "light"
     },
     "output_type": "display_data"
    }
   ],
   "source": [
    "pd.Series(ridge_cv.coef_, index=features_train).plot.bar(figsize=(50,10))"
   ]
  },
  {
   "cell_type": "code",
   "execution_count": 36,
   "metadata": {
    "scrolled": true
   },
   "outputs": [
    {
     "data": {
      "text/plain": [
       "LassoCV(alphas=None, copy_X=True, cv=None, eps=0.001, fit_intercept=True,\n",
       "        max_iter=1000, n_alphas=100, n_jobs=None, normalize=False,\n",
       "        positive=False, precompute='auto', random_state=None,\n",
       "        selection='cyclic', tol=0.0001, verbose=False)"
      ]
     },
     "execution_count": 36,
     "metadata": {},
     "output_type": "execute_result"
    }
   ],
   "source": [
    "#Fit the model to the training data, and evaluate the training and test scores below (Lasso)\n",
    "lasso_cv.fit(X_train_scaled, y_train)"
   ]
  },
  {
   "cell_type": "code",
   "execution_count": 37,
   "metadata": {},
   "outputs": [],
   "source": [
    "y_pred_lasso = lasso_cv.predict(X_test_scaled)"
   ]
  },
  {
   "cell_type": "code",
   "execution_count": 38,
   "metadata": {},
   "outputs": [
    {
     "name": "stdout",
     "output_type": "stream",
     "text": [
      "Training R2(Lasso) 0.9024862867340797\n",
      "Testing R2(Lasso) 1.0\n"
     ]
    }
   ],
   "source": [
    "print('Training R2(Lasso) ' + str(lasso_cv.score(X_train_scaled, y_train)))\n",
    "print('Testing R2(Lasso) ' + str(lasso_cv.score(X_test_scaled, y_pred_lasso)))"
   ]
  },
  {
   "cell_type": "code",
   "execution_count": 39,
   "metadata": {},
   "outputs": [
    {
     "name": "stdout",
     "output_type": "stream",
     "text": [
      "Training MSE(Lasso)601263268.0634633\n",
      "Testing MSE(Lasso)58814922975.90005\n"
     ]
    }
   ],
   "source": [
    "print('Training MSE(Lasso)' + str(mean_squared_error(y_train, lasso_cv.predict(X_train_scaled))))\n",
    "print('Testing MSE(Lasso)' + str(mean_squared_error(y_test, y_pred_lasso)))"
   ]
  },
  {
   "cell_type": "code",
   "execution_count": 40,
   "metadata": {},
   "outputs": [
    {
     "data": {
      "text/plain": [
       "<matplotlib.axes._subplots.AxesSubplot at 0x7fd87629fb10>"
      ]
     },
     "execution_count": 40,
     "metadata": {},
     "output_type": "execute_result"
    },
    {
     "data": {
      "image/png": "[encoded data removed]",
      "text/plain": [
       "<Figure size 3600x720 with 1 Axes>"
      ]
     },
     "metadata": {
      "needs_background": "light"
     },
     "output_type": "display_data"
    }
   ],
   "source": [
    "pd.Series(lasso_cv.coef_, index=features_train).plot.bar(figsize=(50,10))"
   ]
  },
  {
   "cell_type": "markdown",
   "metadata": {},
   "source": [
    "> <font size = 3 color = \"crimson\"> Since lasso also reduces features, you would want to find out which features have non-zero coefficients. For your final model, you should interpret your model for the purpose of inference. 1 unit increase in feature X would result in $y increase in sale price. Analyse the top 5 features and see if they make sense. Check if the assumptions of linear regression are met, o.e. homoscedascity.</font>"
   ]
  },
  {
   "cell_type": "code",
   "execution_count": 41,
   "metadata": {},
   "outputs": [
    {
     "data": {
      "text/plain": [
       "array([-119170.67686244, -125215.57260751, -125801.25638725,\n",
       "       -116071.58417289, -112684.00847222,   23472.82487794,\n",
       "        209330.62255509,  126047.20235286, -204176.91973653,\n",
       "       -111264.14056717, -150882.26057409,  -12637.92313361,\n",
       "       -140879.31729016,  -14904.14322958,  153297.01432679,\n",
       "       -150144.71184861, -133008.88465089,  135756.0200385 ,\n",
       "        206208.40353303,  -77757.32673328, -167301.74730666,\n",
       "        173381.67005537, -117200.20915539, -154527.59045336,\n",
       "       -130387.60162252,  106219.66987056,  -79630.22290935,\n",
       "       -112120.43866011,  182191.08352684,  106769.69260917,\n",
       "        100522.7734626 ,  272884.88430596,   -8883.58231938,\n",
       "        141871.25954035, -126748.15020455, -121660.36186357,\n",
       "       -100179.45151263, -121463.11347602, -147656.19397095,\n",
       "        133962.10795911, -224960.36897294, -117843.59318001,\n",
       "        197031.11980188,  -78479.36255086,  -43995.31040201,\n",
       "         41913.02302106, -118904.56004937, -155402.46287906,\n",
       "        168580.35849855,  104421.15725698, -151022.90334771,\n",
       "        -33008.86845562,  -93076.33540229,  -35556.89274239,\n",
       "       -147965.00671246, -171155.76544805, -109284.63258046,\n",
       "        166932.48843891, -145215.23022441,  -92221.12772868,\n",
       "        -42025.1710938 ,  154830.34278794, -157854.04130921,\n",
       "        139119.17483967, -107353.48587819,  -51145.91818963,\n",
       "         86230.0453895 , -110724.64567784,  157227.75277008,\n",
       "       -150155.60630307,  174042.73661203,  -30280.32728478,\n",
       "        -54756.69344642,  132981.9440129 , -147130.11983293,\n",
       "        169262.17330536,  382320.50394805,  258695.41125127,\n",
       "        121042.38214886,  193844.9754362 ,  275125.72115641,\n",
       "       -118256.83331479,  -32936.13353454,  -62947.36852767,\n",
       "       -119886.54355532, -110009.50718354,  -52585.28209509,\n",
       "       -152185.45513192,  139227.60235201,  -62653.32118204,\n",
       "        193870.41851385,  130412.53492699,  188451.37736919,\n",
       "        189163.89779176,  134116.19418641,  209934.87950249,\n",
       "        -90770.52790394, -164697.46857213, -123614.40501593,\n",
       "       -121571.98508784, -126629.46166692,  351267.43769369,\n",
       "       -104627.56086638,  106236.67035407,  338312.15178582,\n",
       "       -150691.26142804,  -99816.53729794,  130333.72247269,\n",
       "        227497.86489374,  181700.46346478, -114196.38894371,\n",
       "       -107741.42506111, -124838.99483789,  -71670.4887936 ,\n",
       "       -147568.677856  , -104892.85935548,  345190.45070578,\n",
       "        -93259.16711448,   57968.86077298,  -60738.79208737,\n",
       "       -123099.77853489,  234959.1232041 ,  -76999.91459048,\n",
       "        250572.74812159, -131285.98442315, -100983.15420288,\n",
       "        238865.31041324,  189729.28088887, -164895.40971783,\n",
       "        -86342.55723947,  -98756.1662433 , -107698.53845809,\n",
       "       -106638.19301904,  151920.74939179,   83964.90580818,\n",
       "        141956.59348399,  -27222.09363953, -136114.80066541,\n",
       "       -134191.94015727, -115745.83798414,  119315.93611933,\n",
       "       -117987.59367579,  131488.21002365,  303010.89071747,\n",
       "        176140.78476155,  236704.20547745, -113022.17617976,\n",
       "        201737.63305907,  126144.86498985,  280478.20659912,\n",
       "        243945.21245396, -127202.81207576, -158814.48516125,\n",
       "        239864.06777051,   85912.23334244, -127217.79080061,\n",
       "       -151194.44342822,    9853.73455102, -158088.51300482,\n",
       "        161898.76099601,  -68510.96108907,  -99696.9151739 ,\n",
       "        155490.4652465 , -154469.75246364,    7749.99290899,\n",
       "       -102873.30107121,  -90752.43609356, -122378.14158104,\n",
       "       -144054.06927938,  -86669.36565916, -141942.727959  ,\n",
       "         81906.98445083, -108354.67836372, -109879.94741837,\n",
       "        103595.02919798,  206547.23631866, -119105.24299571,\n",
       "       -142850.38931108, -122733.03376324,   31755.92543738,\n",
       "        148613.77576905, -115914.81236088,  226637.8660887 ,\n",
       "        -27970.9531781 , -146804.47116447,  141792.58437359,\n",
       "       -172144.80172929, -128751.87683606, -124619.01516631,\n",
       "         97797.11765119,  136327.72936167,  134116.69591822,\n",
       "        120418.21211643, -100095.85696984, -177018.0836219 ,\n",
       "       -129481.84436941, -152966.17089698,  -86880.30503886,\n",
       "        -90068.12399641,  260185.19432423, -136462.25805753,\n",
       "        -64765.01863136,  -66786.57439915,  120340.79153223,\n",
       "        126255.66471476, -135747.71083822,  152443.93213783,\n",
       "       -203148.01225108, -187512.79490769, -133647.68850657,\n",
       "        -98705.91175197, -104711.30712986,  153035.85787554,\n",
       "       -193574.07954807,  346281.26752079,  -92295.79397565,\n",
       "        139260.46539151,  -85083.0637384 ,  171424.87418085,\n",
       "        317608.74101106,  153531.94189329,  127335.39932127,\n",
       "       -146796.55663744,  152963.70070294, -122106.85985923,\n",
       "       -110147.91902735, -104167.89684573,  168969.0786614 ,\n",
       "       -108537.50035156,  199338.6014782 ,  -54405.38528503,\n",
       "        -94610.04255804,   37808.75471433, -107031.26333414,\n",
       "        143117.67910998,  -60454.30378746,  139152.78070031,\n",
       "        236231.11936858,   22133.0082988 ,  -69628.2960604 ,\n",
       "       -135441.06936983, -106353.76349564,  136609.54437294,\n",
       "        -51135.14794425,  -94151.03305487,  -38648.66884209,\n",
       "        -90487.78280684,  169552.7700461 , -142695.87396811,\n",
       "       -102083.46306531,  243842.27193965,  208062.00745744,\n",
       "       -102072.26097335, -105691.53594775,  -91339.95212643,\n",
       "        167508.26662386, -166767.89402845,  -81229.42358549,\n",
       "        234097.83583753,  -77070.44166037,  255830.26726192,\n",
       "       -110780.21214124,  288080.3047949 ,   44953.57463499,\n",
       "       -165417.63274025,  -85530.64695684,  136216.0999726 ,\n",
       "        220733.67236875,  147972.01727719, -145381.33690691,\n",
       "       -237837.68219074,  262605.97987905, -141492.73449207,\n",
       "        -89250.97542516,   63336.91953116, -147807.56121245,\n",
       "        100600.30611958, -153544.94888811,  -75922.10682041,\n",
       "        215426.40679844, -132059.9772991 ,  -99226.22890511,\n",
       "       -132357.28716106,   88303.35030732, -143861.02208183,\n",
       "        -97410.27566268,  182220.56666044,  -77321.13964892,\n",
       "         47745.25575051, -192946.78569842, -162966.64689882,\n",
       "         99503.25614988, -102728.55568997,    9491.07821438,\n",
       "        163007.87023905,  179042.81183919, -147258.14503696,\n",
       "       -122672.70921829,  -82009.32191565,  -86054.68235505,\n",
       "       -127976.00536844,  199663.55531257,  256233.9025392 ,\n",
       "       -157348.80122552,  -90122.1670168 ,  180366.85662558,\n",
       "       -190238.73079691,  -39720.56087756, -128139.51863176,\n",
       "       -200192.40243056,  106362.77677322,  -24211.28197998,\n",
       "        137203.47965417,  -79236.42876728,  -63347.65231471,\n",
       "        -22010.33034922,  -98514.21595588,  -47190.71702933,\n",
       "        192331.32899881,  -78330.50184953,  158214.82160807,\n",
       "       -155783.26265513,  159151.44805873,  215191.84315644,\n",
       "       -107395.97401995,  177738.48493185, -142125.98314726,\n",
       "        222494.4735207 , -149610.59884216,   41872.92633705,\n",
       "       -129621.48646413, -128420.06692148,  143702.25031756,\n",
       "       -153570.82862133, -112541.68361934,  -12266.8886371 ,\n",
       "       -108367.96702703, -160271.08083812,  -89389.56006695,\n",
       "        181455.45920496, -158303.57891451,  -72681.09029739,\n",
       "        213434.9734349 ,  126813.27889359, -123418.32571817,\n",
       "        200277.40112333, -111628.96416597,  162408.63446628,\n",
       "         92383.00226746, -111733.6134669 ,  135084.30240792,\n",
       "        245945.36428967, -155219.73009364,   58281.02449784,\n",
       "       -103609.01078488,  223268.63480482,   13292.94624752,\n",
       "        205033.3464926 , -118165.4887453 ,  191654.55478131,\n",
       "        229954.5191366 , -159511.60658706, -130938.5889165 ,\n",
       "       -148879.99082827, -109690.46185289, -139889.12147676,\n",
       "        -59372.55227278,  267243.67806932,  -90318.05010291,\n",
       "        -94382.44808555,  -95225.80184309,  247774.14754148,\n",
       "         41719.07172407, -166207.7043978 ,   -5505.49933831,\n",
       "       -199113.41345146,  -63123.0926783 , -148308.46080279,\n",
       "        198713.79531299, -111090.91303704,   90115.45362266,\n",
       "       -121169.38603298, -180277.53336381,  -59379.45360782,\n",
       "        -49136.11474563,  -78945.54388227, -111531.26558394,\n",
       "        -52235.56980069, -127454.75983616,  131572.54602877,\n",
       "        -83101.17019683,   39719.56698764,  202124.35802335,\n",
       "        145127.42302533,  152499.31038026, -122712.71540469,\n",
       "       -127229.20945438, -132171.70000246, -108096.43658621,\n",
       "       -178192.57369425,  334422.88120664, -121156.32622145,\n",
       "        -86459.56523276, -128297.08780172,  -92609.76620311,\n",
       "        153279.37917528,  144493.72648063,  -96133.25157689,\n",
       "        -97426.4021113 ,  -73347.29000104,  110805.48803124,\n",
       "        -61393.39132025,  218986.67002027,  -50494.37658562,\n",
       "        264432.2428838 ,  -80372.72287633,  -27389.06360764,\n",
       "       -165436.46086961,  311752.96666633,  110041.59362762,\n",
       "        -81279.61283432,  358738.07082957,  104938.05847264,\n",
       "         31090.48055875,  127407.35854273,  -97878.39610959,\n",
       "        238614.53967503, -125170.93880802, -112881.41104454,\n",
       "       -152428.18111244,  -77924.61316884, -155179.80212363,\n",
       "        175651.47251942,  153979.48303242, -145368.64579809,\n",
       "       -145181.81273158,  -54456.68175932, -128176.69259338,\n",
       "        142889.79806482, -234890.04536451,  -88939.58776338,\n",
       "        135382.04611025,  194247.32779478,  -58632.98905797,\n",
       "        -63948.24805069,  122189.76295478, -117536.46231022,\n",
       "        -45180.35911253,  159912.77469459,  -45443.24529665,\n",
       "       -137589.36761167, -108667.98223453,  -71779.52641545,\n",
       "       -126824.12490872,  242752.92389634, -144066.39942713,\n",
       "       -119609.54672354, -107843.68699726, -163544.62376361,\n",
       "        148010.02618427, -169280.349852  ,  140415.28503291,\n",
       "       -153392.7049973 , -134918.98458726,  335621.92915554,\n",
       "        313246.67461365,  -98582.64797089, -102339.89689281,\n",
       "        -94912.10160483, -169338.23307764,  103223.54475796,\n",
       "        104709.6067629 , -100092.03398124,  134583.0514149 ,\n",
       "         76299.3999376 ,  196996.1268629 ,  151446.16339541,\n",
       "       -157006.77983119,  -77810.24223286, -135736.83236219,\n",
       "       -122028.16300135, -142938.49449224,  189846.19905408,\n",
       "         46779.23706699,  120728.01398684,  226682.37022854,\n",
       "        128803.71337615, -119145.5427975 ,  143055.27704658,\n",
       "       -112383.99341076,  309094.14822169,  -78915.09113302,\n",
       "       -135751.11499228,  -89877.32585901,  182836.34475342,\n",
       "        -30053.6456078 , -126275.51035842,  -70971.42540518,\n",
       "       -152677.55416561,  195968.87987874,  148287.52946965,\n",
       "       -138630.48955708,   -2838.2781913 , -145366.77513854,\n",
       "       -150379.06485069,  -78616.0722347 , -139303.10088208,\n",
       "        252863.40329215, -188091.78500389,   42143.52603404,\n",
       "        -95821.65580055, -178835.31566273,   99739.66938907,\n",
       "       -138513.86017211,  118215.96585837, -136134.00990826,\n",
       "       -101974.80560124,  184661.01421805, -135237.91180231,\n",
       "        -82525.41994975,  193907.6846124 ,  191098.0849383 ,\n",
       "        -91179.39667269,    7029.98546684, -177298.13061941,\n",
       "        -95688.01160406,  244003.77808879, -141999.35262645,\n",
       "       -143883.12423639, -157123.59626675, -178460.15802506,\n",
       "       -164843.39965772, -106742.33468456,  126676.19932079,\n",
       "       -134835.29497019, -109002.75968289,  -12610.75560723,\n",
       "         15129.29479841,  -37912.49187134, -131042.7349776 ,\n",
       "        182490.56814355,  124386.36368091,  150150.29575546,\n",
       "         32431.53653574, -171927.03987645, -100193.6357584 ,\n",
       "        -36922.35295997,  -77049.5385458 ,  131070.45730197,\n",
       "         30928.93140971,  -92147.94526457, -160939.34883096,\n",
       "        198131.57356163, -105343.93637885,  -88534.72620147,\n",
       "       -118551.35969566, -118300.40813872, -136448.01200866,\n",
       "       -193427.64599133, -142801.08876202, -129541.91101884,\n",
       "         96619.69718817,  108132.77715925, -103534.99401237,\n",
       "        175981.77229346, -141020.59005251, -149171.42749932,\n",
       "       -147185.30896908, -101467.27094506,  139696.10105774,\n",
       "       -166219.83207593, -115305.7089036 , -156700.26019759,\n",
       "       -194864.54928499, -115989.5497166 , -108485.45604507,\n",
       "         10587.51177513,  -95122.22066437, -153129.00404169,\n",
       "        -58391.10875889, -135956.58020174,  -54482.62194948,\n",
       "       -141709.96148648,  -66632.65678637, -125504.84927789,\n",
       "       -135933.09764909,  201937.3894298 ,  131195.12912377,\n",
       "       -146107.71415501,  -67909.5947388 , -108435.27333825,\n",
       "       -103308.61856039, -175785.38920119, -138811.10488281,\n",
       "        186242.09767619,  -27129.46913798,  -99600.70452465,\n",
       "        203468.40834917,  137450.76625526,  -46822.16128061,\n",
       "        -65698.48132398, -129205.5415517 , -120796.34859573,\n",
       "        108342.74967301,  132894.66440291,  -93185.82787448,\n",
       "       -176420.5965345 , -136072.15331649, -162794.95681071,\n",
       "       -162307.39011458,  183906.18544271, -211089.64470444,\n",
       "        -15302.40230194, -103553.61611813,  -71798.71109934,\n",
       "       -152795.6483521 , -109282.31336091, -139878.85699596,\n",
       "        -68711.75016105, -200412.41945549, -106601.21732732,\n",
       "       -122090.74202301,  187097.57249856, -115164.81823896,\n",
       "         99926.88290821, -114059.66401514,  -63755.78579564,\n",
       "       -144044.74136863,  176229.57626266,  233217.97351096,\n",
       "       -148255.02516793,  -67006.95981915,  -38719.85774098,\n",
       "        111469.04299877, -139348.69246266, -115329.48358471,\n",
       "        147305.02410071, -192216.30577391,  138981.95248456,\n",
       "       -143068.97321224,  191599.70103981,  -78704.55166154,\n",
       "         90833.60860442, -108115.58164012,  -77627.73182974,\n",
       "        101242.44994939,  294809.52483641,  -94019.60726622,\n",
       "        120420.45321143, -235296.72094637,  -87997.5728058 ,\n",
       "        165775.73062121,  225625.59553472,  160199.92376192,\n",
       "        115438.28983134, -168755.69369901,  237016.28638675,\n",
       "        -99497.17592717, -144528.97245776,  -69965.72036202,\n",
       "       -127057.61287178,  133220.226212  ,  -86251.04656341,\n",
       "        158373.89530966,  -89808.33169387,  -15194.93442413,\n",
       "        -95116.30805627,  297620.05401055,  -52152.41376303,\n",
       "       -100689.43773429,  214573.20477445, -135284.8831564 ,\n",
       "        222195.45845317,  -84996.64121693, -119365.42339669,\n",
       "         85337.35809823, -143316.74513513, -123275.91000979,\n",
       "         24057.80187857, -116002.95245833,   98499.59637405,\n",
       "        -26323.15283567, -111244.87140249, -120092.77294657,\n",
       "        -87434.04341309, -121850.23568824,  198319.30714131,\n",
       "        180790.03955268,  -24217.08778843,  205738.17106383,\n",
       "       -111490.12707914,  167576.69107739, -151178.90330879,\n",
       "       -105241.65570292,  276711.36121932, -120017.89764934,\n",
       "       -138958.49410919, -100904.6691169 ,  283691.22193005,\n",
       "         61648.23719267,  -97516.91321981, -145609.84090089,\n",
       "       -143004.18547356,  -84861.95389265, -166239.7406089 ,\n",
       "         34365.56099409,  242395.82893511,  126734.81980703,\n",
       "        114447.07211787, -165117.21932103,  -77115.31748448,\n",
       "       -108341.47962524,  149454.06244639,  103163.73978896,\n",
       "       -167133.49639961, -139656.78911523,  -70268.45455518,\n",
       "        298005.08851587,  149152.90503262, -107272.35730145,\n",
       "        293127.84350479, -121150.91848432,  -95654.7231856 ,\n",
       "         97783.39682461,   66768.56914815,  -58062.99468404,\n",
       "       -105346.85534481,  -92094.61286484,  148076.68139469,\n",
       "        -95547.94463346,  206374.38726539,  136486.14203127,\n",
       "       -102346.49854933,  -77374.09432713, -164523.34225046,\n",
       "        -94930.64938896,  -94561.70001568,  232046.63605992,\n",
       "        126799.1892324 ,   98817.02239684,  179563.17472658,\n",
       "       -113280.29128973,  -81992.02183585,  100023.3619779 ,\n",
       "        214222.22937928,  -95949.63404931, -110555.19169173,\n",
       "       -113298.91661143,  -64400.04896131,  176280.21565888,\n",
       "        -32495.23510426, -101057.98294515,  221624.15039095,\n",
       "       -203430.17641129,  240870.16535905,  121348.64128411,\n",
       "         40357.27836001,  -36365.19607845,  -80546.30463008,\n",
       "       -126066.46140999,  200164.23242589, -177452.30614363,\n",
       "       -103514.88745739,  136785.54363391,  202700.91847416,\n",
       "       -133537.88314784,  -35847.31664826,  167399.75196376,\n",
       "       -127768.77911313,  -38325.11536838,  120563.78551594,\n",
       "        242692.5419047 , -132456.01626395,  128185.27498488,\n",
       "        235647.61389671, -153417.90198185,  236321.48331153,\n",
       "        -98424.72190195,  171784.26641155,  166898.2637068 ,\n",
       "        -92471.4085267 ,  133201.10125607,  -10990.26964076,\n",
       "        -83045.73113209, -156714.80327969,  179356.33459136,\n",
       "       -149366.19348619,  -91709.79242453,  109161.10604736,\n",
       "       -101945.57839168,  145693.7133011 , -152875.05840261,\n",
       "        -85045.46052935, -111377.72089939,  206895.20300685,\n",
       "        163537.64780068, -114939.89695046,  120939.74092515,\n",
       "       -121640.3760486 ,  -80996.0835842 ,  165455.22392006,\n",
       "        191567.82324606,  -21532.00021119, -108435.54295224,\n",
       "       -144481.24715511,  -85675.10999157,  238691.20687524,\n",
       "        -69382.02026493, -126729.20419081, -145608.23187996,\n",
       "       -159835.21948998, -147278.77638093,  -49750.8962624 ,\n",
       "        118267.6484084 ,  156318.83918263, -107353.45374055,\n",
       "       -141583.55367167,  147221.43343481,  -96917.59292969,\n",
       "         87150.06571001,  -89774.72542354,  -65535.55977237,\n",
       "       -174731.57756006,  -74374.81101192,  177097.36434128,\n",
       "       -205442.678035  ,  206755.41845481,  -32782.98502292,\n",
       "       -153353.85075992, -125958.66332231, -126909.09665197,\n",
       "       -139557.35206927, -140548.88885726,  180552.39344473,\n",
       "        205493.74336871, -136682.82779929, -167806.72530676,\n",
       "        -67001.47697967, -115722.34648088,  113378.26692541,\n",
       "       -162930.28562792, -101194.16598603, -185718.94170141,\n",
       "       -104754.33616374,   75937.03886427, -104544.1049382 ,\n",
       "        137697.869892  ,  -32763.81550087, -103131.78281495,\n",
       "        101659.386579  ,  158911.24664839, -118980.84160603,\n",
       "        166455.04742659, -169821.30977809,  177111.00055157,\n",
       "       -124106.7169043 , -108938.63393419,  162992.23954459,\n",
       "         51680.13938974, -128147.04716473,  100020.65529346,\n",
       "        -82828.61533603,  141888.02059438,  103941.8191711 ,\n",
       "       -124250.29120697, -153787.64023514, -128756.2524553 ,\n",
       "        -94449.1042684 ,  129006.62097414,  181542.24027778,\n",
       "        -64406.1658012 ,  -88541.96642111,  -77934.60633984,\n",
       "       -113670.52183015,  166835.51787374,  -63049.57476873,\n",
       "        104415.9734354 ,  101692.33052292,  203640.93778041])"
      ]
     },
     "execution_count": 41,
     "metadata": {},
     "output_type": "execute_result"
    }
   ],
   "source": [
    "y_pred_lasso"
   ]
  },
  {
   "cell_type": "code",
   "execution_count": 42,
   "metadata": {
    "scrolled": true
   },
   "outputs": [
    {
     "data": {
      "text/html": [
       "<div>\n",
       "<style scoped>\n",
       "    .dataframe tbody tr th:only-of-type {\n",
       "        vertical-align: middle;\n",
       "    }\n",
       "\n",
       "    .dataframe tbody tr th {\n",
       "        vertical-align: top;\n",
       "    }\n",
       "\n",
       "    .dataframe thead th {\n",
       "        text-align: right;\n",
       "    }\n",
       "</style>\n",
       "<table border=\"1\" class=\"dataframe\">\n",
       "  <thead>\n",
       "    <tr style=\"text-align: right;\">\n",
       "      <th></th>\n",
       "      <th>Lot Frontage</th>\n",
       "      <th>Lot Area</th>\n",
       "      <th>Overall Cond</th>\n",
       "      <th>Year Remod/Add</th>\n",
       "      <th>Mas Vnr Area</th>\n",
       "      <th>BsmtFin SF 1</th>\n",
       "      <th>1st Flr SF</th>\n",
       "      <th>2nd Flr SF</th>\n",
       "      <th>Gr Liv Area</th>\n",
       "      <th>Bedroom AbvGr</th>\n",
       "      <th>...</th>\n",
       "      <th>Condition 2_Feedr</th>\n",
       "      <th>Functional_Sal</th>\n",
       "      <th>Neighborhood_Landmrk</th>\n",
       "      <th>Condition 2_RRAe</th>\n",
       "      <th>Bsmt Cond_Fa</th>\n",
       "      <th>Exterior 1st_Stone</th>\n",
       "      <th>MS SubClass_150</th>\n",
       "      <th>Electrical_Mix</th>\n",
       "      <th>Exterior 1st_ImStucc</th>\n",
       "      <th>SalePrice</th>\n",
       "    </tr>\n",
       "    <tr>\n",
       "      <th>Id</th>\n",
       "      <th></th>\n",
       "      <th></th>\n",
       "      <th></th>\n",
       "      <th></th>\n",
       "      <th></th>\n",
       "      <th></th>\n",
       "      <th></th>\n",
       "      <th></th>\n",
       "      <th></th>\n",
       "      <th></th>\n",
       "      <th></th>\n",
       "      <th></th>\n",
       "      <th></th>\n",
       "      <th></th>\n",
       "      <th></th>\n",
       "      <th></th>\n",
       "      <th></th>\n",
       "      <th></th>\n",
       "      <th></th>\n",
       "      <th></th>\n",
       "      <th></th>\n",
       "    </tr>\n",
       "  </thead>\n",
       "  <tbody>\n",
       "    <tr>\n",
       "      <th>2658</th>\n",
       "      <td>69.000000</td>\n",
       "      <td>9142</td>\n",
       "      <td>8</td>\n",
       "      <td>1950</td>\n",
       "      <td>0.0</td>\n",
       "      <td>0</td>\n",
       "      <td>908</td>\n",
       "      <td>1020</td>\n",
       "      <td>1928</td>\n",
       "      <td>4</td>\n",
       "      <td>...</td>\n",
       "      <td>0</td>\n",
       "      <td>0</td>\n",
       "      <td>0</td>\n",
       "      <td>0</td>\n",
       "      <td>0</td>\n",
       "      <td>0</td>\n",
       "      <td>0</td>\n",
       "      <td>0</td>\n",
       "      <td>0</td>\n",
       "      <td>-119170.676862</td>\n",
       "    </tr>\n",
       "    <tr>\n",
       "      <th>2718</th>\n",
       "      <td>69.630042</td>\n",
       "      <td>9662</td>\n",
       "      <td>4</td>\n",
       "      <td>1977</td>\n",
       "      <td>0.0</td>\n",
       "      <td>0</td>\n",
       "      <td>1967</td>\n",
       "      <td>0</td>\n",
       "      <td>1967</td>\n",
       "      <td>6</td>\n",
       "      <td>...</td>\n",
       "      <td>0</td>\n",
       "      <td>0</td>\n",
       "      <td>0</td>\n",
       "      <td>0</td>\n",
       "      <td>0</td>\n",
       "      <td>0</td>\n",
       "      <td>0</td>\n",
       "      <td>0</td>\n",
       "      <td>0</td>\n",
       "      <td>-125215.572608</td>\n",
       "    </tr>\n",
       "    <tr>\n",
       "      <th>2414</th>\n",
       "      <td>58.000000</td>\n",
       "      <td>17104</td>\n",
       "      <td>5</td>\n",
       "      <td>2006</td>\n",
       "      <td>0.0</td>\n",
       "      <td>554</td>\n",
       "      <td>664</td>\n",
       "      <td>832</td>\n",
       "      <td>1496</td>\n",
       "      <td>3</td>\n",
       "      <td>...</td>\n",
       "      <td>0</td>\n",
       "      <td>0</td>\n",
       "      <td>0</td>\n",
       "      <td>0</td>\n",
       "      <td>0</td>\n",
       "      <td>0</td>\n",
       "      <td>0</td>\n",
       "      <td>0</td>\n",
       "      <td>0</td>\n",
       "      <td>-125801.256387</td>\n",
       "    </tr>\n",
       "    <tr>\n",
       "      <th>1989</th>\n",
       "      <td>60.000000</td>\n",
       "      <td>8520</td>\n",
       "      <td>6</td>\n",
       "      <td>2006</td>\n",
       "      <td>0.0</td>\n",
       "      <td>0</td>\n",
       "      <td>968</td>\n",
       "      <td>0</td>\n",
       "      <td>968</td>\n",
       "      <td>2</td>\n",
       "      <td>...</td>\n",
       "      <td>0</td>\n",
       "      <td>0</td>\n",
       "      <td>0</td>\n",
       "      <td>0</td>\n",
       "      <td>0</td>\n",
       "      <td>0</td>\n",
       "      <td>0</td>\n",
       "      <td>0</td>\n",
       "      <td>0</td>\n",
       "      <td>-116071.584173</td>\n",
       "    </tr>\n",
       "    <tr>\n",
       "      <th>625</th>\n",
       "      <td>69.630042</td>\n",
       "      <td>9500</td>\n",
       "      <td>5</td>\n",
       "      <td>1963</td>\n",
       "      <td>247.0</td>\n",
       "      <td>609</td>\n",
       "      <td>1394</td>\n",
       "      <td>0</td>\n",
       "      <td>1394</td>\n",
       "      <td>3</td>\n",
       "      <td>...</td>\n",
       "      <td>0</td>\n",
       "      <td>0</td>\n",
       "      <td>0</td>\n",
       "      <td>0</td>\n",
       "      <td>0</td>\n",
       "      <td>0</td>\n",
       "      <td>0</td>\n",
       "      <td>0</td>\n",
       "      <td>0</td>\n",
       "      <td>-112684.008472</td>\n",
       "    </tr>\n",
       "  </tbody>\n",
       "</table>\n",
       "<p>5 rows × 209 columns</p>\n",
       "</div>"
      ],
      "text/plain": [
       "      Lot Frontage  Lot Area  Overall Cond  Year Remod/Add  Mas Vnr Area  \\\n",
       "Id                                                                         \n",
       "2658     69.000000      9142             8            1950           0.0   \n",
       "2718     69.630042      9662             4            1977           0.0   \n",
       "2414     58.000000     17104             5            2006           0.0   \n",
       "1989     60.000000      8520             6            2006           0.0   \n",
       "625      69.630042      9500             5            1963         247.0   \n",
       "\n",
       "      BsmtFin SF 1  1st Flr SF  2nd Flr SF  Gr Liv Area  Bedroom AbvGr  ...  \\\n",
       "Id                                                                      ...   \n",
       "2658             0         908        1020         1928              4  ...   \n",
       "2718             0        1967           0         1967              6  ...   \n",
       "2414           554         664         832         1496              3  ...   \n",
       "1989             0         968           0          968              2  ...   \n",
       "625            609        1394           0         1394              3  ...   \n",
       "\n",
       "      Condition 2_Feedr  Functional_Sal  Neighborhood_Landmrk  \\\n",
       "Id                                                              \n",
       "2658                  0               0                     0   \n",
       "2718                  0               0                     0   \n",
       "2414                  0               0                     0   \n",
       "1989                  0               0                     0   \n",
       "625                   0               0                     0   \n",
       "\n",
       "      Condition 2_RRAe  Bsmt Cond_Fa  Exterior 1st_Stone  MS SubClass_150  \\\n",
       "Id                                                                          \n",
       "2658                 0             0                   0                0   \n",
       "2718                 0             0                   0                0   \n",
       "2414                 0             0                   0                0   \n",
       "1989                 0             0                   0                0   \n",
       "625                  0             0                   0                0   \n",
       "\n",
       "      Electrical_Mix  Exterior 1st_ImStucc      SalePrice  \n",
       "Id                                                         \n",
       "2658               0                     0 -119170.676862  \n",
       "2718               0                     0 -125215.572608  \n",
       "2414               0                     0 -125801.256387  \n",
       "1989               0                     0 -116071.584173  \n",
       "625                0                     0 -112684.008472  \n",
       "\n",
       "[5 rows x 209 columns]"
      ]
     },
     "execution_count": 42,
     "metadata": {},
     "output_type": "execute_result"
    }
   ],
   "source": [
    "ames_test_clean['SalePrice'] = y_pred_lasso\n",
    "ames_test_clean.head()"
   ]
  },
  {
   "cell_type": "code",
   "execution_count": 43,
   "metadata": {},
   "outputs": [],
   "source": [
    "ames_lasso_test = ames_test_clean['SalePrice'].to_csv('../datasets/lasso_test.csv')"
   ]
  },
  {
   "cell_type": "markdown",
   "metadata": {},
   "source": [
    "## Business Recommendations\n"
   ]
  },
  {
   "cell_type": "markdown",
   "metadata": {},
   "source": [
    "<i> Although the models are not very robust, features like overall condition and being located in certain neighborhoods such as Northridge and Northridge Heights has a strong, positive effect on the SalePrice of a house. </i>\n",
    "\n",
    "<i> Conversely, features like exterior quality and age of the house when sold can have a detrimental effect on SalePrice. </i>\n",
    "\n",
    "<i> Currently, the model is based closely on the housing features within the Ames housing dataset. To make it more universal, we will need to narrow down on universal housing features such as area, rooms, facilities etc. </i>"
   ]
  },
  {
   "cell_type": "markdown",
   "metadata": {},
   "source": [
    "> <font size = 3 color = \"crimson\"> Check that you have answered the problem statement</font>"
   ]
  },
  {
   "cell_type": "code",
   "execution_count": null,
   "metadata": {},
   "outputs": [],
   "source": []
  }
 ],
 "metadata": {
  "kernelspec": {
   "display_name": "Python 3",
   "language": "python",
   "name": "python3"
  },
  "language_info": {
   "codemirror_mode": {
    "name": "ipython",
    "version": 3
   },
   "file_extension": ".py",
   "mimetype": "text/x-python",
   "name": "python",
   "nbconvert_exporter": "python",
   "pygments_lexer": "ipython3",
   "version": "3.7.7"
  },
  "toc": {
   "base_numbering": 1,
   "nav_menu": {},
   "number_sections": true,
   "sideBar": true,
   "skip_h1_title": false,
   "title_cell": "Table of Contents",
   "title_sidebar": "Contents",
   "toc_cell": false,
   "toc_position": {
    "height": "calc(100% - 180px)",
    "left": "10px",
    "top": "150px",
    "width": "288px"
   },
   "toc_section_display": true,
   "toc_window_display": true
  }
 },
 "nbformat": 4,
 "nbformat_minor": 1
}
