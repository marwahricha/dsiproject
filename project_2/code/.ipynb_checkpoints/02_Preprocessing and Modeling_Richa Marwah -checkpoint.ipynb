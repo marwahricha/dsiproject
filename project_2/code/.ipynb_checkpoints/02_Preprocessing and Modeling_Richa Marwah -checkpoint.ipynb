{
 "cells": [
  {
   "cell_type": "markdown",
   "metadata": {},
   "source": [
    "# Project 2: Analysis of Ames Housing Data (Preprocessing and Modeling)"
   ]
  },
  {
   "cell_type": "markdown",
   "metadata": {},
   "source": [
    "### Content:\n",
    "- [Reading in Dataset](#Reading-in-Dataset)\n",
    "- [Preprocessing](#Preprocessing)\n",
    "- [Model Prep](#Model-Prep)\n",
    "- [Model Fitting and Evaluation](#Model-Fitting-and-Evaluation)\n",
    "- [Business Recommendations](#Business-Recommendations)"
   ]
  },
  {
   "cell_type": "code",
   "execution_count": 1,
   "metadata": {},
   "outputs": [],
   "source": [
    "#Importing libraries\n",
    "import pandas as pd\n",
    "import numpy as np\n",
    "import matplotlib.pyplot as plt\n",
    "import seaborn as sns\n",
    "from sklearn.model_selection import train_test_split, cross_val_score\n",
    "from sklearn.linear_model import LinearRegression, Lasso, Ridge, LassoCV, RidgeCV\n",
    "from sklearn.metrics import mean_squared_error, r2_score\n",
    "from sklearn.preprocessing import StandardScaler"
   ]
  },
  {
   "cell_type": "markdown",
   "metadata": {},
   "source": [
    "## Reading in Dataset"
   ]
  },
  {
   "cell_type": "code",
   "execution_count": 2,
   "metadata": {},
   "outputs": [
    {
     "data": {
      "text/html": [
       "<div>\n",
       "<style scoped>\n",
       "    .dataframe tbody tr th:only-of-type {\n",
       "        vertical-align: middle;\n",
       "    }\n",
       "\n",
       "    .dataframe tbody tr th {\n",
       "        vertical-align: top;\n",
       "    }\n",
       "\n",
       "    .dataframe thead th {\n",
       "        text-align: right;\n",
       "    }\n",
       "</style>\n",
       "<table border=\"1\" class=\"dataframe\">\n",
       "  <thead>\n",
       "    <tr style=\"text-align: right;\">\n",
       "      <th></th>\n",
       "      <th>Id</th>\n",
       "      <th>MS SubClass</th>\n",
       "      <th>MS Zoning</th>\n",
       "      <th>Lot Frontage</th>\n",
       "      <th>Lot Area</th>\n",
       "      <th>Lot Shape</th>\n",
       "      <th>Lot Config</th>\n",
       "      <th>Neighborhood</th>\n",
       "      <th>House Style</th>\n",
       "      <th>Overall Qual</th>\n",
       "      <th>...</th>\n",
       "      <th>Garage Yr Blt</th>\n",
       "      <th>Garage Finish</th>\n",
       "      <th>Garage Cars</th>\n",
       "      <th>Garage Area</th>\n",
       "      <th>Wood Deck SF</th>\n",
       "      <th>Open Porch SF</th>\n",
       "      <th>SalePrice</th>\n",
       "      <th>Age Sold</th>\n",
       "      <th>TotBath Bsmt</th>\n",
       "      <th>TotBath AbvGr</th>\n",
       "    </tr>\n",
       "  </thead>\n",
       "  <tbody>\n",
       "    <tr>\n",
       "      <th>0</th>\n",
       "      <td>109</td>\n",
       "      <td>60</td>\n",
       "      <td>RL</td>\n",
       "      <td>69.0552</td>\n",
       "      <td>13517</td>\n",
       "      <td>IR1</td>\n",
       "      <td>CulDSac</td>\n",
       "      <td>Sawyer</td>\n",
       "      <td>2Story</td>\n",
       "      <td>6</td>\n",
       "      <td>...</td>\n",
       "      <td>1976.0</td>\n",
       "      <td>RFn</td>\n",
       "      <td>2.0</td>\n",
       "      <td>475.0</td>\n",
       "      <td>0</td>\n",
       "      <td>44</td>\n",
       "      <td>130500</td>\n",
       "      <td>34</td>\n",
       "      <td>0.0</td>\n",
       "      <td>3</td>\n",
       "    </tr>\n",
       "    <tr>\n",
       "      <th>1</th>\n",
       "      <td>544</td>\n",
       "      <td>60</td>\n",
       "      <td>RL</td>\n",
       "      <td>43.0000</td>\n",
       "      <td>11492</td>\n",
       "      <td>IR1</td>\n",
       "      <td>CulDSac</td>\n",
       "      <td>SawyerW</td>\n",
       "      <td>2Story</td>\n",
       "      <td>7</td>\n",
       "      <td>...</td>\n",
       "      <td>1997.0</td>\n",
       "      <td>RFn</td>\n",
       "      <td>2.0</td>\n",
       "      <td>559.0</td>\n",
       "      <td>0</td>\n",
       "      <td>74</td>\n",
       "      <td>220000</td>\n",
       "      <td>13</td>\n",
       "      <td>1.0</td>\n",
       "      <td>3</td>\n",
       "    </tr>\n",
       "    <tr>\n",
       "      <th>2</th>\n",
       "      <td>153</td>\n",
       "      <td>20</td>\n",
       "      <td>RL</td>\n",
       "      <td>68.0000</td>\n",
       "      <td>7922</td>\n",
       "      <td>Reg</td>\n",
       "      <td>Inside</td>\n",
       "      <td>NAmes</td>\n",
       "      <td>1Story</td>\n",
       "      <td>5</td>\n",
       "      <td>...</td>\n",
       "      <td>1953.0</td>\n",
       "      <td>Unf</td>\n",
       "      <td>1.0</td>\n",
       "      <td>246.0</td>\n",
       "      <td>0</td>\n",
       "      <td>52</td>\n",
       "      <td>109000</td>\n",
       "      <td>57</td>\n",
       "      <td>1.0</td>\n",
       "      <td>1</td>\n",
       "    </tr>\n",
       "    <tr>\n",
       "      <th>3</th>\n",
       "      <td>318</td>\n",
       "      <td>60</td>\n",
       "      <td>RL</td>\n",
       "      <td>73.0000</td>\n",
       "      <td>9802</td>\n",
       "      <td>Reg</td>\n",
       "      <td>Inside</td>\n",
       "      <td>Timber</td>\n",
       "      <td>2Story</td>\n",
       "      <td>5</td>\n",
       "      <td>...</td>\n",
       "      <td>2007.0</td>\n",
       "      <td>Fin</td>\n",
       "      <td>2.0</td>\n",
       "      <td>400.0</td>\n",
       "      <td>100</td>\n",
       "      <td>0</td>\n",
       "      <td>174000</td>\n",
       "      <td>4</td>\n",
       "      <td>0.0</td>\n",
       "      <td>3</td>\n",
       "    </tr>\n",
       "    <tr>\n",
       "      <th>4</th>\n",
       "      <td>255</td>\n",
       "      <td>50</td>\n",
       "      <td>RL</td>\n",
       "      <td>82.0000</td>\n",
       "      <td>14235</td>\n",
       "      <td>IR1</td>\n",
       "      <td>Inside</td>\n",
       "      <td>SawyerW</td>\n",
       "      <td>1.5Fin</td>\n",
       "      <td>6</td>\n",
       "      <td>...</td>\n",
       "      <td>1957.0</td>\n",
       "      <td>Unf</td>\n",
       "      <td>2.0</td>\n",
       "      <td>484.0</td>\n",
       "      <td>0</td>\n",
       "      <td>59</td>\n",
       "      <td>138500</td>\n",
       "      <td>110</td>\n",
       "      <td>0.0</td>\n",
       "      <td>2</td>\n",
       "    </tr>\n",
       "  </tbody>\n",
       "</table>\n",
       "<p>5 rows × 43 columns</p>\n",
       "</div>"
      ],
      "text/plain": [
       "    Id  MS SubClass MS Zoning  Lot Frontage  Lot Area Lot Shape Lot Config  \\\n",
       "0  109           60        RL       69.0552     13517       IR1    CulDSac   \n",
       "1  544           60        RL       43.0000     11492       IR1    CulDSac   \n",
       "2  153           20        RL       68.0000      7922       Reg     Inside   \n",
       "3  318           60        RL       73.0000      9802       Reg     Inside   \n",
       "4  255           50        RL       82.0000     14235       IR1     Inside   \n",
       "\n",
       "  Neighborhood House Style  Overall Qual  ...  Garage Yr Blt Garage Finish  \\\n",
       "0       Sawyer      2Story             6  ...         1976.0           RFn   \n",
       "1      SawyerW      2Story             7  ...         1997.0           RFn   \n",
       "2        NAmes      1Story             5  ...         1953.0           Unf   \n",
       "3       Timber      2Story             5  ...         2007.0           Fin   \n",
       "4      SawyerW      1.5Fin             6  ...         1957.0           Unf   \n",
       "\n",
       "  Garage Cars Garage Area Wood Deck SF  Open Porch SF SalePrice Age Sold  \\\n",
       "0         2.0       475.0            0             44    130500       34   \n",
       "1         2.0       559.0            0             74    220000       13   \n",
       "2         1.0       246.0            0             52    109000       57   \n",
       "3         2.0       400.0          100              0    174000        4   \n",
       "4         2.0       484.0            0             59    138500      110   \n",
       "\n",
       "  TotBath Bsmt TotBath AbvGr  \n",
       "0          0.0             3  \n",
       "1          1.0             3  \n",
       "2          1.0             1  \n",
       "3          0.0             3  \n",
       "4          0.0             2  \n",
       "\n",
       "[5 rows x 43 columns]"
      ]
     },
     "execution_count": 2,
     "metadata": {},
     "output_type": "execute_result"
    }
   ],
   "source": [
    "#Reading in updated training data\n",
    "ames_train_clean = pd.read_csv('../datasets/train_cleaned.csv')\n",
    "ames_train_clean.head()"
   ]
  },
  {
   "cell_type": "code",
   "execution_count": 3,
   "metadata": {},
   "outputs": [
    {
     "data": {
      "text/html": [
       "<div>\n",
       "<style scoped>\n",
       "    .dataframe tbody tr th:only-of-type {\n",
       "        vertical-align: middle;\n",
       "    }\n",
       "\n",
       "    .dataframe tbody tr th {\n",
       "        vertical-align: top;\n",
       "    }\n",
       "\n",
       "    .dataframe thead th {\n",
       "        text-align: right;\n",
       "    }\n",
       "</style>\n",
       "<table border=\"1\" class=\"dataframe\">\n",
       "  <thead>\n",
       "    <tr style=\"text-align: right;\">\n",
       "      <th></th>\n",
       "      <th>MS SubClass</th>\n",
       "      <th>MS Zoning</th>\n",
       "      <th>Lot Frontage</th>\n",
       "      <th>Lot Area</th>\n",
       "      <th>Lot Shape</th>\n",
       "      <th>Lot Config</th>\n",
       "      <th>Neighborhood</th>\n",
       "      <th>House Style</th>\n",
       "      <th>Overall Qual</th>\n",
       "      <th>Year Remod/Add</th>\n",
       "      <th>...</th>\n",
       "      <th>Garage Yr Blt</th>\n",
       "      <th>Garage Finish</th>\n",
       "      <th>Garage Cars</th>\n",
       "      <th>Garage Area</th>\n",
       "      <th>Wood Deck SF</th>\n",
       "      <th>Open Porch SF</th>\n",
       "      <th>SalePrice</th>\n",
       "      <th>Age Sold</th>\n",
       "      <th>TotBath Bsmt</th>\n",
       "      <th>TotBath AbvGr</th>\n",
       "    </tr>\n",
       "    <tr>\n",
       "      <th>Id</th>\n",
       "      <th></th>\n",
       "      <th></th>\n",
       "      <th></th>\n",
       "      <th></th>\n",
       "      <th></th>\n",
       "      <th></th>\n",
       "      <th></th>\n",
       "      <th></th>\n",
       "      <th></th>\n",
       "      <th></th>\n",
       "      <th></th>\n",
       "      <th></th>\n",
       "      <th></th>\n",
       "      <th></th>\n",
       "      <th></th>\n",
       "      <th></th>\n",
       "      <th></th>\n",
       "      <th></th>\n",
       "      <th></th>\n",
       "      <th></th>\n",
       "      <th></th>\n",
       "    </tr>\n",
       "  </thead>\n",
       "  <tbody>\n",
       "    <tr>\n",
       "      <th>109</th>\n",
       "      <td>60</td>\n",
       "      <td>RL</td>\n",
       "      <td>69.0552</td>\n",
       "      <td>13517</td>\n",
       "      <td>IR1</td>\n",
       "      <td>CulDSac</td>\n",
       "      <td>Sawyer</td>\n",
       "      <td>2Story</td>\n",
       "      <td>6</td>\n",
       "      <td>2005</td>\n",
       "      <td>...</td>\n",
       "      <td>1976.0</td>\n",
       "      <td>RFn</td>\n",
       "      <td>2.0</td>\n",
       "      <td>475.0</td>\n",
       "      <td>0</td>\n",
       "      <td>44</td>\n",
       "      <td>130500</td>\n",
       "      <td>34</td>\n",
       "      <td>0.0</td>\n",
       "      <td>3</td>\n",
       "    </tr>\n",
       "    <tr>\n",
       "      <th>544</th>\n",
       "      <td>60</td>\n",
       "      <td>RL</td>\n",
       "      <td>43.0000</td>\n",
       "      <td>11492</td>\n",
       "      <td>IR1</td>\n",
       "      <td>CulDSac</td>\n",
       "      <td>SawyerW</td>\n",
       "      <td>2Story</td>\n",
       "      <td>7</td>\n",
       "      <td>1997</td>\n",
       "      <td>...</td>\n",
       "      <td>1997.0</td>\n",
       "      <td>RFn</td>\n",
       "      <td>2.0</td>\n",
       "      <td>559.0</td>\n",
       "      <td>0</td>\n",
       "      <td>74</td>\n",
       "      <td>220000</td>\n",
       "      <td>13</td>\n",
       "      <td>1.0</td>\n",
       "      <td>3</td>\n",
       "    </tr>\n",
       "    <tr>\n",
       "      <th>153</th>\n",
       "      <td>20</td>\n",
       "      <td>RL</td>\n",
       "      <td>68.0000</td>\n",
       "      <td>7922</td>\n",
       "      <td>Reg</td>\n",
       "      <td>Inside</td>\n",
       "      <td>NAmes</td>\n",
       "      <td>1Story</td>\n",
       "      <td>5</td>\n",
       "      <td>2007</td>\n",
       "      <td>...</td>\n",
       "      <td>1953.0</td>\n",
       "      <td>Unf</td>\n",
       "      <td>1.0</td>\n",
       "      <td>246.0</td>\n",
       "      <td>0</td>\n",
       "      <td>52</td>\n",
       "      <td>109000</td>\n",
       "      <td>57</td>\n",
       "      <td>1.0</td>\n",
       "      <td>1</td>\n",
       "    </tr>\n",
       "    <tr>\n",
       "      <th>318</th>\n",
       "      <td>60</td>\n",
       "      <td>RL</td>\n",
       "      <td>73.0000</td>\n",
       "      <td>9802</td>\n",
       "      <td>Reg</td>\n",
       "      <td>Inside</td>\n",
       "      <td>Timber</td>\n",
       "      <td>2Story</td>\n",
       "      <td>5</td>\n",
       "      <td>2007</td>\n",
       "      <td>...</td>\n",
       "      <td>2007.0</td>\n",
       "      <td>Fin</td>\n",
       "      <td>2.0</td>\n",
       "      <td>400.0</td>\n",
       "      <td>100</td>\n",
       "      <td>0</td>\n",
       "      <td>174000</td>\n",
       "      <td>4</td>\n",
       "      <td>0.0</td>\n",
       "      <td>3</td>\n",
       "    </tr>\n",
       "    <tr>\n",
       "      <th>255</th>\n",
       "      <td>50</td>\n",
       "      <td>RL</td>\n",
       "      <td>82.0000</td>\n",
       "      <td>14235</td>\n",
       "      <td>IR1</td>\n",
       "      <td>Inside</td>\n",
       "      <td>SawyerW</td>\n",
       "      <td>1.5Fin</td>\n",
       "      <td>6</td>\n",
       "      <td>1993</td>\n",
       "      <td>...</td>\n",
       "      <td>1957.0</td>\n",
       "      <td>Unf</td>\n",
       "      <td>2.0</td>\n",
       "      <td>484.0</td>\n",
       "      <td>0</td>\n",
       "      <td>59</td>\n",
       "      <td>138500</td>\n",
       "      <td>110</td>\n",
       "      <td>0.0</td>\n",
       "      <td>2</td>\n",
       "    </tr>\n",
       "  </tbody>\n",
       "</table>\n",
       "<p>5 rows × 42 columns</p>\n",
       "</div>"
      ],
      "text/plain": [
       "     MS SubClass MS Zoning  Lot Frontage  Lot Area Lot Shape Lot Config  \\\n",
       "Id                                                                        \n",
       "109           60        RL       69.0552     13517       IR1    CulDSac   \n",
       "544           60        RL       43.0000     11492       IR1    CulDSac   \n",
       "153           20        RL       68.0000      7922       Reg     Inside   \n",
       "318           60        RL       73.0000      9802       Reg     Inside   \n",
       "255           50        RL       82.0000     14235       IR1     Inside   \n",
       "\n",
       "    Neighborhood House Style  Overall Qual  Year Remod/Add  ... Garage Yr Blt  \\\n",
       "Id                                                          ...                 \n",
       "109       Sawyer      2Story             6            2005  ...        1976.0   \n",
       "544      SawyerW      2Story             7            1997  ...        1997.0   \n",
       "153        NAmes      1Story             5            2007  ...        1953.0   \n",
       "318       Timber      2Story             5            2007  ...        2007.0   \n",
       "255      SawyerW      1.5Fin             6            1993  ...        1957.0   \n",
       "\n",
       "    Garage Finish Garage Cars Garage Area  Wood Deck SF Open Porch SF  \\\n",
       "Id                                                                      \n",
       "109           RFn         2.0       475.0             0            44   \n",
       "544           RFn         2.0       559.0             0            74   \n",
       "153           Unf         1.0       246.0             0            52   \n",
       "318           Fin         2.0       400.0           100             0   \n",
       "255           Unf         2.0       484.0             0            59   \n",
       "\n",
       "    SalePrice Age Sold TotBath Bsmt TotBath AbvGr  \n",
       "Id                                                 \n",
       "109    130500       34          0.0             3  \n",
       "544    220000       13          1.0             3  \n",
       "153    109000       57          1.0             1  \n",
       "318    174000        4          0.0             3  \n",
       "255    138500      110          0.0             2  \n",
       "\n",
       "[5 rows x 42 columns]"
      ]
     },
     "execution_count": 3,
     "metadata": {},
     "output_type": "execute_result"
    }
   ],
   "source": [
    "ames_train_clean = ames_train_clean.set_index('Id', drop=True)\n",
    "ames_train_clean.head()"
   ]
  },
  {
   "cell_type": "code",
   "execution_count": 4,
   "metadata": {},
   "outputs": [
    {
     "name": "stdout",
     "output_type": "stream",
     "text": [
      "<class 'pandas.core.frame.DataFrame'>\n",
      "Int64Index: 1864 entries, 109 to 10\n",
      "Data columns (total 42 columns):\n",
      " #   Column          Non-Null Count  Dtype  \n",
      "---  ------          --------------  -----  \n",
      " 0   MS SubClass     1864 non-null   int64  \n",
      " 1   MS Zoning       1864 non-null   object \n",
      " 2   Lot Frontage    1864 non-null   float64\n",
      " 3   Lot Area        1864 non-null   int64  \n",
      " 4   Lot Shape       1864 non-null   object \n",
      " 5   Lot Config      1864 non-null   object \n",
      " 6   Neighborhood    1864 non-null   object \n",
      " 7   House Style     1864 non-null   object \n",
      " 8   Overall Qual    1864 non-null   int64  \n",
      " 9   Year Remod/Add  1864 non-null   int64  \n",
      " 10  Roof Style      1864 non-null   object \n",
      " 11  Exterior 1st    1864 non-null   object \n",
      " 12  Exterior 2nd    1864 non-null   object \n",
      " 13  Mas Vnr Type    1864 non-null   object \n",
      " 14  Mas Vnr Area    1864 non-null   float64\n",
      " 15  Exter Qual      1864 non-null   object \n",
      " 16  Foundation      1864 non-null   object \n",
      " 17  Bsmt Qual       1864 non-null   object \n",
      " 18  Bsmt Exposure   1864 non-null   object \n",
      " 19  BsmtFin Type 1  1864 non-null   object \n",
      " 20  BsmtFin SF 1    1864 non-null   float64\n",
      " 21  Heating QC      1864 non-null   object \n",
      " 22  1st Flr SF      1864 non-null   int64  \n",
      " 23  2nd Flr SF      1864 non-null   int64  \n",
      " 24  Gr Liv Area     1864 non-null   int64  \n",
      " 25  Bedroom AbvGr   1864 non-null   int64  \n",
      " 26  Kitchen AbvGr   1864 non-null   int64  \n",
      " 27  Kitchen Qual    1864 non-null   object \n",
      " 28  TotRms AbvGrd   1864 non-null   int64  \n",
      " 29  Fireplaces      1864 non-null   int64  \n",
      " 30  Fireplace Qu    1864 non-null   object \n",
      " 31  Garage Type     1864 non-null   object \n",
      " 32  Garage Yr Blt   1864 non-null   float64\n",
      " 33  Garage Finish   1864 non-null   object \n",
      " 34  Garage Cars     1864 non-null   float64\n",
      " 35  Garage Area     1864 non-null   float64\n",
      " 36  Wood Deck SF    1864 non-null   int64  \n",
      " 37  Open Porch SF   1864 non-null   int64  \n",
      " 38  SalePrice       1864 non-null   int64  \n",
      " 39  Age Sold        1864 non-null   int64  \n",
      " 40  TotBath Bsmt    1864 non-null   float64\n",
      " 41  TotBath AbvGr   1864 non-null   int64  \n",
      "dtypes: float64(7), int64(16), object(19)\n",
      "memory usage: 626.2+ KB\n"
     ]
    }
   ],
   "source": [
    "ames_train_clean.info()"
   ]
  },
  {
   "cell_type": "markdown",
   "metadata": {},
   "source": [
    "<i> Ensuring categorical variables are reflected as such after reading in the clean dataset. </i>"
   ]
  },
  {
   "cell_type": "code",
   "execution_count": 5,
   "metadata": {},
   "outputs": [],
   "source": [
    "ames_train_clean['MS SubClass'] = ames_train_clean['MS SubClass'].astype(str)"
   ]
  },
  {
   "cell_type": "code",
   "execution_count": 6,
   "metadata": {},
   "outputs": [
    {
     "data": {
      "text/html": [
       "<div>\n",
       "<style scoped>\n",
       "    .dataframe tbody tr th:only-of-type {\n",
       "        vertical-align: middle;\n",
       "    }\n",
       "\n",
       "    .dataframe tbody tr th {\n",
       "        vertical-align: top;\n",
       "    }\n",
       "\n",
       "    .dataframe thead th {\n",
       "        text-align: right;\n",
       "    }\n",
       "</style>\n",
       "<table border=\"1\" class=\"dataframe\">\n",
       "  <thead>\n",
       "    <tr style=\"text-align: right;\">\n",
       "      <th></th>\n",
       "      <th>Id</th>\n",
       "      <th>MS SubClass</th>\n",
       "      <th>MS Zoning</th>\n",
       "      <th>Lot Frontage</th>\n",
       "      <th>Lot Area</th>\n",
       "      <th>Lot Shape</th>\n",
       "      <th>Lot Config</th>\n",
       "      <th>Neighborhood</th>\n",
       "      <th>House Style</th>\n",
       "      <th>Overall Qual</th>\n",
       "      <th>...</th>\n",
       "      <th>Garage Type</th>\n",
       "      <th>Garage Yr Blt</th>\n",
       "      <th>Garage Finish</th>\n",
       "      <th>Garage Cars</th>\n",
       "      <th>Garage Area</th>\n",
       "      <th>Wood Deck SF</th>\n",
       "      <th>Open Porch SF</th>\n",
       "      <th>Age Sold</th>\n",
       "      <th>TotBath Bsmt</th>\n",
       "      <th>TotBath AbvGr</th>\n",
       "    </tr>\n",
       "  </thead>\n",
       "  <tbody>\n",
       "    <tr>\n",
       "      <th>0</th>\n",
       "      <td>2658</td>\n",
       "      <td>190</td>\n",
       "      <td>RM</td>\n",
       "      <td>69.000000</td>\n",
       "      <td>9142</td>\n",
       "      <td>Reg</td>\n",
       "      <td>Inside</td>\n",
       "      <td>OldTown</td>\n",
       "      <td>2Story</td>\n",
       "      <td>6</td>\n",
       "      <td>...</td>\n",
       "      <td>Detchd</td>\n",
       "      <td>1910.0</td>\n",
       "      <td>Unf</td>\n",
       "      <td>1</td>\n",
       "      <td>440</td>\n",
       "      <td>0</td>\n",
       "      <td>60</td>\n",
       "      <td>96</td>\n",
       "      <td>0.0</td>\n",
       "      <td>2</td>\n",
       "    </tr>\n",
       "    <tr>\n",
       "      <th>1</th>\n",
       "      <td>2718</td>\n",
       "      <td>90</td>\n",
       "      <td>RL</td>\n",
       "      <td>69.630042</td>\n",
       "      <td>9662</td>\n",
       "      <td>IR1</td>\n",
       "      <td>Inside</td>\n",
       "      <td>Sawyer</td>\n",
       "      <td>1Story</td>\n",
       "      <td>5</td>\n",
       "      <td>...</td>\n",
       "      <td>Attchd</td>\n",
       "      <td>1977.0</td>\n",
       "      <td>Fin</td>\n",
       "      <td>2</td>\n",
       "      <td>580</td>\n",
       "      <td>170</td>\n",
       "      <td>0</td>\n",
       "      <td>29</td>\n",
       "      <td>0.0</td>\n",
       "      <td>2</td>\n",
       "    </tr>\n",
       "    <tr>\n",
       "      <th>2</th>\n",
       "      <td>2414</td>\n",
       "      <td>60</td>\n",
       "      <td>RL</td>\n",
       "      <td>58.000000</td>\n",
       "      <td>17104</td>\n",
       "      <td>IR1</td>\n",
       "      <td>Inside</td>\n",
       "      <td>Gilbert</td>\n",
       "      <td>2Story</td>\n",
       "      <td>7</td>\n",
       "      <td>...</td>\n",
       "      <td>Attchd</td>\n",
       "      <td>2006.0</td>\n",
       "      <td>RFn</td>\n",
       "      <td>2</td>\n",
       "      <td>426</td>\n",
       "      <td>100</td>\n",
       "      <td>24</td>\n",
       "      <td>0</td>\n",
       "      <td>1.0</td>\n",
       "      <td>3</td>\n",
       "    </tr>\n",
       "    <tr>\n",
       "      <th>3</th>\n",
       "      <td>1989</td>\n",
       "      <td>30</td>\n",
       "      <td>RM</td>\n",
       "      <td>60.000000</td>\n",
       "      <td>8520</td>\n",
       "      <td>Reg</td>\n",
       "      <td>Inside</td>\n",
       "      <td>OldTown</td>\n",
       "      <td>1Story</td>\n",
       "      <td>5</td>\n",
       "      <td>...</td>\n",
       "      <td>Detchd</td>\n",
       "      <td>1935.0</td>\n",
       "      <td>Unf</td>\n",
       "      <td>2</td>\n",
       "      <td>480</td>\n",
       "      <td>0</td>\n",
       "      <td>0</td>\n",
       "      <td>84</td>\n",
       "      <td>0.0</td>\n",
       "      <td>1</td>\n",
       "    </tr>\n",
       "    <tr>\n",
       "      <th>4</th>\n",
       "      <td>625</td>\n",
       "      <td>20</td>\n",
       "      <td>RL</td>\n",
       "      <td>69.630042</td>\n",
       "      <td>9500</td>\n",
       "      <td>IR1</td>\n",
       "      <td>Inside</td>\n",
       "      <td>NAmes</td>\n",
       "      <td>1Story</td>\n",
       "      <td>6</td>\n",
       "      <td>...</td>\n",
       "      <td>Attchd</td>\n",
       "      <td>1963.0</td>\n",
       "      <td>RFn</td>\n",
       "      <td>2</td>\n",
       "      <td>514</td>\n",
       "      <td>0</td>\n",
       "      <td>76</td>\n",
       "      <td>46</td>\n",
       "      <td>1.0</td>\n",
       "      <td>2</td>\n",
       "    </tr>\n",
       "  </tbody>\n",
       "</table>\n",
       "<p>5 rows × 42 columns</p>\n",
       "</div>"
      ],
      "text/plain": [
       "     Id  MS SubClass MS Zoning  Lot Frontage  Lot Area Lot Shape Lot Config  \\\n",
       "0  2658          190        RM     69.000000      9142       Reg     Inside   \n",
       "1  2718           90        RL     69.630042      9662       IR1     Inside   \n",
       "2  2414           60        RL     58.000000     17104       IR1     Inside   \n",
       "3  1989           30        RM     60.000000      8520       Reg     Inside   \n",
       "4   625           20        RL     69.630042      9500       IR1     Inside   \n",
       "\n",
       "  Neighborhood House Style  Overall Qual  ...  Garage Type Garage Yr Blt  \\\n",
       "0      OldTown      2Story             6  ...       Detchd        1910.0   \n",
       "1       Sawyer      1Story             5  ...       Attchd        1977.0   \n",
       "2      Gilbert      2Story             7  ...       Attchd        2006.0   \n",
       "3      OldTown      1Story             5  ...       Detchd        1935.0   \n",
       "4        NAmes      1Story             6  ...       Attchd        1963.0   \n",
       "\n",
       "  Garage Finish Garage Cars Garage Area  Wood Deck SF Open Porch SF Age Sold  \\\n",
       "0           Unf           1         440             0            60       96   \n",
       "1           Fin           2         580           170             0       29   \n",
       "2           RFn           2         426           100            24        0   \n",
       "3           Unf           2         480             0             0       84   \n",
       "4           RFn           2         514             0            76       46   \n",
       "\n",
       "  TotBath Bsmt TotBath AbvGr  \n",
       "0          0.0             2  \n",
       "1          0.0             2  \n",
       "2          1.0             3  \n",
       "3          0.0             1  \n",
       "4          1.0             2  \n",
       "\n",
       "[5 rows x 42 columns]"
      ]
     },
     "execution_count": 6,
     "metadata": {},
     "output_type": "execute_result"
    }
   ],
   "source": [
    "#Reading in updated test data\n",
    "ames_test_clean = pd.read_csv('../datasets/test_cleaned.csv')\n",
    "ames_test_clean.head()"
   ]
  },
  {
   "cell_type": "code",
   "execution_count": 7,
   "metadata": {},
   "outputs": [
    {
     "data": {
      "text/html": [
       "<div>\n",
       "<style scoped>\n",
       "    .dataframe tbody tr th:only-of-type {\n",
       "        vertical-align: middle;\n",
       "    }\n",
       "\n",
       "    .dataframe tbody tr th {\n",
       "        vertical-align: top;\n",
       "    }\n",
       "\n",
       "    .dataframe thead th {\n",
       "        text-align: right;\n",
       "    }\n",
       "</style>\n",
       "<table border=\"1\" class=\"dataframe\">\n",
       "  <thead>\n",
       "    <tr style=\"text-align: right;\">\n",
       "      <th></th>\n",
       "      <th>MS SubClass</th>\n",
       "      <th>MS Zoning</th>\n",
       "      <th>Lot Frontage</th>\n",
       "      <th>Lot Area</th>\n",
       "      <th>Lot Shape</th>\n",
       "      <th>Lot Config</th>\n",
       "      <th>Neighborhood</th>\n",
       "      <th>House Style</th>\n",
       "      <th>Overall Qual</th>\n",
       "      <th>Year Remod/Add</th>\n",
       "      <th>...</th>\n",
       "      <th>Garage Type</th>\n",
       "      <th>Garage Yr Blt</th>\n",
       "      <th>Garage Finish</th>\n",
       "      <th>Garage Cars</th>\n",
       "      <th>Garage Area</th>\n",
       "      <th>Wood Deck SF</th>\n",
       "      <th>Open Porch SF</th>\n",
       "      <th>Age Sold</th>\n",
       "      <th>TotBath Bsmt</th>\n",
       "      <th>TotBath AbvGr</th>\n",
       "    </tr>\n",
       "    <tr>\n",
       "      <th>Id</th>\n",
       "      <th></th>\n",
       "      <th></th>\n",
       "      <th></th>\n",
       "      <th></th>\n",
       "      <th></th>\n",
       "      <th></th>\n",
       "      <th></th>\n",
       "      <th></th>\n",
       "      <th></th>\n",
       "      <th></th>\n",
       "      <th></th>\n",
       "      <th></th>\n",
       "      <th></th>\n",
       "      <th></th>\n",
       "      <th></th>\n",
       "      <th></th>\n",
       "      <th></th>\n",
       "      <th></th>\n",
       "      <th></th>\n",
       "      <th></th>\n",
       "      <th></th>\n",
       "    </tr>\n",
       "  </thead>\n",
       "  <tbody>\n",
       "    <tr>\n",
       "      <th>2658</th>\n",
       "      <td>190</td>\n",
       "      <td>RM</td>\n",
       "      <td>69.000000</td>\n",
       "      <td>9142</td>\n",
       "      <td>Reg</td>\n",
       "      <td>Inside</td>\n",
       "      <td>OldTown</td>\n",
       "      <td>2Story</td>\n",
       "      <td>6</td>\n",
       "      <td>1950</td>\n",
       "      <td>...</td>\n",
       "      <td>Detchd</td>\n",
       "      <td>1910.0</td>\n",
       "      <td>Unf</td>\n",
       "      <td>1</td>\n",
       "      <td>440</td>\n",
       "      <td>0</td>\n",
       "      <td>60</td>\n",
       "      <td>96</td>\n",
       "      <td>0.0</td>\n",
       "      <td>2</td>\n",
       "    </tr>\n",
       "    <tr>\n",
       "      <th>2718</th>\n",
       "      <td>90</td>\n",
       "      <td>RL</td>\n",
       "      <td>69.630042</td>\n",
       "      <td>9662</td>\n",
       "      <td>IR1</td>\n",
       "      <td>Inside</td>\n",
       "      <td>Sawyer</td>\n",
       "      <td>1Story</td>\n",
       "      <td>5</td>\n",
       "      <td>1977</td>\n",
       "      <td>...</td>\n",
       "      <td>Attchd</td>\n",
       "      <td>1977.0</td>\n",
       "      <td>Fin</td>\n",
       "      <td>2</td>\n",
       "      <td>580</td>\n",
       "      <td>170</td>\n",
       "      <td>0</td>\n",
       "      <td>29</td>\n",
       "      <td>0.0</td>\n",
       "      <td>2</td>\n",
       "    </tr>\n",
       "    <tr>\n",
       "      <th>2414</th>\n",
       "      <td>60</td>\n",
       "      <td>RL</td>\n",
       "      <td>58.000000</td>\n",
       "      <td>17104</td>\n",
       "      <td>IR1</td>\n",
       "      <td>Inside</td>\n",
       "      <td>Gilbert</td>\n",
       "      <td>2Story</td>\n",
       "      <td>7</td>\n",
       "      <td>2006</td>\n",
       "      <td>...</td>\n",
       "      <td>Attchd</td>\n",
       "      <td>2006.0</td>\n",
       "      <td>RFn</td>\n",
       "      <td>2</td>\n",
       "      <td>426</td>\n",
       "      <td>100</td>\n",
       "      <td>24</td>\n",
       "      <td>0</td>\n",
       "      <td>1.0</td>\n",
       "      <td>3</td>\n",
       "    </tr>\n",
       "    <tr>\n",
       "      <th>1989</th>\n",
       "      <td>30</td>\n",
       "      <td>RM</td>\n",
       "      <td>60.000000</td>\n",
       "      <td>8520</td>\n",
       "      <td>Reg</td>\n",
       "      <td>Inside</td>\n",
       "      <td>OldTown</td>\n",
       "      <td>1Story</td>\n",
       "      <td>5</td>\n",
       "      <td>2006</td>\n",
       "      <td>...</td>\n",
       "      <td>Detchd</td>\n",
       "      <td>1935.0</td>\n",
       "      <td>Unf</td>\n",
       "      <td>2</td>\n",
       "      <td>480</td>\n",
       "      <td>0</td>\n",
       "      <td>0</td>\n",
       "      <td>84</td>\n",
       "      <td>0.0</td>\n",
       "      <td>1</td>\n",
       "    </tr>\n",
       "    <tr>\n",
       "      <th>625</th>\n",
       "      <td>20</td>\n",
       "      <td>RL</td>\n",
       "      <td>69.630042</td>\n",
       "      <td>9500</td>\n",
       "      <td>IR1</td>\n",
       "      <td>Inside</td>\n",
       "      <td>NAmes</td>\n",
       "      <td>1Story</td>\n",
       "      <td>6</td>\n",
       "      <td>1963</td>\n",
       "      <td>...</td>\n",
       "      <td>Attchd</td>\n",
       "      <td>1963.0</td>\n",
       "      <td>RFn</td>\n",
       "      <td>2</td>\n",
       "      <td>514</td>\n",
       "      <td>0</td>\n",
       "      <td>76</td>\n",
       "      <td>46</td>\n",
       "      <td>1.0</td>\n",
       "      <td>2</td>\n",
       "    </tr>\n",
       "  </tbody>\n",
       "</table>\n",
       "<p>5 rows × 41 columns</p>\n",
       "</div>"
      ],
      "text/plain": [
       "      MS SubClass MS Zoning  Lot Frontage  Lot Area Lot Shape Lot Config  \\\n",
       "Id                                                                         \n",
       "2658          190        RM     69.000000      9142       Reg     Inside   \n",
       "2718           90        RL     69.630042      9662       IR1     Inside   \n",
       "2414           60        RL     58.000000     17104       IR1     Inside   \n",
       "1989           30        RM     60.000000      8520       Reg     Inside   \n",
       "625            20        RL     69.630042      9500       IR1     Inside   \n",
       "\n",
       "     Neighborhood House Style  Overall Qual  Year Remod/Add  ... Garage Type  \\\n",
       "Id                                                           ...               \n",
       "2658      OldTown      2Story             6            1950  ...      Detchd   \n",
       "2718       Sawyer      1Story             5            1977  ...      Attchd   \n",
       "2414      Gilbert      2Story             7            2006  ...      Attchd   \n",
       "1989      OldTown      1Story             5            2006  ...      Detchd   \n",
       "625         NAmes      1Story             6            1963  ...      Attchd   \n",
       "\n",
       "     Garage Yr Blt Garage Finish Garage Cars  Garage Area Wood Deck SF  \\\n",
       "Id                                                                       \n",
       "2658        1910.0           Unf           1          440            0   \n",
       "2718        1977.0           Fin           2          580          170   \n",
       "2414        2006.0           RFn           2          426          100   \n",
       "1989        1935.0           Unf           2          480            0   \n",
       "625         1963.0           RFn           2          514            0   \n",
       "\n",
       "     Open Porch SF Age Sold TotBath Bsmt TotBath AbvGr  \n",
       "Id                                                      \n",
       "2658            60       96          0.0             2  \n",
       "2718             0       29          0.0             2  \n",
       "2414            24        0          1.0             3  \n",
       "1989             0       84          0.0             1  \n",
       "625             76       46          1.0             2  \n",
       "\n",
       "[5 rows x 41 columns]"
      ]
     },
     "execution_count": 7,
     "metadata": {},
     "output_type": "execute_result"
    }
   ],
   "source": [
    "ames_test_clean = ames_test_clean.set_index('Id', drop=True)\n",
    "ames_test_clean.head()"
   ]
  },
  {
   "cell_type": "code",
   "execution_count": 8,
   "metadata": {},
   "outputs": [
    {
     "name": "stdout",
     "output_type": "stream",
     "text": [
      "<class 'pandas.core.frame.DataFrame'>\n",
      "Int64Index: 879 entries, 2658 to 1939\n",
      "Data columns (total 41 columns):\n",
      " #   Column          Non-Null Count  Dtype  \n",
      "---  ------          --------------  -----  \n",
      " 0   MS SubClass     879 non-null    int64  \n",
      " 1   MS Zoning       879 non-null    object \n",
      " 2   Lot Frontage    879 non-null    float64\n",
      " 3   Lot Area        879 non-null    int64  \n",
      " 4   Lot Shape       879 non-null    object \n",
      " 5   Lot Config      879 non-null    object \n",
      " 6   Neighborhood    879 non-null    object \n",
      " 7   House Style     879 non-null    object \n",
      " 8   Overall Qual    879 non-null    int64  \n",
      " 9   Year Remod/Add  879 non-null    int64  \n",
      " 10  Roof Style      879 non-null    object \n",
      " 11  Exterior 1st    879 non-null    object \n",
      " 12  Exterior 2nd    879 non-null    object \n",
      " 13  Mas Vnr Type    878 non-null    object \n",
      " 14  Mas Vnr Area    879 non-null    float64\n",
      " 15  Exter Qual      879 non-null    object \n",
      " 16  Foundation      879 non-null    object \n",
      " 17  Bsmt Qual       854 non-null    object \n",
      " 18  Bsmt Exposure   854 non-null    object \n",
      " 19  BsmtFin Type 1  854 non-null    object \n",
      " 20  BsmtFin SF 1    879 non-null    int64  \n",
      " 21  Heating QC      879 non-null    object \n",
      " 22  1st Flr SF      879 non-null    int64  \n",
      " 23  2nd Flr SF      879 non-null    int64  \n",
      " 24  Gr Liv Area     879 non-null    int64  \n",
      " 25  Bedroom AbvGr   879 non-null    int64  \n",
      " 26  Kitchen AbvGr   879 non-null    int64  \n",
      " 27  Kitchen Qual    879 non-null    object \n",
      " 28  TotRms AbvGrd   879 non-null    int64  \n",
      " 29  Fireplaces      879 non-null    int64  \n",
      " 30  Fireplace Qu    879 non-null    object \n",
      " 31  Garage Type     835 non-null    object \n",
      " 32  Garage Yr Blt   879 non-null    float64\n",
      " 33  Garage Finish   834 non-null    object \n",
      " 34  Garage Cars     879 non-null    int64  \n",
      " 35  Garage Area     879 non-null    int64  \n",
      " 36  Wood Deck SF    879 non-null    int64  \n",
      " 37  Open Porch SF   879 non-null    int64  \n",
      " 38  Age Sold        879 non-null    int64  \n",
      " 39  TotBath Bsmt    879 non-null    float64\n",
      " 40  TotBath AbvGr   879 non-null    int64  \n",
      "dtypes: float64(4), int64(18), object(19)\n",
      "memory usage: 288.4+ KB\n"
     ]
    }
   ],
   "source": [
    "ames_test_clean.info()"
   ]
  },
  {
   "cell_type": "markdown",
   "metadata": {},
   "source": [
    "<i> We observe some missing values in the test dataset. We will replace these with 0, to represent absence of the feature."
   ]
  },
  {
   "cell_type": "code",
   "execution_count": 9,
   "metadata": {},
   "outputs": [
    {
     "name": "stdout",
     "output_type": "stream",
     "text": [
      "<class 'pandas.core.frame.DataFrame'>\n",
      "Int64Index: 879 entries, 2658 to 1939\n",
      "Data columns (total 41 columns):\n",
      " #   Column          Non-Null Count  Dtype  \n",
      "---  ------          --------------  -----  \n",
      " 0   MS SubClass     879 non-null    int64  \n",
      " 1   MS Zoning       879 non-null    object \n",
      " 2   Lot Frontage    879 non-null    float64\n",
      " 3   Lot Area        879 non-null    int64  \n",
      " 4   Lot Shape       879 non-null    object \n",
      " 5   Lot Config      879 non-null    object \n",
      " 6   Neighborhood    879 non-null    object \n",
      " 7   House Style     879 non-null    object \n",
      " 8   Overall Qual    879 non-null    int64  \n",
      " 9   Year Remod/Add  879 non-null    int64  \n",
      " 10  Roof Style      879 non-null    object \n",
      " 11  Exterior 1st    879 non-null    object \n",
      " 12  Exterior 2nd    879 non-null    object \n",
      " 13  Mas Vnr Type    879 non-null    object \n",
      " 14  Mas Vnr Area    879 non-null    float64\n",
      " 15  Exter Qual      879 non-null    object \n",
      " 16  Foundation      879 non-null    object \n",
      " 17  Bsmt Qual       879 non-null    object \n",
      " 18  Bsmt Exposure   879 non-null    object \n",
      " 19  BsmtFin Type 1  879 non-null    object \n",
      " 20  BsmtFin SF 1    879 non-null    int64  \n",
      " 21  Heating QC      879 non-null    object \n",
      " 22  1st Flr SF      879 non-null    int64  \n",
      " 23  2nd Flr SF      879 non-null    int64  \n",
      " 24  Gr Liv Area     879 non-null    int64  \n",
      " 25  Bedroom AbvGr   879 non-null    int64  \n",
      " 26  Kitchen AbvGr   879 non-null    int64  \n",
      " 27  Kitchen Qual    879 non-null    object \n",
      " 28  TotRms AbvGrd   879 non-null    int64  \n",
      " 29  Fireplaces      879 non-null    int64  \n",
      " 30  Fireplace Qu    879 non-null    object \n",
      " 31  Garage Type     879 non-null    object \n",
      " 32  Garage Yr Blt   879 non-null    float64\n",
      " 33  Garage Finish   879 non-null    object \n",
      " 34  Garage Cars     879 non-null    int64  \n",
      " 35  Garage Area     879 non-null    int64  \n",
      " 36  Wood Deck SF    879 non-null    int64  \n",
      " 37  Open Porch SF   879 non-null    int64  \n",
      " 38  Age Sold        879 non-null    int64  \n",
      " 39  TotBath Bsmt    879 non-null    float64\n",
      " 40  TotBath AbvGr   879 non-null    int64  \n",
      "dtypes: float64(4), int64(18), object(19)\n",
      "memory usage: 288.4+ KB\n"
     ]
    }
   ],
   "source": [
    "ames_test_clean.replace(np.nan, 0, inplace=True)\n",
    "ames_test_clean.info()"
   ]
  },
  {
   "cell_type": "markdown",
   "metadata": {},
   "source": [
    "<i> Ensuring categorical variables are reflected as such after reading in the clean dataset. </i>"
   ]
  },
  {
   "cell_type": "code",
   "execution_count": 10,
   "metadata": {},
   "outputs": [],
   "source": [
    "ames_test_clean['MS SubClass'] = ames_test_clean['MS SubClass'].astype(str)"
   ]
  },
  {
   "cell_type": "markdown",
   "metadata": {},
   "source": [
    "## Preprocessing"
   ]
  },
  {
   "cell_type": "markdown",
   "metadata": {},
   "source": [
    "<i> We will need to preprocess the categorical variables in order to fit them into our models."
   ]
  },
  {
   "cell_type": "code",
   "execution_count": 11,
   "metadata": {},
   "outputs": [
    {
     "data": {
      "text/plain": [
       "Index(['MS SubClass', 'MS Zoning', 'Lot Shape', 'Lot Config', 'Neighborhood',\n",
       "       'House Style', 'Roof Style', 'Exterior 1st', 'Exterior 2nd',\n",
       "       'Mas Vnr Type', 'Exter Qual', 'Foundation', 'Bsmt Qual',\n",
       "       'Bsmt Exposure', 'BsmtFin Type 1', 'Heating QC', 'Kitchen Qual',\n",
       "       'Fireplace Qu', 'Garage Type', 'Garage Finish'],\n",
       "      dtype='object')"
      ]
     },
     "execution_count": 11,
     "metadata": {},
     "output_type": "execute_result"
    }
   ],
   "source": [
    "#Examining categorical variables\n",
    "Numerics = ['int64', 'float64']\n",
    "ames_train_clean_cat = ames_train_clean.select_dtypes(exclude=Numerics)\n",
    "ames_train_clean_cat.columns"
   ]
  },
  {
   "cell_type": "code",
   "execution_count": 12,
   "metadata": {},
   "outputs": [],
   "source": [
    "#Further diving categorical variables into nominal and ordinal for ease of preprocessing.\n",
    "nominal_variables = ['MS SubClass', 'MS Zoning', 'Lot Config', 'Neighborhood', 'House Style', 'Roof Style', \n",
    "                     'Exterior 1st', 'Exterior 2nd', 'Mas Vnr Type', 'Foundation', 'Garage Type']\n",
    "ordinal_variables = ['Lot Shape', 'Exter Qual', 'Bsmt Qual', 'Bsmt Exposure', 'BsmtFin Type 1', 'Heating QC', \n",
    "                     'Kitchen Qual', 'Fireplace Qu', 'Garage Finish']"
   ]
  },
  {
   "cell_type": "markdown",
   "metadata": {},
   "source": [
    "### Ordinal Variables"
   ]
  },
  {
   "cell_type": "markdown",
   "metadata": {},
   "source": [
    "<i> For ordinal variables, we can directly assign numerical values to each of the categories."
   ]
  },
  {
   "cell_type": "code",
   "execution_count": 13,
   "metadata": {},
   "outputs": [
    {
     "data": {
      "text/plain": [
       "0     850\n",
       "Gd    502\n",
       "TA    396\n",
       "Fa     59\n",
       "Po     29\n",
       "Ex     28\n",
       "Name: Fireplace Qu, dtype: int64"
      ]
     },
     "execution_count": 13,
     "metadata": {},
     "output_type": "execute_result"
    }
   ],
   "source": [
    "ames_train_clean['Fireplace Qu'].value_counts()"
   ]
  },
  {
   "cell_type": "code",
   "execution_count": 14,
   "metadata": {},
   "outputs": [],
   "source": [
    "ames_train_clean['Lot Shape'] = ames_train_clean['Lot Shape'].map({'IR3': 0, 'IR2': 1, 'IR1': 2, 'Reg': 3})\n",
    "ames_test_clean['Lot Shape'] = ames_test_clean['Lot Shape'].map({'IR3': 0, 'IR2': 1, 'IR1': 2, 'Reg': 3})\n",
    "ames_train_clean['Exter Qual'] = ames_train_clean['Exter Qual'].map({'Fa': 1, 'TA': 2, 'Gd': 3, 'Ex': 4})\n",
    "ames_test_clean['Exter Qual'] = ames_test_clean['Exter Qual'].map({'Fa': 1, 'TA': 2, 'Gd': 3, 'Ex': 4})\n",
    "ames_train_clean['Bsmt Qual'] = ames_train_clean['Bsmt Qual'].map({'Po': 1, 'Fa': 2, 'TA': 3, 'Gd': 4, 'Ex': 5})\n",
    "ames_test_clean['Bsmt Qual'] = ames_test_clean['Bsmt Qual'].map({0: 0, 'Po': 1, 'Fa': 2, 'TA': 3, 'Gd': 4, 'Ex': 5})\n",
    "ames_train_clean['Bsmt Exposure'] = ames_train_clean['Bsmt Exposure'].map({'No': 1, 'Mn': 2, 'Av': 3, 'Gd': 4})\n",
    "ames_test_clean['Bsmt Exposure'] = ames_test_clean['Bsmt Exposure'].map({0: 0, 'No': 1, 'Mn': 2, 'Av': 3, 'Gd': 4})\n",
    "ames_train_clean['BsmtFin Type 1'] = ames_train_clean['BsmtFin Type 1'].map({'Unf': 1, 'LwQ': 2, 'Rec': 3, \n",
    "                                                                             'BLQ': 4, 'ALQ': 5, 'GLQ': 6})\n",
    "ames_test_clean['BsmtFin Type 1'] = ames_test_clean['BsmtFin Type 1'].map({0: 0, 'Unf': 1, 'LwQ': 2, 'Rec': 3, \n",
    "                                                                             'BLQ': 4, 'ALQ': 5, 'GLQ': 6})\n",
    "ames_train_clean['Heating QC'] = ames_train_clean['Heating QC'].map({'Po': 0, 'Fa': 1, 'TA': 2, 'Gd': 3, 'Ex': 4})\n",
    "ames_test_clean['Heating QC'] = ames_test_clean['Heating QC'].map({'Fa': 1, 'TA': 2, 'Gd': 3, 'Ex': 4})\n",
    "ames_train_clean['Kitchen Qual'] = ames_train_clean['Kitchen Qual'].map({'Fa': 1, 'TA': 2, 'Gd': 3, 'Ex': 4})                                                                         \n",
    "ames_test_clean['Kitchen Qual'] = ames_test_clean['Kitchen Qual'].map({'Po': 0, 'Fa': 1, 'TA': 2, 'Gd': 3, \n",
    "                                                                       'Ex': 4})                                                                       \n",
    "ames_train_clean['Fireplace Qu'] = ames_train_clean['Fireplace Qu'].map({'0': 0, 'Po': 1, 'Fa': 2, 'TA': 3, \n",
    "                                                                         'Gd': 4, 'Ex': 5})                                                                \n",
    "                                                                          \n",
    "ames_test_clean['Fireplace Qu'] = ames_test_clean['Fireplace Qu'].map({'0': 0, 'Po': 1, 'Fa': 2, 'TA': 3, \n",
    "                                                                         'Gd': 4, 'Ex': 5})\n",
    "ames_train_clean['Garage Finish'] = ames_train_clean['Garage Finish'].map({'Unf': 1, 'RFn': 2, 'Fin': 3})        \n",
    "ames_test_clean['Garage Finish'] = ames_test_clean['Garage Finish'].map({0: 0, 'Unf': 1, 'RFn': 2, 'Fin': 3})                                                                   \n",
    "                                                                          "
   ]
  },
  {
   "cell_type": "markdown",
   "metadata": {},
   "source": [
    "### Nominal Variables"
   ]
  },
  {
   "cell_type": "markdown",
   "metadata": {},
   "source": [
    "<i> For nominal variables, we will one hot encode using pd.get_dummies."
   ]
  },
  {
   "cell_type": "code",
   "execution_count": 15,
   "metadata": {},
   "outputs": [],
   "source": [
    "ames_train_clean = pd.get_dummies(data = ames_train_clean, columns = nominal_variables, drop_first = True)"
   ]
  },
  {
   "cell_type": "code",
   "execution_count": 16,
   "metadata": {},
   "outputs": [],
   "source": [
    "train_columns = ames_train_clean.columns"
   ]
  },
  {
   "cell_type": "code",
   "execution_count": 17,
   "metadata": {},
   "outputs": [],
   "source": [
    "ames_test_clean = pd.get_dummies(data = ames_test_clean, columns = nominal_variables, drop_first = True)"
   ]
  },
  {
   "cell_type": "code",
   "execution_count": 18,
   "metadata": {},
   "outputs": [],
   "source": [
    "test_columns = ames_test_clean.columns"
   ]
  },
  {
   "cell_type": "code",
   "execution_count": 19,
   "metadata": {},
   "outputs": [
    {
     "data": {
      "text/html": [
       "<div>\n",
       "<style scoped>\n",
       "    .dataframe tbody tr th:only-of-type {\n",
       "        vertical-align: middle;\n",
       "    }\n",
       "\n",
       "    .dataframe tbody tr th {\n",
       "        vertical-align: top;\n",
       "    }\n",
       "\n",
       "    .dataframe thead th {\n",
       "        text-align: right;\n",
       "    }\n",
       "</style>\n",
       "<table border=\"1\" class=\"dataframe\">\n",
       "  <thead>\n",
       "    <tr style=\"text-align: right;\">\n",
       "      <th></th>\n",
       "      <th>Lot Frontage</th>\n",
       "      <th>Lot Area</th>\n",
       "      <th>Lot Shape</th>\n",
       "      <th>Overall Qual</th>\n",
       "      <th>Year Remod/Add</th>\n",
       "      <th>Mas Vnr Area</th>\n",
       "      <th>Exter Qual</th>\n",
       "      <th>Bsmt Qual</th>\n",
       "      <th>Bsmt Exposure</th>\n",
       "      <th>BsmtFin Type 1</th>\n",
       "      <th>...</th>\n",
       "      <th>Garage Type_BuiltIn</th>\n",
       "      <th>Garage Type_CarPort</th>\n",
       "      <th>Garage Type_Detchd</th>\n",
       "      <th>MS SubClass_150</th>\n",
       "      <th>Neighborhood_GrnHill</th>\n",
       "      <th>Neighborhood_Landmrk</th>\n",
       "      <th>Exterior 1st_CBlock</th>\n",
       "      <th>Exterior 1st_ImStucc</th>\n",
       "      <th>Exterior 1st_Stone</th>\n",
       "      <th>Exterior 2nd_Stone</th>\n",
       "    </tr>\n",
       "    <tr>\n",
       "      <th>Id</th>\n",
       "      <th></th>\n",
       "      <th></th>\n",
       "      <th></th>\n",
       "      <th></th>\n",
       "      <th></th>\n",
       "      <th></th>\n",
       "      <th></th>\n",
       "      <th></th>\n",
       "      <th></th>\n",
       "      <th></th>\n",
       "      <th></th>\n",
       "      <th></th>\n",
       "      <th></th>\n",
       "      <th></th>\n",
       "      <th></th>\n",
       "      <th></th>\n",
       "      <th></th>\n",
       "      <th></th>\n",
       "      <th></th>\n",
       "      <th></th>\n",
       "      <th></th>\n",
       "    </tr>\n",
       "  </thead>\n",
       "  <tbody>\n",
       "    <tr>\n",
       "      <th>2658</th>\n",
       "      <td>69.000000</td>\n",
       "      <td>9142</td>\n",
       "      <td>3</td>\n",
       "      <td>6</td>\n",
       "      <td>1950</td>\n",
       "      <td>0.0</td>\n",
       "      <td>2</td>\n",
       "      <td>2</td>\n",
       "      <td>1</td>\n",
       "      <td>1</td>\n",
       "      <td>...</td>\n",
       "      <td>0</td>\n",
       "      <td>0</td>\n",
       "      <td>1</td>\n",
       "      <td>0</td>\n",
       "      <td>0</td>\n",
       "      <td>0</td>\n",
       "      <td>0</td>\n",
       "      <td>0</td>\n",
       "      <td>0</td>\n",
       "      <td>0</td>\n",
       "    </tr>\n",
       "    <tr>\n",
       "      <th>2718</th>\n",
       "      <td>69.630042</td>\n",
       "      <td>9662</td>\n",
       "      <td>2</td>\n",
       "      <td>5</td>\n",
       "      <td>1977</td>\n",
       "      <td>0.0</td>\n",
       "      <td>2</td>\n",
       "      <td>4</td>\n",
       "      <td>1</td>\n",
       "      <td>1</td>\n",
       "      <td>...</td>\n",
       "      <td>0</td>\n",
       "      <td>0</td>\n",
       "      <td>0</td>\n",
       "      <td>0</td>\n",
       "      <td>0</td>\n",
       "      <td>0</td>\n",
       "      <td>0</td>\n",
       "      <td>0</td>\n",
       "      <td>0</td>\n",
       "      <td>0</td>\n",
       "    </tr>\n",
       "    <tr>\n",
       "      <th>2414</th>\n",
       "      <td>58.000000</td>\n",
       "      <td>17104</td>\n",
       "      <td>2</td>\n",
       "      <td>7</td>\n",
       "      <td>2006</td>\n",
       "      <td>0.0</td>\n",
       "      <td>3</td>\n",
       "      <td>4</td>\n",
       "      <td>3</td>\n",
       "      <td>6</td>\n",
       "      <td>...</td>\n",
       "      <td>0</td>\n",
       "      <td>0</td>\n",
       "      <td>0</td>\n",
       "      <td>0</td>\n",
       "      <td>0</td>\n",
       "      <td>0</td>\n",
       "      <td>0</td>\n",
       "      <td>0</td>\n",
       "      <td>0</td>\n",
       "      <td>0</td>\n",
       "    </tr>\n",
       "    <tr>\n",
       "      <th>1989</th>\n",
       "      <td>60.000000</td>\n",
       "      <td>8520</td>\n",
       "      <td>3</td>\n",
       "      <td>5</td>\n",
       "      <td>2006</td>\n",
       "      <td>0.0</td>\n",
       "      <td>3</td>\n",
       "      <td>3</td>\n",
       "      <td>1</td>\n",
       "      <td>1</td>\n",
       "      <td>...</td>\n",
       "      <td>0</td>\n",
       "      <td>0</td>\n",
       "      <td>1</td>\n",
       "      <td>0</td>\n",
       "      <td>0</td>\n",
       "      <td>0</td>\n",
       "      <td>0</td>\n",
       "      <td>0</td>\n",
       "      <td>0</td>\n",
       "      <td>0</td>\n",
       "    </tr>\n",
       "    <tr>\n",
       "      <th>625</th>\n",
       "      <td>69.630042</td>\n",
       "      <td>9500</td>\n",
       "      <td>2</td>\n",
       "      <td>6</td>\n",
       "      <td>1963</td>\n",
       "      <td>247.0</td>\n",
       "      <td>2</td>\n",
       "      <td>4</td>\n",
       "      <td>1</td>\n",
       "      <td>4</td>\n",
       "      <td>...</td>\n",
       "      <td>0</td>\n",
       "      <td>0</td>\n",
       "      <td>0</td>\n",
       "      <td>0</td>\n",
       "      <td>0</td>\n",
       "      <td>0</td>\n",
       "      <td>0</td>\n",
       "      <td>0</td>\n",
       "      <td>0</td>\n",
       "      <td>0</td>\n",
       "    </tr>\n",
       "  </tbody>\n",
       "</table>\n",
       "<p>5 rows × 140 columns</p>\n",
       "</div>"
      ],
      "text/plain": [
       "      Lot Frontage  Lot Area  Lot Shape  Overall Qual  Year Remod/Add  \\\n",
       "Id                                                                      \n",
       "2658     69.000000      9142          3             6            1950   \n",
       "2718     69.630042      9662          2             5            1977   \n",
       "2414     58.000000     17104          2             7            2006   \n",
       "1989     60.000000      8520          3             5            2006   \n",
       "625      69.630042      9500          2             6            1963   \n",
       "\n",
       "      Mas Vnr Area  Exter Qual  Bsmt Qual  Bsmt Exposure  BsmtFin Type 1  ...  \\\n",
       "Id                                                                        ...   \n",
       "2658           0.0           2          2              1               1  ...   \n",
       "2718           0.0           2          4              1               1  ...   \n",
       "2414           0.0           3          4              3               6  ...   \n",
       "1989           0.0           3          3              1               1  ...   \n",
       "625          247.0           2          4              1               4  ...   \n",
       "\n",
       "      Garage Type_BuiltIn  Garage Type_CarPort  Garage Type_Detchd  \\\n",
       "Id                                                                   \n",
       "2658                    0                    0                   1   \n",
       "2718                    0                    0                   0   \n",
       "2414                    0                    0                   0   \n",
       "1989                    0                    0                   1   \n",
       "625                     0                    0                   0   \n",
       "\n",
       "      MS SubClass_150  Neighborhood_GrnHill  Neighborhood_Landmrk  \\\n",
       "Id                                                                  \n",
       "2658                0                     0                     0   \n",
       "2718                0                     0                     0   \n",
       "2414                0                     0                     0   \n",
       "1989                0                     0                     0   \n",
       "625                 0                     0                     0   \n",
       "\n",
       "      Exterior 1st_CBlock  Exterior 1st_ImStucc  Exterior 1st_Stone  \\\n",
       "Id                                                                    \n",
       "2658                    0                     0                   0   \n",
       "2718                    0                     0                   0   \n",
       "2414                    0                     0                   0   \n",
       "1989                    0                     0                   0   \n",
       "625                     0                     0                   0   \n",
       "\n",
       "      Exterior 2nd_Stone  \n",
       "Id                        \n",
       "2658                   0  \n",
       "2718                   0  \n",
       "2414                   0  \n",
       "1989                   0  \n",
       "625                    0  \n",
       "\n",
       "[5 rows x 140 columns]"
      ]
     },
     "execution_count": 19,
     "metadata": {},
     "output_type": "execute_result"
    }
   ],
   "source": [
    "#Adding columns from the train dataset that are missing in the test dataset\n",
    "for col in train_columns:\n",
    "    if col != 'SalePrice':\n",
    "        if col not in test_columns:\n",
    "            ames_test_clean[col] = 0\n",
    "ames_test_clean.head()"
   ]
  },
  {
   "cell_type": "code",
   "execution_count": 20,
   "metadata": {},
   "outputs": [
    {
     "data": {
      "text/html": [
       "<div>\n",
       "<style scoped>\n",
       "    .dataframe tbody tr th:only-of-type {\n",
       "        vertical-align: middle;\n",
       "    }\n",
       "\n",
       "    .dataframe tbody tr th {\n",
       "        vertical-align: top;\n",
       "    }\n",
       "\n",
       "    .dataframe thead th {\n",
       "        text-align: right;\n",
       "    }\n",
       "</style>\n",
       "<table border=\"1\" class=\"dataframe\">\n",
       "  <thead>\n",
       "    <tr style=\"text-align: right;\">\n",
       "      <th></th>\n",
       "      <th>Lot Frontage</th>\n",
       "      <th>Lot Area</th>\n",
       "      <th>Lot Shape</th>\n",
       "      <th>Overall Qual</th>\n",
       "      <th>Year Remod/Add</th>\n",
       "      <th>Mas Vnr Area</th>\n",
       "      <th>Exter Qual</th>\n",
       "      <th>Bsmt Qual</th>\n",
       "      <th>Bsmt Exposure</th>\n",
       "      <th>BsmtFin Type 1</th>\n",
       "      <th>...</th>\n",
       "      <th>Garage Type_Detchd</th>\n",
       "      <th>MS Zoning_I (all)</th>\n",
       "      <th>Exterior 1st_AsphShn</th>\n",
       "      <th>Exterior 1st_PreCast</th>\n",
       "      <th>Exterior 2nd_Other</th>\n",
       "      <th>Exterior 2nd_PreCast</th>\n",
       "      <th>Mas Vnr Type_BrkCmn</th>\n",
       "      <th>Mas Vnr Type_CBlock</th>\n",
       "      <th>Foundation_Slab</th>\n",
       "      <th>Garage Type_2Types</th>\n",
       "    </tr>\n",
       "    <tr>\n",
       "      <th>Id</th>\n",
       "      <th></th>\n",
       "      <th></th>\n",
       "      <th></th>\n",
       "      <th></th>\n",
       "      <th></th>\n",
       "      <th></th>\n",
       "      <th></th>\n",
       "      <th></th>\n",
       "      <th></th>\n",
       "      <th></th>\n",
       "      <th></th>\n",
       "      <th></th>\n",
       "      <th></th>\n",
       "      <th></th>\n",
       "      <th></th>\n",
       "      <th></th>\n",
       "      <th></th>\n",
       "      <th></th>\n",
       "      <th></th>\n",
       "      <th></th>\n",
       "      <th></th>\n",
       "    </tr>\n",
       "  </thead>\n",
       "  <tbody>\n",
       "    <tr>\n",
       "      <th>109</th>\n",
       "      <td>69.0552</td>\n",
       "      <td>13517</td>\n",
       "      <td>2</td>\n",
       "      <td>6</td>\n",
       "      <td>2005</td>\n",
       "      <td>289.0</td>\n",
       "      <td>3</td>\n",
       "      <td>3</td>\n",
       "      <td>1</td>\n",
       "      <td>6</td>\n",
       "      <td>...</td>\n",
       "      <td>0</td>\n",
       "      <td>0</td>\n",
       "      <td>0</td>\n",
       "      <td>0</td>\n",
       "      <td>0</td>\n",
       "      <td>0</td>\n",
       "      <td>0</td>\n",
       "      <td>0</td>\n",
       "      <td>0</td>\n",
       "      <td>0</td>\n",
       "    </tr>\n",
       "    <tr>\n",
       "      <th>544</th>\n",
       "      <td>43.0000</td>\n",
       "      <td>11492</td>\n",
       "      <td>2</td>\n",
       "      <td>7</td>\n",
       "      <td>1997</td>\n",
       "      <td>132.0</td>\n",
       "      <td>3</td>\n",
       "      <td>4</td>\n",
       "      <td>1</td>\n",
       "      <td>6</td>\n",
       "      <td>...</td>\n",
       "      <td>0</td>\n",
       "      <td>0</td>\n",
       "      <td>0</td>\n",
       "      <td>0</td>\n",
       "      <td>0</td>\n",
       "      <td>0</td>\n",
       "      <td>0</td>\n",
       "      <td>0</td>\n",
       "      <td>0</td>\n",
       "      <td>0</td>\n",
       "    </tr>\n",
       "    <tr>\n",
       "      <th>153</th>\n",
       "      <td>68.0000</td>\n",
       "      <td>7922</td>\n",
       "      <td>3</td>\n",
       "      <td>5</td>\n",
       "      <td>2007</td>\n",
       "      <td>0.0</td>\n",
       "      <td>2</td>\n",
       "      <td>3</td>\n",
       "      <td>1</td>\n",
       "      <td>6</td>\n",
       "      <td>...</td>\n",
       "      <td>1</td>\n",
       "      <td>0</td>\n",
       "      <td>0</td>\n",
       "      <td>0</td>\n",
       "      <td>0</td>\n",
       "      <td>0</td>\n",
       "      <td>0</td>\n",
       "      <td>0</td>\n",
       "      <td>0</td>\n",
       "      <td>0</td>\n",
       "    </tr>\n",
       "    <tr>\n",
       "      <th>318</th>\n",
       "      <td>73.0000</td>\n",
       "      <td>9802</td>\n",
       "      <td>3</td>\n",
       "      <td>5</td>\n",
       "      <td>2007</td>\n",
       "      <td>0.0</td>\n",
       "      <td>2</td>\n",
       "      <td>4</td>\n",
       "      <td>1</td>\n",
       "      <td>1</td>\n",
       "      <td>...</td>\n",
       "      <td>0</td>\n",
       "      <td>0</td>\n",
       "      <td>0</td>\n",
       "      <td>0</td>\n",
       "      <td>0</td>\n",
       "      <td>0</td>\n",
       "      <td>0</td>\n",
       "      <td>0</td>\n",
       "      <td>0</td>\n",
       "      <td>0</td>\n",
       "    </tr>\n",
       "    <tr>\n",
       "      <th>255</th>\n",
       "      <td>82.0000</td>\n",
       "      <td>14235</td>\n",
       "      <td>2</td>\n",
       "      <td>6</td>\n",
       "      <td>1993</td>\n",
       "      <td>0.0</td>\n",
       "      <td>2</td>\n",
       "      <td>2</td>\n",
       "      <td>1</td>\n",
       "      <td>1</td>\n",
       "      <td>...</td>\n",
       "      <td>1</td>\n",
       "      <td>0</td>\n",
       "      <td>0</td>\n",
       "      <td>0</td>\n",
       "      <td>0</td>\n",
       "      <td>0</td>\n",
       "      <td>0</td>\n",
       "      <td>0</td>\n",
       "      <td>0</td>\n",
       "      <td>0</td>\n",
       "    </tr>\n",
       "  </tbody>\n",
       "</table>\n",
       "<p>5 rows × 141 columns</p>\n",
       "</div>"
      ],
      "text/plain": [
       "     Lot Frontage  Lot Area  Lot Shape  Overall Qual  Year Remod/Add  \\\n",
       "Id                                                                     \n",
       "109       69.0552     13517          2             6            2005   \n",
       "544       43.0000     11492          2             7            1997   \n",
       "153       68.0000      7922          3             5            2007   \n",
       "318       73.0000      9802          3             5            2007   \n",
       "255       82.0000     14235          2             6            1993   \n",
       "\n",
       "     Mas Vnr Area  Exter Qual  Bsmt Qual  Bsmt Exposure  BsmtFin Type 1  ...  \\\n",
       "Id                                                                       ...   \n",
       "109         289.0           3          3              1               6  ...   \n",
       "544         132.0           3          4              1               6  ...   \n",
       "153           0.0           2          3              1               6  ...   \n",
       "318           0.0           2          4              1               1  ...   \n",
       "255           0.0           2          2              1               1  ...   \n",
       "\n",
       "     Garage Type_Detchd  MS Zoning_I (all)  Exterior 1st_AsphShn  \\\n",
       "Id                                                                 \n",
       "109                   0                  0                     0   \n",
       "544                   0                  0                     0   \n",
       "153                   1                  0                     0   \n",
       "318                   0                  0                     0   \n",
       "255                   1                  0                     0   \n",
       "\n",
       "     Exterior 1st_PreCast  Exterior 2nd_Other  Exterior 2nd_PreCast  \\\n",
       "Id                                                                    \n",
       "109                     0                   0                     0   \n",
       "544                     0                   0                     0   \n",
       "153                     0                   0                     0   \n",
       "318                     0                   0                     0   \n",
       "255                     0                   0                     0   \n",
       "\n",
       "     Mas Vnr Type_BrkCmn  Mas Vnr Type_CBlock  Foundation_Slab  \\\n",
       "Id                                                               \n",
       "109                    0                    0                0   \n",
       "544                    0                    0                0   \n",
       "153                    0                    0                0   \n",
       "318                    0                    0                0   \n",
       "255                    0                    0                0   \n",
       "\n",
       "     Garage Type_2Types  \n",
       "Id                       \n",
       "109                   0  \n",
       "544                   0  \n",
       "153                   0  \n",
       "318                   0  \n",
       "255                   0  \n",
       "\n",
       "[5 rows x 141 columns]"
      ]
     },
     "execution_count": 20,
     "metadata": {},
     "output_type": "execute_result"
    }
   ],
   "source": [
    "#Adding in columns from the test dataset that are missing in the train dataset \n",
    "for col in test_columns:\n",
    "    if col not in train_columns:\n",
    "        ames_train_clean[col] = 0\n",
    "ames_train_clean.head()"
   ]
  },
  {
   "cell_type": "markdown",
   "metadata": {},
   "source": [
    "## Model Prep"
   ]
  },
  {
   "cell_type": "markdown",
   "metadata": {},
   "source": [
    "<i> We will use the training dataset and keep the test dataset unseen."
   ]
  },
  {
   "cell_type": "code",
   "execution_count": 21,
   "metadata": {},
   "outputs": [],
   "source": [
    "ames_train_clean['Pred'] = ames_train_clean['SalePrice'].mean()"
   ]
  },
  {
   "cell_type": "code",
   "execution_count": 22,
   "metadata": {},
   "outputs": [],
   "source": [
    "#Setting X and y values using the training dataset\n",
    "select = [x for x in ames_train_clean.columns if x != 'SalePrice']\n",
    "X = ames_train_clean[select]\n",
    "y = ames_train_clean['SalePrice']"
   ]
  },
  {
   "cell_type": "code",
   "execution_count": 23,
   "metadata": {},
   "outputs": [],
   "source": [
    "X_train_val, X_test_val, y_train_val, y_test_val = train_test_split(X, y, test_size =0.2, #80-20 train test split\n",
    "                                                                    random_state=42) \n"
   ]
  },
  {
   "cell_type": "code",
   "execution_count": 24,
   "metadata": {},
   "outputs": [
    {
     "data": {
      "text/plain": [
       "(1491, 141)"
      ]
     },
     "execution_count": 24,
     "metadata": {},
     "output_type": "execute_result"
    }
   ],
   "source": [
    "X_train_val.shape"
   ]
  },
  {
   "cell_type": "code",
   "execution_count": 25,
   "metadata": {},
   "outputs": [
    {
     "data": {
      "text/plain": [
       "(373, 141)"
      ]
     },
     "execution_count": 25,
     "metadata": {},
     "output_type": "execute_result"
    }
   ],
   "source": [
    "X_test_val.shape"
   ]
  },
  {
   "cell_type": "code",
   "execution_count": 26,
   "metadata": {},
   "outputs": [
    {
     "data": {
      "text/plain": [
       "(373,)"
      ]
     },
     "execution_count": 26,
     "metadata": {},
     "output_type": "execute_result"
    }
   ],
   "source": [
    "y_test_val.shape"
   ]
  },
  {
   "cell_type": "markdown",
   "metadata": {},
   "source": [
    "### Scaling dataset"
   ]
  },
  {
   "cell_type": "markdown",
   "metadata": {},
   "source": [
    "<i> Next, we need to scale the dataset as the columns have varying scales."
   ]
  },
  {
   "cell_type": "code",
   "execution_count": 27,
   "metadata": {},
   "outputs": [],
   "source": [
    "ss = StandardScaler()\n",
    "ss.fit(X_train_val)\n",
    "X_train_val_scaled = ss.transform(X_train_val)\n",
    "X_test_val_scaled = ss.transform(X_test_val)"
   ]
  },
  {
   "cell_type": "markdown",
   "metadata": {},
   "source": [
    "### Baseline scores"
   ]
  },
  {
   "cell_type": "code",
   "execution_count": 28,
   "metadata": {},
   "outputs": [
    {
     "name": "stdout",
     "output_type": "stream",
     "text": [
      "Baseline R2: -0.00013004840414598817\n",
      "Baseline RMSE: 80480.41529874718\n"
     ]
    }
   ],
   "source": [
    "y_pred = X_test_val['Pred']\n",
    "y_pred.head()\n",
    "baseline_r2 = r2_score(y_test_val, y_pred) #Baseline R2\n",
    "print('Baseline R2:', baseline_r2)\n",
    "baseline_rmse = np.sqrt(mean_squared_error(y_test_val, y_pred)) #Baseline Root Mean Squared Error\n",
    "print('Baseline RMSE:', baseline_rmse)"
   ]
  },
  {
   "cell_type": "markdown",
   "metadata": {},
   "source": [
    "<i> For this model, we will optimise for RMSE as we would like to predict SalePrice to the closest value."
   ]
  },
  {
   "cell_type": "markdown",
   "metadata": {},
   "source": [
    "### Model Prep: Instantiate our models"
   ]
  },
  {
   "cell_type": "markdown",
   "metadata": {},
   "source": [
    "<i> We will build and compare 3 models, Linear Regression, RidgeCV and LassoCV."
   ]
  },
  {
   "cell_type": "code",
   "execution_count": 29,
   "metadata": {},
   "outputs": [],
   "source": [
    "#Linear Regression\n",
    "lr = LinearRegression()"
   ]
  },
  {
   "cell_type": "code",
   "execution_count": 30,
   "metadata": {},
   "outputs": [],
   "source": [
    "#Ridge\n",
    "ridge_cv = RidgeCV(alphas= np.linspace(0.1, 10, 100))"
   ]
  },
  {
   "cell_type": "code",
   "execution_count": 31,
   "metadata": {},
   "outputs": [],
   "source": [
    "#Lasso\n",
    "lasso_cv = LassoCV(n_alphas = 100)"
   ]
  },
  {
   "cell_type": "markdown",
   "metadata": {},
   "source": [
    "## Cross Validation"
   ]
  },
  {
   "cell_type": "markdown",
   "metadata": {},
   "source": [
    "<i> Using 5-fold cross validation to evaluate our models."
   ]
  },
  {
   "cell_type": "code",
   "execution_count": 32,
   "metadata": {},
   "outputs": [
    {
     "data": {
      "text/plain": [
       "-6.761368330268213e+21"
      ]
     },
     "execution_count": 32,
     "metadata": {},
     "output_type": "execute_result"
    }
   ],
   "source": [
    "#Estimate of Test R2 using cross validation - Linear Regression\n",
    "lr_cv_scores = cross_val_score(lr, X_train_val_scaled, y_train_val, cv=5)\n",
    "lr_cv_scores.mean()"
   ]
  },
  {
   "cell_type": "code",
   "execution_count": 33,
   "metadata": {},
   "outputs": [
    {
     "data": {
      "text/plain": [
       "4904808061165854.0"
      ]
     },
     "execution_count": 33,
     "metadata": {},
     "output_type": "execute_result"
    }
   ],
   "source": [
    "#Estimate of Test RMSE using cross validation - Linear Regression\n",
    "lr_cv_rmse_scores = np.sqrt(-cross_val_score(lr, X_train_val_scaled,y_train_val, cv=5,scoring ='neg_mean_squared_error'))\n",
    "lr_cv_rmse_scores.mean()"
   ]
  },
  {
   "cell_type": "markdown",
   "metadata": {},
   "source": [
    "<i> The linear regression model performs very poorly (mean R2 is negative) on the test set, highlighting dramatic overfitting."
   ]
  },
  {
   "cell_type": "code",
   "execution_count": 34,
   "metadata": {},
   "outputs": [
    {
     "data": {
      "text/plain": [
       "0.8371135709056394"
      ]
     },
     "execution_count": 34,
     "metadata": {},
     "output_type": "execute_result"
    }
   ],
   "source": [
    "#Estimate of Test R2 using cross validation - Ridge\n",
    "ridge_cv_scores = cross_val_score(ridge_cv, X_train_val_scaled,y_train_val, cv=5)\n",
    "ridge_cv_scores.mean()"
   ]
  },
  {
   "cell_type": "code",
   "execution_count": 35,
   "metadata": {},
   "outputs": [
    {
     "data": {
      "text/plain": [
       "30613.706021187838"
      ]
     },
     "execution_count": 35,
     "metadata": {},
     "output_type": "execute_result"
    }
   ],
   "source": [
    "#Estimate of Test RMSE using cross validation - Ridge\n",
    "ridge_cv_rmse_scores = np.sqrt(-cross_val_score(ridge_cv, X_train_val_scaled,y_train_val, cv=5,\n",
    "                                               scoring ='neg_mean_squared_error'))\n",
    "ridge_cv_rmse_scores.mean()"
   ]
  },
  {
   "cell_type": "code",
   "execution_count": 36,
   "metadata": {},
   "outputs": [
    {
     "data": {
      "text/plain": [
       "0.8467258180618487"
      ]
     },
     "execution_count": 36,
     "metadata": {},
     "output_type": "execute_result"
    }
   ],
   "source": [
    "#Estimate of Test R2 using cross validation - Lasso\n",
    "lasso_cv_scores = cross_val_score(lasso_cv, X_train_val_scaled,y_train_val, cv=5)\n",
    "lasso_cv_scores.mean()"
   ]
  },
  {
   "cell_type": "code",
   "execution_count": 37,
   "metadata": {},
   "outputs": [
    {
     "data": {
      "text/plain": [
       "29853.528237198054"
      ]
     },
     "execution_count": 37,
     "metadata": {},
     "output_type": "execute_result"
    }
   ],
   "source": [
    "#Estimate of Test RMSE using cross validation - Lasso\n",
    "lasso_cv_rmse_scores = np.sqrt(-cross_val_score(lasso_cv, X_train_val_scaled,y_train_val, cv=5,\n",
    "                                               scoring ='neg_mean_squared_error'))\n",
    "lasso_cv_rmse_scores.mean()"
   ]
  },
  {
   "cell_type": "markdown",
   "metadata": {},
   "source": [
    "<i> Both Ridge and Lasso perform much better as they are likely able to manage the multicollinearity in the dataset."
   ]
  },
  {
   "cell_type": "markdown",
   "metadata": {},
   "source": [
    "## Model Fitting and Evaluation\n"
   ]
  },
  {
   "cell_type": "code",
   "execution_count": 38,
   "metadata": {},
   "outputs": [
    {
     "data": {
      "text/plain": [
       "LinearRegression()"
      ]
     },
     "execution_count": 38,
     "metadata": {},
     "output_type": "execute_result"
    }
   ],
   "source": [
    "#Fit the model to the training data, and evaluate the training and test scores below (LR)\n",
    "lr.fit(X_train_val_scaled, y_train_val)"
   ]
  },
  {
   "cell_type": "code",
   "execution_count": 39,
   "metadata": {},
   "outputs": [
    {
     "name": "stdout",
     "output_type": "stream",
     "text": [
      "Training R2(LR)0.8917870941071953\n",
      "Testing R2(LR)-1.2458082219570577e+21\n",
      "Estimate of Testing R2 (LR)-6.761368330268213e+21\n"
     ]
    }
   ],
   "source": [
    "#R2\n",
    "print('Training R2(LR)' + str(lr.score(X_train_val_scaled, y_train_val)))\n",
    "print('Testing R2(LR)' + str(lr.score(X_test_val_scaled, y_test_val)))\n",
    "print(\"Estimate of Testing R2 (LR)\" + str(lr_cv_scores.mean()))"
   ]
  },
  {
   "cell_type": "code",
   "execution_count": 40,
   "metadata": {},
   "outputs": [
    {
     "name": "stdout",
     "output_type": "stream",
     "text": [
      "Training RMSE(LR) 25667.187642031193\n",
      "Testing RMSE(LR) 2840452737054839.0\n",
      "Estimate of Testing RMSE (LR)4904808061165854.0\n"
     ]
    }
   ],
   "source": [
    "#RMSE\n",
    "print(\"Training RMSE(LR) \" + str(np.sqrt(mean_squared_error(y_train_val, lr.predict(X_train_val_scaled)))))\n",
    "print(\"Testing RMSE(LR) \" + str(np.sqrt(mean_squared_error(y_test_val, lr.predict(X_test_val_scaled)))))\n",
    "print(\"Estimate of Testing RMSE (LR)\" + str(lr_cv_rmse_scores.mean()))"
   ]
  },
  {
   "cell_type": "code",
   "execution_count": 41,
   "metadata": {},
   "outputs": [
    {
     "data": {
      "text/plain": [
       "10.0"
      ]
     },
     "execution_count": 41,
     "metadata": {},
     "output_type": "execute_result"
    }
   ],
   "source": [
    "#Fit the model to the training data, and evaluate the training and test scores below (Ridge)\n",
    "ridge_cv.fit(X_train_val_scaled, y_train_val)\n",
    "ridge_cv.alpha_"
   ]
  },
  {
   "cell_type": "code",
   "execution_count": 42,
   "metadata": {},
   "outputs": [
    {
     "name": "stdout",
     "output_type": "stream",
     "text": [
      "Training R2(Ridge)0.8913954354181621\n",
      "Testing R2(Ridge)0.8020771689875396\n",
      "Estimate of Testing R2 (Ridge)0.8371135709056394\n"
     ]
    }
   ],
   "source": [
    "#R2\n",
    "print('Training R2(Ridge)' + str(ridge_cv.score(X_train_val_scaled, y_train_val)))\n",
    "print('Testing R2(Ridge)' + str(ridge_cv.score(X_test_val_scaled, y_test_val)))\n",
    "print(\"Estimate of Testing R2 (Ridge)\" + str(ridge_cv_scores.mean()))"
   ]
  },
  {
   "cell_type": "code",
   "execution_count": 43,
   "metadata": {},
   "outputs": [
    {
     "name": "stdout",
     "output_type": "stream",
     "text": [
      "Training RMSE(Ridge) 25713.594756383987\n",
      "Testing RMSE(Ridge) 35802.21680179488\n",
      "Estimate of Testing RMSE (Ridge) 30613.706021187838\n"
     ]
    }
   ],
   "source": [
    "#RMSE\n",
    "print(\"Training RMSE(Ridge) \" + str(np.sqrt(mean_squared_error(y_train_val, ridge_cv.predict(X_train_val_scaled)))))\n",
    "print(\"Testing RMSE(Ridge) \" + str(np.sqrt(mean_squared_error(y_test_val, ridge_cv.predict(X_test_val_scaled)))))\n",
    "print(\"Estimate of Testing RMSE (Ridge) \" + str(ridge_cv_rmse_scores.mean()))"
   ]
  },
  {
   "cell_type": "code",
   "execution_count": 44,
   "metadata": {},
   "outputs": [
    {
     "data": {
      "text/plain": [
       "<matplotlib.axes._subplots.AxesSubplot at 0x7ffc3181a950>"
      ]
     },
     "execution_count": 44,
     "metadata": {},
     "output_type": "execute_result"
    },
    {
     "data": {
      "image/png": "[encoded data removed]",
      "text/plain": [
       "<Figure size 1800x720 with 1 Axes>"
      ]
     },
     "metadata": {
      "needs_background": "light"
     },
     "output_type": "display_data"
    }
   ],
   "source": [
    "pd.Series(ridge_cv.coef_, index=select).plot.bar(figsize=(25,10))"
   ]
  },
  {
   "cell_type": "code",
   "execution_count": 45,
   "metadata": {},
   "outputs": [
    {
     "data": {
      "text/plain": [
       "MS SubClass_20          15519.582297\n",
       "Overall Qual            15249.978891\n",
       "Gr Liv Area             15102.954605\n",
       "MS SubClass_60           9620.212735\n",
       "Neighborhood_NridgHt     8514.504029\n",
       "Neighborhood_StoneBr     8178.995165\n",
       "Exter Qual               6969.807760\n",
       "MS SubClass_80           6852.874126\n",
       "MS SubClass_50           6373.050944\n",
       "BsmtFin SF 1             6363.341141\n",
       "Bsmt Exposure            6078.495332\n",
       "MS SubClass_30           5833.274290\n",
       "Exterior 1st_BrkFace     5462.050331\n",
       "2nd Flr SF               5360.683058\n",
       "Kitchen Qual             5247.025425\n",
       "Exterior 2nd_MetalSd     5097.398416\n",
       "MS Zoning_RM             5044.026982\n",
       "MS Zoning_RL             4993.559517\n",
       "Mas Vnr Type_None        4601.660877\n",
       "MS Zoning_FV             4523.263860\n",
       "Lot Area                 4279.550592\n",
       "MS SubClass_70           4260.600836\n",
       "Garage Area              4208.402738\n",
       "Neighborhood_NoRidge     4098.912365\n",
       "Bsmt Qual                3852.574917\n",
       "dtype: float64"
      ]
     },
     "execution_count": 45,
     "metadata": {},
     "output_type": "execute_result"
    }
   ],
   "source": [
    "#Examining the top 25 features\n",
    "features_ridge = pd.Series(ridge_cv.coef_, index=select).sort_values(ascending=False)\n",
    "features_ridge.head(25)"
   ]
  },
  {
   "cell_type": "code",
   "execution_count": 46,
   "metadata": {},
   "outputs": [
    {
     "data": {
      "text/plain": [
       "LassoCV()"
      ]
     },
     "execution_count": 46,
     "metadata": {},
     "output_type": "execute_result"
    }
   ],
   "source": [
    "#Fit the model to the training data, and evaluate the training and test scores below (Lasso)\n",
    "lasso_cv.fit(X_train_val_scaled, y_train_val)"
   ]
  },
  {
   "cell_type": "code",
   "execution_count": 47,
   "metadata": {},
   "outputs": [
    {
     "name": "stdout",
     "output_type": "stream",
     "text": [
      "Training R2(Lasso)0.876453912974157\n",
      "Testing R2(Lasso)0.7883449022384421\n",
      "Estimate of Testing R2 (Lasso)0.8467258180618487\n"
     ]
    }
   ],
   "source": [
    "#R2\n",
    "print('Training R2(Lasso)' + str(lasso_cv.score(X_train_val_scaled, y_train_val)))\n",
    "print('Testing R2(Lasso)' + str(lasso_cv.score(X_test_val_scaled, y_test_val)))\n",
    "print(\"Estimate of Testing R2 (Lasso)\" + str(lasso_cv_scores.mean()))"
   ]
  },
  {
   "cell_type": "code",
   "execution_count": 48,
   "metadata": {},
   "outputs": [
    {
     "name": "stdout",
     "output_type": "stream",
     "text": [
      "Training RMSE(Lasso) 27425.417856685603\n",
      "Testing RMSE(Lasso) 37023.40326594704\n",
      "Estimate of Testing RMSE (Lasso) 29853.528237198054\n"
     ]
    }
   ],
   "source": [
    "#RMSE\n",
    "print(\"Training RMSE(Lasso) \" + str(np.sqrt(mean_squared_error(y_train_val, lasso_cv.predict(X_train_val_scaled)))))\n",
    "print(\"Testing RMSE(Lasso) \" + str(np.sqrt(mean_squared_error(y_test_val, lasso_cv.predict(X_test_val_scaled)))))\n",
    "print(\"Estimate of Testing RMSE (Lasso) \" + str(lasso_cv_rmse_scores.mean()))"
   ]
  },
  {
   "cell_type": "code",
   "execution_count": 49,
   "metadata": {},
   "outputs": [
    {
     "data": {
      "text/plain": [
       "<matplotlib.axes._subplots.AxesSubplot at 0x7ffc333c2810>"
      ]
     },
     "execution_count": 49,
     "metadata": {},
     "output_type": "execute_result"
    },
    {
     "data": {
      "image/png": "[encoded data removed]",
      "text/plain": [
       "<Figure size 1800x720 with 1 Axes>"
      ]
     },
     "metadata": {
      "needs_background": "light"
     },
     "output_type": "display_data"
    }
   ],
   "source": [
    "pd.Series(lasso_cv.coef_, index=select).plot.bar(figsize=(25,10))"
   ]
  },
  {
   "cell_type": "code",
   "execution_count": 50,
   "metadata": {},
   "outputs": [
    {
     "data": {
      "text/plain": [
       "Gr Liv Area             21090.190791\n",
       "Overall Qual            17075.478817\n",
       "Neighborhood_NridgHt     7456.995304\n",
       "Exter Qual               7379.785999\n",
       "BsmtFin SF 1             7241.015153\n",
       "Neighborhood_StoneBr     6438.938595\n",
       "Kitchen Qual             5288.412051\n",
       "Bsmt Exposure            5055.042317\n",
       "Garage Area              4964.121772\n",
       "Bsmt Qual                4886.835070\n",
       "MS SubClass_20           4685.724644\n",
       "Lot Area                 4504.439951\n",
       "Neighborhood_NoRidge     3994.471909\n",
       "Fireplaces               2951.348558\n",
       "Mas Vnr Area             2638.236643\n",
       "Neighborhood_Crawfor     2374.793286\n",
       "Exterior 1st_BrkFace     2246.243277\n",
       "Roof Style_Hip           2103.951563\n",
       "Year Remod/Add           2079.247746\n",
       "Neighborhood_GrnHill     2029.602082\n",
       "TotRms AbvGrd            1606.364215\n",
       "Lot Frontage             1416.946742\n",
       "Heating QC               1308.868172\n",
       "Lot Config_CulDSac       1181.839766\n",
       "Garage Cars              1100.098406\n",
       "dtype: float64"
      ]
     },
     "execution_count": 50,
     "metadata": {},
     "output_type": "execute_result"
    }
   ],
   "source": [
    "#Examining the top 25 features\n",
    "features_lasso = pd.Series(lasso_cv.coef_, index=select).sort_values(ascending=False)\n",
    "top25 = features_lasso.head(25)\n",
    "top25"
   ]
  },
  {
   "cell_type": "code",
   "execution_count": 51,
   "metadata": {},
   "outputs": [
    {
     "data": {
      "text/plain": [
       "Index(['Gr Liv Area', 'Overall Qual', 'Neighborhood_NridgHt', 'Exter Qual',\n",
       "       'BsmtFin SF 1', 'Neighborhood_StoneBr', 'Kitchen Qual', 'Bsmt Exposure',\n",
       "       'Garage Area', 'Bsmt Qual', 'MS SubClass_20', 'Lot Area',\n",
       "       'Neighborhood_NoRidge', 'Fireplaces', 'Mas Vnr Area',\n",
       "       'Neighborhood_Crawfor', 'Exterior 1st_BrkFace', 'Roof Style_Hip',\n",
       "       'Year Remod/Add', 'Neighborhood_GrnHill', 'TotRms AbvGrd',\n",
       "       'Lot Frontage', 'Heating QC', 'Lot Config_CulDSac', 'Garage Cars'],\n",
       "      dtype='object')"
      ]
     },
     "execution_count": 51,
     "metadata": {},
     "output_type": "execute_result"
    }
   ],
   "source": [
    "top25_columns = top25.index\n",
    "top25_columns"
   ]
  },
  {
   "cell_type": "markdown",
   "metadata": {},
   "source": [
    "<i> As expected, the linear regression model does not perform too well. However, both Ridge and Lasso are able to improve on the baseline scores and substantially reduce the RMSE. Overall, The lasso performs best in terms of reducing RMSE. However, both ridge and lasso perform better on the training set, suggesting some overfitting. Using the top 25 coefficients from Lasso, we will run our models again."
   ]
  },
  {
   "cell_type": "code",
   "execution_count": 52,
   "metadata": {},
   "outputs": [],
   "source": [
    "#Assigning X and y values\n",
    "X = ames_train_clean[top25_columns]\n",
    "y = ames_train_clean['SalePrice']\n",
    "X_train_val, X_test_val, y_train_val, y_test_val = train_test_split(X, y, test_size =0.2, #80-20 train test split\n",
    "                                                                    random_state=42) \n"
   ]
  },
  {
   "cell_type": "markdown",
   "metadata": {},
   "source": [
    "### Scaling Data"
   ]
  },
  {
   "cell_type": "code",
   "execution_count": 53,
   "metadata": {},
   "outputs": [],
   "source": [
    "ss = StandardScaler()\n",
    "ss.fit(X_train_val)\n",
    "X_train_val_scaled = ss.transform(X_train_val)\n",
    "X_test_val_scaled = ss.transform(X_test_val)"
   ]
  },
  {
   "cell_type": "markdown",
   "metadata": {},
   "source": [
    "### Cross Validation"
   ]
  },
  {
   "cell_type": "code",
   "execution_count": 54,
   "metadata": {},
   "outputs": [
    {
     "data": {
      "text/plain": [
       "0.855911062791629"
      ]
     },
     "execution_count": 54,
     "metadata": {},
     "output_type": "execute_result"
    }
   ],
   "source": [
    "#Estimate of Test R2 using cross validation - Linear Regression\n",
    "lr_cv_scores = cross_val_score(lr, X_train_val_scaled, y_train_val, cv=5)\n",
    "lr_cv_scores.mean()"
   ]
  },
  {
   "cell_type": "code",
   "execution_count": 55,
   "metadata": {},
   "outputs": [
    {
     "data": {
      "text/plain": [
       "29012.94433863028"
      ]
     },
     "execution_count": 55,
     "metadata": {},
     "output_type": "execute_result"
    }
   ],
   "source": [
    "#Estimate of Test RMSE using cross validation - Linear Regression\n",
    "lr_cv_rmse_scores = np.sqrt(-cross_val_score(lr, X_train_val_scaled,y_train_val, cv=5,scoring ='neg_mean_squared_error'))\n",
    "lr_cv_rmse_scores.mean()"
   ]
  },
  {
   "cell_type": "code",
   "execution_count": 56,
   "metadata": {},
   "outputs": [
    {
     "data": {
      "text/plain": [
       "0.8560691224763353"
      ]
     },
     "execution_count": 56,
     "metadata": {},
     "output_type": "execute_result"
    }
   ],
   "source": [
    "#Estimate of Test R2 using cross validation - Ridge\n",
    "ridge_cv_scores = cross_val_score(ridge_cv, X_train_val_scaled,y_train_val, cv=5)\n",
    "ridge_cv_scores.mean()"
   ]
  },
  {
   "cell_type": "code",
   "execution_count": 57,
   "metadata": {},
   "outputs": [
    {
     "data": {
      "text/plain": [
       "29005.395225006745"
      ]
     },
     "execution_count": 57,
     "metadata": {},
     "output_type": "execute_result"
    }
   ],
   "source": [
    "#Estimate of Test RMSE using cross validation - Ridge\n",
    "ridge_cv_rmse_scores = np.sqrt(-cross_val_score(ridge_cv, X_train_val_scaled,y_train_val, cv=5,\n",
    "                                               scoring ='neg_mean_squared_error'))\n",
    "ridge_cv_rmse_scores.mean()"
   ]
  },
  {
   "cell_type": "code",
   "execution_count": 58,
   "metadata": {},
   "outputs": [
    {
     "data": {
      "text/plain": [
       "0.8558982972463625"
      ]
     },
     "execution_count": 58,
     "metadata": {},
     "output_type": "execute_result"
    }
   ],
   "source": [
    "#Estimate of Test R2 using cross validation - Lasso\n",
    "lasso_cv_scores = cross_val_score(lasso_cv, X_train_val_scaled,y_train_val, cv=5)\n",
    "lasso_cv_scores.mean()"
   ]
  },
  {
   "cell_type": "code",
   "execution_count": 59,
   "metadata": {},
   "outputs": [
    {
     "data": {
      "text/plain": [
       "29018.614547931968"
      ]
     },
     "execution_count": 59,
     "metadata": {},
     "output_type": "execute_result"
    }
   ],
   "source": [
    "#Estimate of Test RMSE using cross validation - Lasso\n",
    "lasso_cv_rmse_scores = np.sqrt(-cross_val_score(lasso_cv, X_train_val_scaled,y_train_val, cv=5,\n",
    "                                               scoring ='neg_mean_squared_error'))\n",
    "lasso_cv_rmse_scores.mean()"
   ]
  },
  {
   "cell_type": "markdown",
   "metadata": {},
   "source": [
    "### Model Fitting and Evaluation"
   ]
  },
  {
   "cell_type": "code",
   "execution_count": 60,
   "metadata": {},
   "outputs": [
    {
     "data": {
      "text/plain": [
       "LinearRegression()"
      ]
     },
     "execution_count": 60,
     "metadata": {},
     "output_type": "execute_result"
    }
   ],
   "source": [
    "#Fit the model to the training data, and evaluate the training and test scores below (LR)\n",
    "lr.fit(X_train_val_scaled, y_train_val)"
   ]
  },
  {
   "cell_type": "code",
   "execution_count": 61,
   "metadata": {},
   "outputs": [
    {
     "name": "stdout",
     "output_type": "stream",
     "text": [
      "Training R2(LR)0.8736134424330646\n",
      "Testing R2(LR)0.7830121249915883\n",
      "Estimate of Testing R2 (LR)0.855911062791629\n"
     ]
    }
   ],
   "source": [
    "#R2\n",
    "print('Training R2(LR)' + str(lr.score(X_train_val_scaled, y_train_val)))\n",
    "print('Testing R2(LR)' + str(lr.score(X_test_val_scaled, y_test_val)))\n",
    "print(\"Estimate of Testing R2 (LR)\" + str(lr_cv_scores.mean()))"
   ]
  },
  {
   "cell_type": "code",
   "execution_count": 62,
   "metadata": {},
   "outputs": [
    {
     "name": "stdout",
     "output_type": "stream",
     "text": [
      "Training RMSE(LR) 27738.897661237235\n",
      "Testing RMSE(LR) 37486.91524797111\n",
      "Estimate of Testing RMSE (LR)29012.94433863028\n"
     ]
    }
   ],
   "source": [
    "#RMSE\n",
    "print(\"Training RMSE(LR) \" + str(np.sqrt(mean_squared_error(y_train_val, lr.predict(X_train_val_scaled)))))\n",
    "print(\"Testing RMSE(LR) \" + str(np.sqrt(mean_squared_error(y_test_val, lr.predict(X_test_val_scaled)))))\n",
    "print(\"Estimate of Testing RMSE (LR)\" + str(lr_cv_rmse_scores.mean()))"
   ]
  },
  {
   "cell_type": "code",
   "execution_count": 63,
   "metadata": {},
   "outputs": [
    {
     "data": {
      "text/plain": [
       "RidgeCV(alphas=array([ 0.1,  0.2,  0.3,  0.4,  0.5,  0.6,  0.7,  0.8,  0.9,  1. ,  1.1,\n",
       "        1.2,  1.3,  1.4,  1.5,  1.6,  1.7,  1.8,  1.9,  2. ,  2.1,  2.2,\n",
       "        2.3,  2.4,  2.5,  2.6,  2.7,  2.8,  2.9,  3. ,  3.1,  3.2,  3.3,\n",
       "        3.4,  3.5,  3.6,  3.7,  3.8,  3.9,  4. ,  4.1,  4.2,  4.3,  4.4,\n",
       "        4.5,  4.6,  4.7,  4.8,  4.9,  5. ,  5.1,  5.2,  5.3,  5.4,  5.5,\n",
       "        5.6,  5.7,  5.8,  5.9,  6. ,  6.1,  6.2,  6.3,  6.4,  6.5,  6.6,\n",
       "        6.7,  6.8,  6.9,  7. ,  7.1,  7.2,  7.3,  7.4,  7.5,  7.6,  7.7,\n",
       "        7.8,  7.9,  8. ,  8.1,  8.2,  8.3,  8.4,  8.5,  8.6,  8.7,  8.8,\n",
       "        8.9,  9. ,  9.1,  9.2,  9.3,  9.4,  9.5,  9.6,  9.7,  9.8,  9.9,\n",
       "       10. ]))"
      ]
     },
     "execution_count": 63,
     "metadata": {},
     "output_type": "execute_result"
    }
   ],
   "source": [
    "ridge_cv.fit(X_train_val_scaled, y_train_val)"
   ]
  },
  {
   "cell_type": "code",
   "execution_count": 64,
   "metadata": {},
   "outputs": [
    {
     "name": "stdout",
     "output_type": "stream",
     "text": [
      "Training R2(Ridge)0.873600487250276\n",
      "Testing R2(Ridge)0.7835382437811047\n",
      "Estimate of Testing R2 (Ridge)0.8560691224763353\n"
     ]
    }
   ],
   "source": [
    "#R2\n",
    "print('Training R2(Ridge)' + str(ridge_cv.score(X_train_val_scaled, y_train_val)))\n",
    "print('Testing R2(Ridge)' + str(ridge_cv.score(X_test_val_scaled, y_test_val)))\n",
    "print(\"Estimate of Testing R2 (Ridge)\" + str(ridge_cv_scores.mean()))"
   ]
  },
  {
   "cell_type": "code",
   "execution_count": 65,
   "metadata": {},
   "outputs": [
    {
     "name": "stdout",
     "output_type": "stream",
     "text": [
      "Training RMSE(Ridge) 27740.31930483559\n",
      "Testing RMSE(Ridge) 37441.44141665532\n",
      "Estimate of Testing RMSE (Ridge) 29005.395225006745\n"
     ]
    }
   ],
   "source": [
    "#RMSE\n",
    "print(\"Training RMSE(Ridge) \" + str(np.sqrt(mean_squared_error(y_train_val, ridge_cv.predict(X_train_val_scaled)))))\n",
    "print(\"Testing RMSE(Ridge) \" + str(np.sqrt(mean_squared_error(y_test_val, ridge_cv.predict(X_test_val_scaled)))))\n",
    "print(\"Estimate of Testing RMSE (Ridge) \" + str(ridge_cv_rmse_scores.mean()))"
   ]
  },
  {
   "cell_type": "code",
   "execution_count": 66,
   "metadata": {},
   "outputs": [
    {
     "data": {
      "text/plain": [
       "LassoCV()"
      ]
     },
     "execution_count": 66,
     "metadata": {},
     "output_type": "execute_result"
    }
   ],
   "source": [
    "#Fit the model to the training data, and evaluate the training and test scores below (Lasso)\n",
    "lasso_cv.fit(X_train_val_scaled, y_train_val)"
   ]
  },
  {
   "cell_type": "code",
   "execution_count": 67,
   "metadata": {},
   "outputs": [
    {
     "name": "stdout",
     "output_type": "stream",
     "text": [
      "Training R2(Lasso)0.8736020263648674\n",
      "Testing R2(Lasso)0.7829234773493191\n",
      "Estimate of Testing R2 (Lasso)0.8558982972463625\n"
     ]
    }
   ],
   "source": [
    "#R2\n",
    "print('Training R2(Lasso)' + str(lasso_cv.score(X_train_val_scaled, y_train_val)))\n",
    "print('Testing R2(Lasso)' + str(lasso_cv.score(X_test_val_scaled, y_test_val)))\n",
    "print(\"Estimate of Testing R2 (Lasso)\" + str(lasso_cv_scores.mean()))"
   ]
  },
  {
   "cell_type": "code",
   "execution_count": 68,
   "metadata": {},
   "outputs": [
    {
     "name": "stdout",
     "output_type": "stream",
     "text": [
      "Training RMSE(Lasso) 27740.150413123683\n",
      "Testing RMSE(Lasso) 37494.571867762796\n",
      "Estimate of Testing RMSE (Lasso) 29018.614547931968\n"
     ]
    }
   ],
   "source": [
    "#RMSE\n",
    "print(\"Training RMSE(Lasso) \" + str(np.sqrt(mean_squared_error(y_train_val, lasso_cv.predict(X_train_val_scaled)))))\n",
    "print(\"Testing RMSE(Lasso) \" + str(np.sqrt(mean_squared_error(y_test_val, lasso_cv.predict(X_test_val_scaled)))))\n",
    "print(\"Estimate of Testing RMSE (Lasso) \" + str(lasso_cv_rmse_scores.mean()))"
   ]
  },
  {
   "cell_type": "markdown",
   "metadata": {},
   "source": [
    "<i> After using the updated list of features, the performance of all models is largely the same. However, Ridge seems to perform marginally better on RMSE. As such, we will use it as our production model. However, before proceeding, we will evaluate if some of the assumptions of linear regression are met."
   ]
  },
  {
   "cell_type": "code",
   "execution_count": 132,
   "metadata": {},
   "outputs": [
    {
     "data": {
      "text/plain": [
       "<matplotlib.axes._subplots.AxesSubplot at 0x7ffc386f8150>"
      ]
     },
     "execution_count": 132,
     "metadata": {},
     "output_type": "execute_result"
    },
    {
     "data": {
      "image/png": "[encoded data removed]",
      "text/plain": [
       "<Figure size 432x288 with 1 Axes>"
      ]
     },
     "metadata": {
      "needs_background": "light"
     },
     "output_type": "display_data"
    }
   ],
   "source": [
    "#Evaluating normality of errors\n",
    "y_pred = ridge_cv.predict(X_test_val_scaled)\n",
    "Residuals = y_test_val - y_pred\n",
    "sns.distplot(Residuals)"
   ]
  },
  {
   "cell_type": "markdown",
   "metadata": {},
   "source": [
    "<i> The errors do exhibit approximate normality.\n",
    "    "
   ]
  },
  {
   "cell_type": "code",
   "execution_count": 133,
   "metadata": {},
   "outputs": [
    {
     "data": {
      "image/png": "[encoded data removed]",
      "text/plain": [
       "<Figure size 432x288 with 1 Axes>"
      ]
     },
     "metadata": {
      "needs_background": "light"
     },
     "output_type": "display_data"
    }
   ],
   "source": [
    "#Checking for equality of variance\n",
    "plt.scatter(y_pred, y_test_val)\n",
    "plt.plot([0, np.max(y_test_val)],\n",
    "         [0, np.max(y_test_val)],\n",
    "         color = 'black')\n",
    "plt.xlabel(\"Predicted Values\")\n",
    "plt.ylabel(\"Actual Values\")\n",
    "plt.title('Predicted Values vs. Actual Values');"
   ]
  },
  {
   "cell_type": "markdown",
   "metadata": {},
   "source": [
    "<i> Predicted values and actual values are more or less the same."
   ]
  },
  {
   "cell_type": "markdown",
   "metadata": {},
   "source": [
    "<i> We will now proceed to test the model on unseen data."
   ]
  },
  {
   "cell_type": "code",
   "execution_count": 134,
   "metadata": {},
   "outputs": [
    {
     "data": {
      "text/plain": [
       "array([135087.76302669, 157271.49169308, 216019.8708791 , 113725.13100395,\n",
       "       175963.70556732,  76590.73351921,  99284.51722961, 155258.94454678,\n",
       "       180192.21713775, 160237.33974101, 154441.55082841, 110706.3136152 ,\n",
       "       152835.14247659, 267818.27785191, 154423.43757866, 114144.91013012,\n",
       "       160788.44287198, 115765.25949505, 188609.85868708, 216112.61351087,\n",
       "       139580.37080633, 126364.91228474, 179528.84598262, 178057.80046734,\n",
       "       189131.11457583, 120946.7975091 , 131966.30776797, 134472.71890072,\n",
       "       158926.9285813 ,  26998.26377522,  98977.06123246,  90207.99983932,\n",
       "       239713.90382162, 166315.56805893, 215055.43079835, 171566.75142341,\n",
       "       109295.08492766,  51884.64086733, 143708.58200934, 190407.68361358,\n",
       "       163373.63156501, 208516.88424639, 152878.51617288, 178119.79863158,\n",
       "       217200.47216344,  85825.00231917, 221927.43288937, 115073.42200716,\n",
       "       112314.73343298, 115380.23670023, 102573.13490734, 213904.67951058,\n",
       "       245249.73736913, 122447.96493142, 105268.88863237, 144430.76326785,\n",
       "       158881.3436114 , 146409.91999003, 161040.32030154, 229996.07240678,\n",
       "       333534.5916446 , 141700.41539014, 148396.06672093, 173615.89847902,\n",
       "       179892.82533216, 324154.31402086,  86608.5177273 , 230282.73576038,\n",
       "        75456.91596408, 171016.6725169 ,  70925.33863851, 358530.70809992,\n",
       "       228292.04877387, 185382.02197079, 132761.7154154 , 195657.68269699,\n",
       "       509742.22706998, 147924.38095829, 148837.94791989,  67377.96593788,\n",
       "       380935.77752318, 201967.7859454 , 123636.68752209, 130707.74226407,\n",
       "       124135.04414166, 197854.80184694, 345615.0536346 , 123298.69319737,\n",
       "       181389.13120301, 227120.09702697, 138206.57488765, 129661.37014667,\n",
       "        99602.65526215, 117384.38388465, 249365.35057084, 113026.26091532,\n",
       "       142836.69791809, 170067.10884881, 242432.95160497, 190946.62634589,\n",
       "       213781.46169453, 295570.67391717, 178711.26748386, 116969.55761326,\n",
       "       436444.359792  , 161473.51968294,  88168.27071802, 167744.47410269,\n",
       "       195211.50342891, 180641.84033736, 110263.51431384, 180352.06538813,\n",
       "       219092.76867334,  89486.37386764, 130183.26934693, 247567.1185783 ,\n",
       "       469493.17354015, 168683.46226693, 103666.80507206, 320904.91460853,\n",
       "       173668.6185705 , 365013.74937742, 295951.01651294, 331774.82708241,\n",
       "       161219.01249999, 146999.71397084, 362970.0893402 , 127205.41365064,\n",
       "       131802.80082006, 110757.50224687, 264825.63191283, 131843.61640337,\n",
       "       195351.75432738, 143600.72441963, 170911.3989371 , 149906.41323559,\n",
       "       241880.69531306, 193942.14159848, 185711.36302397, 227372.89478012,\n",
       "       115776.40352801, 186753.53498507, 132729.51340038, 133238.94449495,\n",
       "       197831.47441871,  68217.47083738, 150848.03782035, 145354.85874715,\n",
       "       145810.86477936,  62145.7573482 , 236760.48773835, 200602.50908203,\n",
       "       151740.15321789, 108952.85863822, 117375.77375542, 111755.33172421,\n",
       "       128115.13142276,  67415.40930271, 140349.04753759, 247700.78268466,\n",
       "       250809.24115316, 219059.68627416, 117800.99136101, 122393.77909485,\n",
       "       444573.70946058, 285701.87997038, 221942.61978998, 175883.75103611,\n",
       "       171892.99446767, 242397.35467644, 201065.59884217, 483200.77708504,\n",
       "       138280.16723102, 164771.30076455, 158355.3853268 , 204896.17767617,\n",
       "       169069.71644131,  80696.59072544, 158319.546585  ,  77257.36350354,\n",
       "       154577.61978682, 118422.61980716, 191747.10245905, 240520.39545245,\n",
       "       186403.47636986, 163722.29001025, 119593.46311794, 201291.92414426,\n",
       "       198851.89980787, 114944.85303127,  41755.34680347, 174759.49458814,\n",
       "       130135.33441575, 107635.67903981, 115106.16861815, 178487.7813382 ,\n",
       "       158110.43390568, 268282.18255482, 140363.41794634, 125853.72566095,\n",
       "       123472.21765267, 316778.69215306, 180898.77374857, 120330.26539972,\n",
       "       190433.00508947, 142303.57608456,  80913.45101396, 136738.82136701,\n",
       "       142358.62395843, 234834.61933077, 228184.15293206, 177464.57903396,\n",
       "       197054.19691446, 104856.4410264 , 449191.52972683, 248240.20364241,\n",
       "       197505.03954543, 225792.14604997, 143361.71513318, 106094.43573796,\n",
       "       160189.61518127, 189826.85755809, 133500.61181881, 168708.40784963,\n",
       "       196579.70252658, 105348.43608383,  97043.97914441, 253409.50032354,\n",
       "       208933.46493876, 158589.08611094, 282884.88147034, 163587.33414492,\n",
       "        66831.56919061, 140247.27053544,  92928.75096087, 308887.15537275,\n",
       "       164008.43642361,  74201.37229069, 404812.70487364, 328606.02425077,\n",
       "       182719.73883686, 249646.87613388, 155395.1275984 , 307904.30876267,\n",
       "       239514.12337565, 319318.28534255, 249915.25830246, 120199.75749346,\n",
       "       108442.76798982, 167264.71262942, 305563.39552171, 275702.41002363,\n",
       "       154784.64815259, 235807.66246899, 220999.29712456, 199362.55746932,\n",
       "        90581.49440854,  85618.05363317, 398163.89833872, 217270.22076807,\n",
       "       238493.75172282, 192406.09798164, 132106.41768025, 114222.21139104,\n",
       "       166227.79618288, 253233.23895412, 151786.57631287, 129638.3388414 ,\n",
       "       210389.66520532, 158156.32423294, 149487.64975092, 212294.9289208 ,\n",
       "       189123.19959317, 165381.46717697, 330447.68072459, 104944.9799974 ,\n",
       "       146873.21968239, 155572.48582274, 180680.85957746,  87109.33441655,\n",
       "       120547.50386495, 236983.75652467, 123044.7641956 , 114657.42356265,\n",
       "       103357.03739848, 129716.13541025, 262707.3202538 , 213899.13060239,\n",
       "       102460.4826675 ,  85305.85308818, 141231.24144958, 103119.03484408,\n",
       "       118001.58707381,  79276.31169909,  94700.42774832, 165012.77521966,\n",
       "       165500.87722834, 210873.65722494, 267734.5605285 , 261337.94428223,\n",
       "       169155.25380168, 192492.15713273, 317789.39238102, 122681.18932383,\n",
       "       135386.1673847 ,  59253.36005781,  97559.10985446, 321503.61770484,\n",
       "       206953.36513131, 145233.47808889, 128509.52525841, 224711.93290977,\n",
       "       255248.23881375, 242758.81192017, 266657.03757195, 112688.05772115,\n",
       "       376831.53923468, 370862.86102823, 282688.7946564 , 225822.25449118,\n",
       "       114931.73930748,  28770.99218074, 115384.71790027, 149382.99505873,\n",
       "       268785.25126869, 138821.95520414, 129081.35055719, 159143.92818748,\n",
       "       177205.70848917, 195696.67891075, 132560.49809403, 157627.28997475,\n",
       "       177871.93299234, 157130.93562151, 222343.72601308,  86310.07800309,\n",
       "       173037.71493332,  82675.47703875, 112380.19543741, 129808.89674676,\n",
       "       187591.49243117, 213044.15978044,  92441.96898365, 129538.91495052,\n",
       "       178034.34144776, 295714.22977255, 226286.82300553, 162863.14744357,\n",
       "       104948.9866303 , 218084.77426322, 157610.95548698, 152806.06506312,\n",
       "       157852.82642919, 115846.78249547, 282321.20313416, 137588.52490305,\n",
       "       269148.71208742, 159787.76491261, 217902.06218217, 239684.01923837,\n",
       "       105436.16011741, 133622.48558478, 159176.94166108,  91583.88187445,\n",
       "       151094.39390434, 221714.5546183 , 277381.05893327, 227329.0287615 ,\n",
       "       230753.83867638, 209912.69338524,  96506.37445111, 205347.95265919,\n",
       "       110658.49552303, 159494.99040215, 373676.10593184, 121412.02619231,\n",
       "       269596.69417903, 185163.51691809, 275318.42129386, 232339.59963155,\n",
       "       133585.97874141, 175376.82312905, 153465.18210987, 352716.40315006,\n",
       "       326298.72015284, 218944.36457388, 198410.26797505, 182013.9205123 ,\n",
       "       201593.42394386, 148258.67289298, 120223.21834693,  98324.86421197,\n",
       "       282671.70185491, 152407.17454328, 126779.22973575, 184922.78961206,\n",
       "        65146.78821045, 180602.55187688, 179997.83516462, 140135.80199778,\n",
       "        89864.75346382, 229226.37095052, 235077.96775468, 130387.14483089,\n",
       "       298336.39115178, 155533.00339988, 134459.74849206, 147390.15642488,\n",
       "       225485.99944638, 297771.67341597, 130799.31809488, 107000.49982217,\n",
       "       134458.39119422, 236690.87088054, 119485.59202355, 256563.76041625,\n",
       "       327466.11958375, 123696.61392986, 233770.18413213, 106560.69806778,\n",
       "       173213.48585556, 241764.91505193, 115326.07673874, 241353.05956765,\n",
       "       120820.25213227, 225375.17053478, 381915.98094996, 219797.2312448 ,\n",
       "       211336.91448871, 128467.68031607, 283923.07028613,  93535.2212055 ,\n",
       "       141357.44056259, 110970.71178699, 198853.86363645, 104010.07547992,\n",
       "       320497.37699235, 215054.00530993, 163788.10096247, 159333.20307166,\n",
       "       164601.76564457, 210103.14336564, 134215.18925847, 102896.21486426,\n",
       "       176852.7159249 , 160917.81224732, 218427.1651365 ,  39202.55709103,\n",
       "        67416.92779599, 296382.27100068, 139953.26827877, 215463.25668893,\n",
       "       275516.44302681, 234706.27355127, 183856.0373719 , 188227.77050115,\n",
       "       220926.74817047, 233229.67506115, 115550.0990432 , 241503.72644099,\n",
       "       115029.99990148, 145913.42199874, 123210.37053207, 141252.86722987,\n",
       "       494360.95592731,  97641.07928868, 222148.74130458, 238127.52603868,\n",
       "       225534.46364904, 108206.59267182, 123623.39358825, 147037.53868765,\n",
       "       232674.2502669 , 170747.59616604, 109410.81901488, 250830.20727845,\n",
       "       215581.34958789, 100485.75889219, 145835.54898061,  92520.47611177,\n",
       "       181004.39970974,  70001.44717861, 217338.53956368, 101598.76942345,\n",
       "       185343.7743721 , 308718.92365257, 145451.99519831, 172480.90886591,\n",
       "       190292.17097262, 187138.34566086, 133931.77853125, 156456.53488918,\n",
       "       205371.73695504, 168529.70499011, 219666.64891778, 364619.29584476,\n",
       "       184283.02394717, 100883.93857443, 114057.79253375, 178308.0713528 ,\n",
       "       117437.66615787, 189269.22339398, 224837.58672571, 201289.96935804,\n",
       "       159600.95280046, 242569.21410171, 144782.48798525, 307307.55521591,\n",
       "        88255.36282222, 116118.69271472, 251232.99074872, 127733.72997731,\n",
       "       130574.65991051, 122136.44514272, 142781.56415849,  34092.93510833,\n",
       "       182168.64941172, 160808.06100969, 203288.13187485, 270838.09507492,\n",
       "       293670.50196369,  93298.54454282, 113714.68683695, 176330.63929428,\n",
       "       116054.72952282, 226155.53963596, 403758.51579268, 201627.24603267,\n",
       "        91001.94919559, 130321.02103909,  13305.49314651, 109792.11045711,\n",
       "       184913.11725288, 145902.81950688, 188800.12997422, 171591.43075019,\n",
       "       134879.0921084 ,  61642.56492577, 234992.66394735, 157084.08415916,\n",
       "       166301.26242205, 137300.57024135,  88627.95856847,  76464.41901511,\n",
       "       139062.75589618, 234191.17225683, 341407.62388567, 235018.98015142,\n",
       "       110201.04753941, 101354.38629329, 303198.4394135 , 116581.33900162,\n",
       "       292418.8228862 ,  57330.06770939, 193489.72261633, 212249.61829376,\n",
       "        79614.51442184, 109212.76781907, 143204.77747018,  96530.70482145,\n",
       "       177672.07433474, 108202.10864157, 167969.50025706, 182772.45335553,\n",
       "       133593.10723446, 122301.35133297, 141227.73110667, 130201.96901598,\n",
       "       188578.99716919, 107547.31415065, 160929.13129866, 159135.56245703,\n",
       "       114641.91310176,  88182.47949227, 141605.01820305, 178327.16096284,\n",
       "       103526.42567811, 182214.48023108, 159459.93916707, 213696.78416252,\n",
       "       110357.2758971 , 156758.99346757, 149686.40871915, 257774.26081651,\n",
       "        82317.04999678, 144612.73480264, 160192.35262503, 151609.17835031,\n",
       "       111212.3293758 , 293092.99407547, 218948.84891195, 132762.33066384,\n",
       "       102593.95215746, 129550.47663706, 127123.936516  , 334679.60430476,\n",
       "       223543.34175215, 127805.36963479, 132336.46892621, 107118.74434287,\n",
       "       366093.79077608, 118883.68349778, 203066.03114329, 141045.24642914,\n",
       "       179489.65803229, 225580.68626495,  93711.22145878, 118103.74641646,\n",
       "       106159.18617911, 168290.68510664, 125930.28470669, 110503.72463808,\n",
       "       337674.66595394, 226282.13809827, 120814.2307667 , 130734.3742926 ,\n",
       "         9962.83959825, 199187.20489976, 270462.03827618,  38719.12338657,\n",
       "       167752.7676602 , 212582.08478445,  92646.30536651, 134780.25154624,\n",
       "       109750.52147212, 151281.76958137, 138178.72420854, 185905.69244239,\n",
       "       116597.20747218, 358545.63189471, 143351.03760002, 203930.56414043,\n",
       "       192127.1766792 , 140305.70717928,  55578.07010471, 140344.71976422,\n",
       "       188158.46015123, 169141.20561096, 150355.40924454, 139504.49584017,\n",
       "       152026.1557705 , 306749.90797959, 122363.94652694, 225118.91525967,\n",
       "       248040.1205024 , 155686.48298966,  49729.17451117, 236490.28721798,\n",
       "       185134.18496067, 150451.83081597, 186638.25817899, 152822.93503349,\n",
       "       120893.92513445,  91393.05359329, 146380.16013094,  37393.61906469,\n",
       "       149372.88796902, 207286.69923478, 171165.12260708, 276363.07488706,\n",
       "       190628.08303829, 156123.23705777, 185013.47121752, 169140.51743247,\n",
       "       217169.39010682, 390265.97409322, 220474.52817216, 206111.73545775,\n",
       "       172044.49296164, 181561.57368813, 275793.49468794, 206657.55530573,\n",
       "       252906.80110546, 250460.6980075 , 124651.14331445, 111310.53045795,\n",
       "       133562.13639004, 145930.7790932 ,  84625.10758215, 165054.21471288,\n",
       "       119863.18736124, 347732.64320337, 199346.67880506, 161883.98039957,\n",
       "       233555.08384781, 195647.83270345, 145515.31451173, 209623.8069881 ,\n",
       "       409354.53431597, 169138.38294425, 169836.68638487,  66855.20899585,\n",
       "       117995.65384369, 316787.56844338, 126263.37370365, 200094.42714582,\n",
       "       167974.98769965, 204800.30539939, 341123.30311435, 104982.60672618,\n",
       "       249020.96203414, 165736.26077094, 144731.32985894, 138303.08056341,\n",
       "       121288.02270645, 286017.95712762, 279134.91752369, 156517.16364997,\n",
       "       134387.5590954 ,  98498.26652415, 315166.59669656, 213996.77299318,\n",
       "        94462.00634397, 138779.02348915, 127146.11426248, 124437.22825643,\n",
       "       211765.75585262, 297869.1709442 , 213820.35239656, 191259.06492486,\n",
       "       252392.27485784, 221888.92569104, 256377.56961135, 138730.4864161 ,\n",
       "       100900.72579818, 310052.10714262, 193154.05208411, 188446.42344049,\n",
       "       138414.20782802, 290267.70224487,  74102.89724355, 226255.94418644,\n",
       "       178213.4289331 , 251184.59006624, 154959.71746644, 192738.02967008,\n",
       "       148524.55305167, 145553.3488447 , 156103.72196902, 141917.19816629,\n",
       "       136314.9809545 , 230738.43113485, 176550.38175116, 171772.25276719,\n",
       "       104324.99281495, 181526.08216768, 173184.6420963 , 185946.94983925,\n",
       "       203781.5497516 , 119753.80488652, 317793.88072719, 245475.50601281,\n",
       "       125625.9930108 , 137197.45002479, 170991.12993593, 149699.26361306,\n",
       "       129024.50905664, 423924.45316444,  62638.97930057, 140605.15943843,\n",
       "       235237.36674898, 140057.21292201, 221867.38211606, 137100.60740117,\n",
       "       245474.91735026, 161556.44392647, 301566.91020266, 172747.51364454,\n",
       "       207209.80270756, 298409.70823875, 158617.93425962, 272921.16608947,\n",
       "       149303.34297244, 132927.52244215, 233210.12335049, 122810.36056321,\n",
       "       133684.74024343, 210571.04521747, 150700.6775433 , 112311.46641806,\n",
       "       170122.31582149, 181172.89257864, 381826.01491369,  96446.42027954,\n",
       "       120910.32786823,  86135.20880963, 160961.14725784, 249560.25262169,\n",
       "       129517.27846634, 261277.12540952, 163153.41742596, 196014.96420274,\n",
       "       235263.93564109, 193987.90742821, 296062.83927992, 181346.66195976,\n",
       "       215703.19443799, 165873.77804337, 243102.7085672 , 240282.89474093,\n",
       "       217213.0907022 , 151326.17557248, 104727.04345305, 155115.4577616 ,\n",
       "       104293.44864298, 225072.95255238,  98416.76053185, 104552.29796492,\n",
       "       189428.64399793, 153814.54786419, 115525.90103969, 138865.24235454,\n",
       "       317991.18906332, 167364.50880291, 166285.44718744, 234079.42262103,\n",
       "       200268.04801659, 238514.11836564,  81782.69280449, 112002.45980441,\n",
       "       155017.10314941, 175061.14505176, 105710.27214285, 351316.38669927,\n",
       "       134724.56104982, 179475.35281842, 228083.25776552, 333056.47202635,\n",
       "       138977.87359223, 182272.6143769 , 142651.00506499, 163692.2921402 ,\n",
       "       154270.43060772, 289204.93997679, 236424.120038  , 156250.2456473 ,\n",
       "       116549.57210204, 338898.05333284, 145617.02367942, 142289.56684224,\n",
       "       120514.34216527, 196845.50350376, 225246.16011898, 230955.13351058,\n",
       "       141741.62419551, 160519.66549164, 169388.82930658, 251567.58917034,\n",
       "       211985.72396653, 106325.3244221 , 160562.3645232 , 159483.64291457,\n",
       "       168776.48310768, 127493.95712421, 149062.62547433, 171086.31128875,\n",
       "        99226.66170334, 240409.17297474,  90050.93598243, 197648.79180205,\n",
       "       106355.36901445, 360728.80237941, 140202.37541873, 121930.92369237,\n",
       "       156234.44224314, 173622.19447108, 195298.70333435, 193549.45077939,\n",
       "       288784.49961479, 171789.31303475, 188353.77077839, 266573.35786811,\n",
       "       332360.06108244, 212204.02530594, 173432.09904256, 216387.64771206,\n",
       "       131402.8085992 , 103529.18632018, 125507.26135674])"
      ]
     },
     "execution_count": 134,
     "metadata": {},
     "output_type": "execute_result"
    }
   ],
   "source": [
    "X = ames_test_clean[top25_columns]\n",
    "X_scaled = ss.transform(X)\n",
    "y_pred_ridge = ridge_cv.predict(X_scaled)\n",
    "y_pred_ridge"
   ]
  },
  {
   "cell_type": "code",
   "execution_count": 135,
   "metadata": {},
   "outputs": [
    {
     "data": {
      "text/plain": [
       "Id\n",
       "2658    135087.763027\n",
       "2718    157271.491693\n",
       "2414    216019.870879\n",
       "1989    113725.131004\n",
       "625     175963.705567\n",
       "            ...      \n",
       "1662    173432.099043\n",
       "1234    216387.647712\n",
       "1373    131402.808599\n",
       "1672    103529.186320\n",
       "1939    125507.261357\n",
       "Name: SalePrice, Length: 879, dtype: float64"
      ]
     },
     "execution_count": 135,
     "metadata": {},
     "output_type": "execute_result"
    }
   ],
   "source": [
    "ames_test_clean['SalePrice'] = y_pred_ridge \n",
    "ames_test_clean['SalePrice']"
   ]
  },
  {
   "cell_type": "code",
   "execution_count": 136,
   "metadata": {},
   "outputs": [
    {
     "data": {
      "text/html": [
       "<div>\n",
       "<style scoped>\n",
       "    .dataframe tbody tr th:only-of-type {\n",
       "        vertical-align: middle;\n",
       "    }\n",
       "\n",
       "    .dataframe tbody tr th {\n",
       "        vertical-align: top;\n",
       "    }\n",
       "\n",
       "    .dataframe thead th {\n",
       "        text-align: right;\n",
       "    }\n",
       "</style>\n",
       "<table border=\"1\" class=\"dataframe\">\n",
       "  <thead>\n",
       "    <tr style=\"text-align: right;\">\n",
       "      <th></th>\n",
       "      <th>SalePrice</th>\n",
       "    </tr>\n",
       "    <tr>\n",
       "      <th>Id</th>\n",
       "      <th></th>\n",
       "    </tr>\n",
       "  </thead>\n",
       "  <tbody>\n",
       "    <tr>\n",
       "      <th>2658</th>\n",
       "      <td>135087.763027</td>\n",
       "    </tr>\n",
       "    <tr>\n",
       "      <th>2718</th>\n",
       "      <td>157271.491693</td>\n",
       "    </tr>\n",
       "    <tr>\n",
       "      <th>2414</th>\n",
       "      <td>216019.870879</td>\n",
       "    </tr>\n",
       "    <tr>\n",
       "      <th>1989</th>\n",
       "      <td>113725.131004</td>\n",
       "    </tr>\n",
       "    <tr>\n",
       "      <th>625</th>\n",
       "      <td>175963.705567</td>\n",
       "    </tr>\n",
       "  </tbody>\n",
       "</table>\n",
       "</div>"
      ],
      "text/plain": [
       "          SalePrice\n",
       "Id                 \n",
       "2658  135087.763027\n",
       "2718  157271.491693\n",
       "2414  216019.870879\n",
       "1989  113725.131004\n",
       "625   175963.705567"
      ]
     },
     "execution_count": 136,
     "metadata": {},
     "output_type": "execute_result"
    }
   ],
   "source": [
    "ames_ridge_test = pd.DataFrame(ames_test_clean['SalePrice'])\n",
    "ames_ridge_test.head()"
   ]
  },
  {
   "cell_type": "code",
   "execution_count": 137,
   "metadata": {},
   "outputs": [],
   "source": [
    "#Saving dataset\n",
    "submission = ames_ridge_test.to_csv('../datasets/submission.csv')"
   ]
  },
  {
   "cell_type": "markdown",
   "metadata": {},
   "source": [
    "Kaggle Score: 30295.65224 (RMSE)"
   ]
  },
  {
   "cell_type": "code",
   "execution_count": 138,
   "metadata": {},
   "outputs": [
    {
     "data": {
      "text/plain": [
       "<matplotlib.axes._subplots.AxesSubplot at 0x7ffc38940b90>"
      ]
     },
     "execution_count": 138,
     "metadata": {},
     "output_type": "execute_result"
    },
    {
     "data": {
      "image/png": "[encoded data removed]",
      "text/plain": [
       "<Figure size 1080x720 with 1 Axes>"
      ]
     },
     "metadata": {
      "needs_background": "light"
     },
     "output_type": "display_data"
    }
   ],
   "source": [
    "#Examining top predictors\n",
    "pd.Series(ridge_cv.coef_, index=top25_columns).sort_values(ascending=False).plot.bar(figsize=(15,10))"
   ]
  },
  {
   "cell_type": "code",
   "execution_count": 139,
   "metadata": {},
   "outputs": [
    {
     "data": {
      "text/plain": [
       "Gr Liv Area             19556.521119\n",
       "Overall Qual            16367.415010\n",
       "Neighborhood_NridgHt     8475.543558\n",
       "Exter Qual               7582.397140\n",
       "BsmtFin SF 1             8033.679456\n",
       "Neighborhood_StoneBr     7613.208009\n",
       "Kitchen Qual             5204.864858\n",
       "Bsmt Exposure            5875.416792\n",
       "Garage Area              5103.947600\n",
       "Bsmt Qual                5411.066122\n",
       "MS SubClass_20           6017.548291\n",
       "Lot Area                 4399.023370\n",
       "Neighborhood_NoRidge     5387.461029\n",
       "Fireplaces               3692.733603\n",
       "Mas Vnr Area             2675.374259\n",
       "Neighborhood_Crawfor     3754.698248\n",
       "Exterior 1st_BrkFace     3450.678200\n",
       "Roof Style_Hip           2321.821413\n",
       "Year Remod/Add           3568.391450\n",
       "Neighborhood_GrnHill     3255.727866\n",
       "TotRms AbvGrd            2659.484821\n",
       "Lot Frontage             2259.944726\n",
       "Heating QC               2561.839871\n",
       "Lot Config_CulDSac       2073.534963\n",
       "Garage Cars               808.560863\n",
       "dtype: float64"
      ]
     },
     "execution_count": 139,
     "metadata": {},
     "output_type": "execute_result"
    }
   ],
   "source": [
    "pd.Series(ridge_cv.coef_, index=top25_columns)"
   ]
  },
  {
   "cell_type": "markdown",
   "metadata": {},
   "source": [
    "<i> The values showcase how a unit increase in the variables above, can increase the sale price of a house. <br>\n",
    "\n",
    "As expected, factors such as Greater Living Area, Overall Quality, External Quality and Kitchen Quality influence price. \n",
    "    \n",
    "<br> \n",
    "We also observe that being situated in certain neighborhoods, such as Northridge Heights, Stonebrook and Northridge can increase the sale price.\n",
    "    \n",
    "<br>\n",
    "Less intuitive, perhaps, are factors such as basement finish and masonry veneer area, which seem to have a significant influence on price."
   ]
  },
  {
   "cell_type": "markdown",
   "metadata": {},
   "source": [
    "## Business Recommendations"
   ]
  },
  {
   "cell_type": "markdown",
   "metadata": {},
   "source": [
    "<i> Using the ridge model, NexProp can help prospective sellers get a fairly close estimate of the sale price of their house, given its features. \n",
    "    \n",
    "While factors such as living area, neighborhood, lot frontage and lot configuration can't much be changed, quality of the house also plays a key role in making it more attractive to the market. NexProp can help prospective sellers focus on improving the overall quality, external quality, kitchen and basement quality of their houses. Prospective sellers may also consider remodelling to increase the value of their property. If remodelling, it is worth noting that brick face exteriors and hip style roofs command greater value. \n",
    "\n",
    "Overall, the model will help NexProp and its customers in being market-ready. However, it is worth noting that the model may not perform well in predicting properties with higher SalePrice as the current dataset did not have many datapoints for higher-priced properties. Also, the existing model is based closely on the housing features within the Ames housing dataset. To make it more generalizable to other areas, NexProp will need to focus more closely on universal housing features such as area, rooms, facilities etc. </i>"
   ]
  }
 ],
 "metadata": {
  "kernelspec": {
   "display_name": "Python 3",
   "language": "python",
   "name": "python3"
  },
  "language_info": {
   "codemirror_mode": {
    "name": "ipython",
    "version": 3
   },
   "file_extension": ".py",
   "mimetype": "text/x-python",
   "name": "python",
   "nbconvert_exporter": "python",
   "pygments_lexer": "ipython3",
   "version": "3.7.6"
  }
 },
 "nbformat": 4,
 "nbformat_minor": 1
}
